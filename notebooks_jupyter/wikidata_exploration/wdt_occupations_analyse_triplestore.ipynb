{
 "cells": [
  {
   "cell_type": "markdown",
   "id": "9150426b-5190-4539-8204-61253a0f1bd4",
   "metadata": {},
   "source": [
    "# Analyse des occupations et des profils des acteurs à l'époque moderne et contemporaine \n",
    "\n",
    "Dans ce carnet la méthode d'analyse de correspondances multiples est appliquée afin de mettre en évidence les profils des acteurs dans le champ scientifique de l'astronomie et de la physique.\n",
    "\n",
    "Pour des raisons d'effectifs et de cohérence culturelle l'analyse est effectuée sur les époques moderne (avant 1801) et contemporaine (après 1801) séparément"
   ]
  },
  {
   "cell_type": "code",
   "execution_count": null,
   "id": "f2085427-bf14-40c6-8939-b74d38f31d16",
   "metadata": {
    "metadata": {},
    "tags": []
   },
   "outputs": [],
   "source": [
    "from SPARQLWrapper import SPARQLWrapper, JSON, TURTLE, XML, RDFXML\n",
    "\n",
    "import pandas as pd\n",
    "import matplotlib.pyplot as plt\n",
    "import numpy as np\n"
   ]
  },
  {
   "cell_type": "code",
   "execution_count": null,
   "id": "15eeca59",
   "metadata": {},
   "outputs": [],
   "source": [
    "\n",
    "import seaborn as sns"
   ]
  },
  {
   "cell_type": "code",
   "execution_count": null,
   "id": "e6ce0f0e-db36-47cd-8015-a5bf33f0f7fa",
   "metadata": {
    "metadata": {},
    "tags": []
   },
   "outputs": [],
   "source": [
    "### Librairies déjà installées avec Python\n",
    "import pprint\n",
    "import sqlite3 as sql\n",
    "\n",
    "import pprint\n",
    "import csv\n",
    "import sys\n",
    "\n",
    "\n",
    "import time\n",
    "import datetime\n",
    "from dateutil import parser\n",
    "\n",
    "from importlib import reload\n",
    "from shutil import copyfile\n"
   ]
  },
  {
   "cell_type": "code",
   "execution_count": null,
   "id": "dcd9941f",
   "metadata": {},
   "outputs": [],
   "source": [
    "### https://mwouts.github.io/itables/quick_start.html\n",
    "\n",
    "from itables import init_notebook_mode, show\n",
    "\n",
    "init_notebook_mode(all_interactive=False)"
   ]
  },
  {
   "cell_type": "code",
   "execution_count": null,
   "id": "707a3b6f",
   "metadata": {},
   "outputs": [],
   "source": [
    "from fanalysis.ca import CA \n",
    "from fanalysis.mca import MCA"
   ]
  },
  {
   "cell_type": "code",
   "execution_count": null,
   "id": "dcf7f231",
   "metadata": {},
   "outputs": [],
   "source": [
    "### Importer un module de fonctions crées ad hoc\n",
    "##  ATTENTION : le fichier 'sparql_functions.py' doit se trouver \n",
    "#   dans un dossier qui se situe dans le chemin ('path') de recherche\n",
    "#   vu par le présent carnet Jupyter afin que\n",
    "#   l'importation fonctionne correctement\n",
    "\n",
    "# Add parent directory to the path\n",
    "sys.path.insert(0, '..')\n",
    "\n",
    "### If you want to add the parent-parent directory,\n",
    "sys.path.insert(0, '../..')\n",
    "\n",
    "\n",
    "import sparql_functions as spqf"
   ]
  },
  {
   "cell_type": "markdown",
   "id": "61cf955b-aaca-446c-a957-47b86a4ea610",
   "metadata": {},
   "source": [
    "## Importer les données à analyser\n",
    "\n",
    "On exécute une requête SQL sur la base de données qui recompose les données et effectue un premier codage."
   ]
  },
  {
   "cell_type": "code",
   "execution_count": null,
   "id": "00b2f7ff-7d67-4602-9b1e-38dd37809a75",
   "metadata": {
    "metadata": {}
   },
   "outputs": [],
   "source": [
    "### Se connecter à la base de données dans laquelle on va insérer\n",
    "# le résultat de la requête SPARQL\n",
    "cn = sql.connect('../../data/astronomers_import.db')\n",
    "cn"
   ]
  },
  {
   "cell_type": "code",
   "execution_count": null,
   "id": "3fe93215",
   "metadata": {},
   "outputs": [],
   "source": [
    "### Importer un module de fonctions crées ad hoc\n",
    "##  ATTENTION : le fichier 'sparql_functions.py' doit se trouver \n",
    "#   dans un dossier qui se situe dans le chemin ('path') de recherche\n",
    "#   vu par le présent carnet Jupyter afin que\n",
    "#   l'importation fonctionne correctement\n",
    "\n",
    "# Add parent directory to the path\n",
    "sys.path.insert(0, '..')\n",
    "\n",
    "### If you want to add the parent-parent directory,\n",
    "sys.path.insert(0, '../..')\n",
    "\n",
    "\n",
    "import sparql_functions as spqf"
   ]
  },
  {
   "cell_type": "code",
   "execution_count": null,
   "id": "a28e6ce2",
   "metadata": {
    "metadata": {}
   },
   "outputs": [],
   "source": [
    "qr = \"\"\"\n",
    "PREFIX wd: <http://www.wikidata.org/entity/>\n",
    "PREFIX wdt: <http://www.wikidata.org/prop/direct/>\n",
    "PREFIX rdfs: <http://www.w3.org/2000/01/rdf-schema#>\n",
    "PREFIX rdf: <http://www.w3.org/1999/02/22-rdf-syntax-ns#>\n",
    "PREFIX wikibase: <http://wikiba.se/ontology#>\n",
    "PREFIX bd: <http://www.bigdata.com/rdf#>\n",
    "PREFIX franzOption_defaultDatasetBehavior: <franz:rdf>\n",
    "\n",
    "SELECT DISTINCT ?item ?occupation ?occupationLabel ?occupation_1 ?occupation_1Label\n",
    "WHERE\n",
    "  {GRAPH <https://github.com/Sciences-historiques-numeriques/astronomers/blob/main/graphs/wikidata-imported-data.md>\n",
    "     {\n",
    "      ?item wdt:P106 ?occupation.\n",
    "      ?item wdt:P106 ?occupation_1.\n",
    "      FILTER (str(?occupation) < str(?occupation_1))\n",
    "      ?occupation rdfs:label ?occupationLabel.\n",
    "      ?occupation_1 rdfs:label ?occupation_1Label.\n",
    "     } \n",
    "\n",
    "      }\n",
    "\"\"\""
   ]
  },
  {
   "cell_type": "code",
   "execution_count": null,
   "id": "34f32038-ae06-47de-8a52-fc50cdfb2da9",
   "metadata": {
    "metadata": {}
   },
   "outputs": [],
   "source": [
    "### Vérifier que les données ont été importées correctement\n",
    "cur = cn.cursor()\n",
    "l = cur.execute(qr).fetchall()"
   ]
  },
  {
   "cell_type": "code",
   "execution_count": null,
   "id": "cab228ba",
   "metadata": {
    "metadata": {}
   },
   "outputs": [],
   "source": [
    "### Inspection des premières lignes\n",
    "print(len(l))\n",
    "l[:3]"
   ]
  },
  {
   "cell_type": "code",
   "execution_count": null,
   "id": "8d825e48",
   "metadata": {},
   "outputs": [],
   "source": [
    "df_orig = pd.DataFrame(l, columns=['uri', 'nom', 'gender', 'annee_nais',\n",
    "                     'eff_occupations', 'liste_occup', 'origine_geog'])\n",
    "df_orig.info()"
   ]
  },
  {
   "cell_type": "code",
   "execution_count": null,
   "id": "9549268e",
   "metadata": {},
   "outputs": [],
   "source": [
    "### Inspection des données \n",
    "show(df_orig[df_orig.annee_nais < '1901' ].sort_values(by='annee_nais', ascending=True), \n",
    "    scrollY=\"300px\",\n",
    "     scrollCollapse=True, paging=False, layout={\"topEnd\": None}, \n",
    "     showIndex=False, column_filters=\"header\", columnDefs=[{\"className\": \"dt-left\", \"targets\": \"_all\"}],\n",
    "     # https://mwouts.github.io/itables/downsampling.html\n",
    "       maxBytes=0)"
   ]
  },
  {
   "cell_type": "code",
   "execution_count": null,
   "id": "23cc9e3d",
   "metadata": {},
   "outputs": [],
   "source": [
    "### Distribution du nombre d'occupations par personne:\n",
    "# combien de personnes ont plus qu'une occupation?\n",
    "# Période contemporaine\n",
    "\n",
    "dfs = df_orig[(df_orig.annee_nais > '1800') & (df_orig.annee_nais < '1981') ].groupby(by='eff_occupations')\\\n",
    "    .size()\n",
    "print('Total:', sum(dfs))\n",
    "dfs"
   ]
  },
  {
   "cell_type": "code",
   "execution_count": null,
   "id": "ea2c1f99",
   "metadata": {},
   "outputs": [],
   "source": [
    "### Distribution du nombre d'occupations par personne\n",
    "# Période moderne\n",
    "\n",
    "dfs = df_orig[(df_orig.annee_nais < '1801') ].groupby(by='eff_occupations')\\\n",
    "    .size()\n",
    "print('Total:', sum(dfs))\n",
    "dfs"
   ]
  },
  {
   "cell_type": "markdown",
   "id": "fd8c8944",
   "metadata": {},
   "source": [
    "## Codage des occupations"
   ]
  },
  {
   "cell_type": "markdown",
   "id": "e59035d1",
   "metadata": {},
   "source": [
    "### Création de la fonction de codage\n",
    "\n",
    "On choisit parmi les modalités de la variable trois catégories dont le sens est différent:\n",
    "* la première est la catégorie principale, celle qui a permis de constituer la population\n",
    "* la deuxième est plus liée à la notion d'activité et non de domaine scientifique\n",
    "* la troisième, comme la première, relève du domaine scientifique\n",
    "\n",
    "\n",
    "À noter que l'ordre des disciplines compte: le fonction qu'on va construire utilise toujours la première modalité rencontrée pour chaque catégorie, et cesse ensuite de chercher.\n",
    "\n",
    "\n",
    "Dans le choix de l'ordre on a choisi ici de mettre en premier les modalités rares ou plus intéressantes dans une logique de domaine d'études mais on pourrait faire autrement et on consruit ici __un modèle de codage__ qui n'est pas absolu et qu'il faudra expliciter dans le rendu du travail car il influence les résultats."
   ]
  },
  {
   "cell_type": "code",
   "execution_count": null,
   "id": "1baf2b72",
   "metadata": {
    "metadata": {}
   },
   "outputs": [],
   "source": [
    "# Disciplines principales, disc_princ\n",
    "a = ['Astrologie', 'Astronomie', 'Physique']\n",
    "\n",
    "# Activités, activites\n",
    "b = ['Clerc', 'Ingenieur', 'Chercheur',  'Politique_droit', 'Economie','Enseignant']\n",
    "\n",
    "# Autres disciplines, disc_autres\n",
    "c = ['Medecine', 'Philosophie', 'Lettres', 'Arts',  'SHS', 'Pharmacie_chimie', 'Autres_sciences','Mathematiques']\n"
   ]
  },
  {
   "cell_type": "code",
   "execution_count": null,
   "id": "7c661ba4",
   "metadata": {},
   "outputs": [],
   "source": [
    "### Ajout de colonnes supplémentaires sur toute la table\n",
    "\n",
    "## Dans la fonction, on met la liste à coder (l) et les listes des objets en argument\n",
    "\n",
    "def coder(l, a, b, c):\n",
    "    \n",
    "    ll = []\n",
    "\n",
    "    ## si il n'y a pas d'autres disciplines\n",
    "    # complète avec disciplines principales additionnelles\n",
    "    d = c + a\n",
    "\n",
    "    for e in l:\n",
    "\n",
    "        e = list(e)\n",
    "        \n",
    "        o1 = ''\n",
    "        for el in a:\n",
    "            # dès que la variable o1 est remplie sort de la boucle\n",
    "            if el in e[5] and len(o1) == 0:\n",
    "                o1 = el\n",
    "                e.append('d1_'+ el)   \n",
    "        if not(len(o1) > 0):\n",
    "            e.append('d1_nr')\n",
    "\n",
    "        o2 = ''\n",
    "        for el in b:\n",
    "            if el in e[5] and len(o2) == 0:\n",
    "                o2 = el\n",
    "                e.append('d2_'+ o2)\n",
    "        if not(len(o2) > 0):\n",
    "            e.append('d2_nr')\n",
    "\n",
    "\n",
    "        o3 = ''\n",
    "        for el in d:\n",
    "            if el in e[5] and len(o3) == 0\\\n",
    "                    and el != o1:\n",
    "                o3 = el\n",
    "                e.append('d3_'+ o3)\n",
    "        if not(len(o3) > 0):\n",
    "            e.append('d3_nr')\n",
    "\n",
    "        o4 = ''\n",
    "        for el in d:\n",
    "            if len(o4) == 0 and el in e[5]\\\n",
    "                    and el != o3 and el != o1:\n",
    "                o4 = el\n",
    "                e.append('d4_'+ o4)\n",
    "        if not(len(o4) > 0):\n",
    "            e.append('d4_nr')\n",
    "\n",
    "        ll.append(e)\n",
    "\n",
    "    return ll"
   ]
  },
  {
   "cell_type": "code",
   "execution_count": null,
   "id": "142c232d",
   "metadata": {},
   "outputs": [],
   "source": [
    "ll = coder(l, a, b, c)"
   ]
  },
  {
   "cell_type": "code",
   "execution_count": null,
   "id": "a2da5aa8",
   "metadata": {
    "metadata": {}
   },
   "outputs": [],
   "source": [
    "pprint.pprint(ll[103:110])"
   ]
  },
  {
   "cell_type": "code",
   "execution_count": null,
   "id": "7caf55a0",
   "metadata": {},
   "outputs": [],
   "source": [
    "len(l),len(ll), ll[301:305]"
   ]
  },
  {
   "cell_type": "code",
   "execution_count": null,
   "id": "e12d75c2",
   "metadata": {},
   "outputs": [],
   "source": [
    "# La deuxième variable (a1) est considérée comme une activité et non une occupation\n",
    "df_ll = pd.DataFrame(ll, columns=['uri', 'nom', 'genre', 'annee_nais',\n",
    "                     'eff_occupations', 'liste_occup', 'origine_geog', 'o1', 'a1', 'o2', 'o3'])\n",
    "df_ll.info()"
   ]
  },
  {
   "cell_type": "code",
   "execution_count": null,
   "id": "50b82ee5",
   "metadata": {},
   "outputs": [],
   "source": [
    "df_ll.groupby(by='o1').size().sort_values(ascending=False)"
   ]
  },
  {
   "cell_type": "code",
   "execution_count": null,
   "id": "c0221dc4",
   "metadata": {},
   "outputs": [],
   "source": [
    "df_ll.groupby(by='a1').size().sort_values(ascending=False)"
   ]
  },
  {
   "cell_type": "code",
   "execution_count": null,
   "id": "4866f19b",
   "metadata": {},
   "outputs": [],
   "source": [
    "df_ll[df_ll.o3 != 'd4_nr'].groupby(by='a1').size().sort_values(ascending=False)"
   ]
  },
  {
   "cell_type": "code",
   "execution_count": null,
   "id": "078b066d",
   "metadata": {},
   "outputs": [],
   "source": [
    "df_ll.groupby(by='o2').size().sort_values(ascending=False)"
   ]
  },
  {
   "cell_type": "code",
   "execution_count": null,
   "id": "95d84fd8",
   "metadata": {},
   "outputs": [],
   "source": [
    "df_ll.groupby(by='o3').size().sort_values(ascending=False)"
   ]
  },
  {
   "cell_type": "markdown",
   "id": "de7ed654",
   "metadata": {},
   "source": [
    "### Codage par période de cinquante ans"
   ]
  },
  {
   "cell_type": "code",
   "execution_count": null,
   "id": "ee8ad0f5",
   "metadata": {},
   "outputs": [],
   "source": [
    "### On transforme le type de valeur de la colonne BirthYear\n",
    "# de objet à entier\n",
    "df_ll['annee_nais'] = df_ll['annee_nais'].astype(int)"
   ]
  },
  {
   "cell_type": "code",
   "execution_count": null,
   "id": "352c3e18",
   "metadata": {},
   "outputs": [],
   "source": [
    "### Créer une copie indépendante du DataFrame (attention aux copies de variables qui sont seulement des alias) \n",
    "cdf_p = df_ll[df_ll['annee_nais'] < 1981].copy(deep=True)\n",
    "cdf_p.head(3)"
   ]
  },
  {
   "cell_type": "code",
   "execution_count": null,
   "id": "3a0bb00a",
   "metadata": {},
   "outputs": [],
   "source": [
    "### Année minimale et maximale dans la population\n",
    "min(cdf_p['annee_nais']), max(cdf_p['annee_nais'])"
   ]
  },
  {
   "cell_type": "code",
   "execution_count": null,
   "id": "ea552a46",
   "metadata": {},
   "outputs": [],
   "source": [
    "### Créer une liste d'années pour séparer en périodes de 25 ans\n",
    "# noter que la dernière année sera exclue, \n",
    "# elle donc doit être supérieure à la valeur maximale \n",
    "l_50 = list(range(1351, 2002, 50))\n",
    "l_50[:5],l_50[-5:]"
   ]
  },
  {
   "cell_type": "code",
   "execution_count": null,
   "id": "22422556",
   "metadata": {},
   "outputs": [],
   "source": [
    "### fonction pd.cut : https://pandas.pydata.org/pandas-docs/stable/reference/api/pandas.cut.html\n",
    "# On ajoute une nouvelle colonne qui contient la période sur la base de la liste précédente\n",
    "# et de la valeur de l'année\n",
    "\n",
    "cdf_p['periodes'] = pd.cut(cdf_p['annee_nais'], l_50, right=False)\n",
    "\n",
    "### Transformer le code ajouté pour qu'il soit plus lisible\n",
    "# noter qu'on a arrondi les valeurs\n",
    "cdf_p['periodes'] = cdf_p['periodes'].apply(lambda x : str(int(x.left))+'-'+ str(int(x.right)-1))\n",
    "\n",
    "# Inspection\n",
    "cdf_p.head(3)"
   ]
  },
  {
   "cell_type": "code",
   "execution_count": null,
   "id": "5c4be8a8",
   "metadata": {},
   "outputs": [],
   "source": [
    "cdf_p[cdf_p.annee_nais == 1980][:3]"
   ]
  },
  {
   "cell_type": "code",
   "execution_count": null,
   "id": "5a98efa2",
   "metadata": {},
   "outputs": [],
   "source": [
    "### compter les naissances par périodes de 50 ans\n",
    "ax = cdf_p.groupby(by='periodes', observed=True).size().plot(kind='bar',rot=60, fontsize=8, figsize=(16,8))\n",
    "ax.bar_label(ax.containers[0], fontsize=12)\n",
    "\n",
    "plt.ylabel('Effectif')\n",
    "plt.xlabel('Périodes')\n",
    "plt.title('Naissances par périodes de cinquante ans')\n",
    "plt.show()"
   ]
  },
  {
   "cell_type": "markdown",
   "id": "88b15472",
   "metadata": {},
   "source": [
    "## MCA de la période avant 1801"
   ]
  },
  {
   "cell_type": "markdown",
   "id": "16e2aff2",
   "metadata": {},
   "source": [
    "### Tableau à analyser\n",
    "\n",
    "Étant donné qu'on a observé de grandes différences d'effectifs pour les différentes périodes, on sépare deux périodes: une avant 1801 (appelée moderne), l'autre à partir de cette date (appelée contemporaine). Et on les analyse séparément.\n",
    "\n",
    "\n",
    "On explore d'abord la distribution des différentes variables pour la première période.\n",
    "\n"
   ]
  },
  {
   "cell_type": "code",
   "execution_count": null,
   "id": "ec8eca60",
   "metadata": {},
   "outputs": [],
   "source": [
    "### On notera l'effectif trop important des individus pour lesquels cette variable\n",
    "# n'est pas renseignée. Mieux vaudra ne pas l'utiliser\n",
    "cdf_p[cdf_p.annee_nais < 1801].groupby(by='o3').size().sort_values(ascending=False)"
   ]
  },
  {
   "cell_type": "code",
   "execution_count": null,
   "id": "8dc52fa4",
   "metadata": {},
   "outputs": [],
   "source": [
    "df_d3 = cdf_p[cdf_p.annee_nais < 1801].groupby(by='o2').size().sort_values(ascending=False)\n",
    "df_d3"
   ]
  },
  {
   "cell_type": "code",
   "execution_count": null,
   "id": "33e35578",
   "metadata": {},
   "outputs": [],
   "source": [
    "## exclure les modalités moins fréquentes\n",
    "l_d3 = df_d3.index.to_list()[:-2]\n",
    "print(l_d3)"
   ]
  },
  {
   "cell_type": "code",
   "execution_count": null,
   "id": "bdf8ebf5",
   "metadata": {},
   "outputs": [],
   "source": [
    "df_d2 = cdf_p[cdf_p.annee_nais < 1801].groupby(by='a1').size().sort_values(ascending=False)\n",
    "df_d2"
   ]
  },
  {
   "cell_type": "code",
   "execution_count": null,
   "id": "819c64d8",
   "metadata": {},
   "outputs": [],
   "source": [
    "## exclure les modalités moins fréquentes\n",
    "l_d2 = df_d2.index.to_list()[:-1]\n",
    "print(l_d2)"
   ]
  },
  {
   "cell_type": "code",
   "execution_count": null,
   "id": "8c8352d9",
   "metadata": {},
   "outputs": [],
   "source": [
    "cdf_p[cdf_p.annee_nais < 1801].groupby(by='o1').size().sort_values(ascending=False)"
   ]
  },
  {
   "cell_type": "code",
   "execution_count": null,
   "id": "62cecbe8",
   "metadata": {},
   "outputs": [],
   "source": [
    "cdf_p[cdf_p.annee_nais < 1801].groupby(by='periodes', observed=True).size().sort_values(ascending=False)"
   ]
  },
  {
   "cell_type": "code",
   "execution_count": null,
   "id": "77f1c362",
   "metadata": {},
   "outputs": [],
   "source": [
    "cdf_og = cdf_p[cdf_p.annee_nais < 1801].groupby(by='origine_geog', observed=True).size().sort_values(ascending=False)\n",
    "cdf_og"
   ]
  },
  {
   "cell_type": "code",
   "execution_count": null,
   "id": "6166c71a",
   "metadata": {},
   "outputs": [],
   "source": [
    "## exclure les modalités moins fréquentes\n",
    "l_og = cdf_og.index.to_list()[:-3]\n",
    "print(l_og)"
   ]
  },
  {
   "cell_type": "markdown",
   "id": "b44e667b",
   "metadata": {},
   "source": [
    "### Préparer le tableau à analyser\n",
    "\n",
    "Il est nécessaire de recoder le tableau pour ne pas avoir des variables avec modalités vides: on utilise donc un nouveau tableau avec les individus nés avant 1801.\n",
    "\n",
    "\n",
    "Aussi, si on n'enlève pas les modalités les moins fréquentes (cf. distributions ci-dessus) elles impactent massivement l'analyse factorielle des correspondances multiples, car les modalités les moins fréquentes apportent le plus de variation. On doit donc inspecter manuellement les profils rares mais les exclure de l'ACM pour mettre en évidence des structures plus importantes.\n",
    "\n",
    "\n",
    "Le bon dosage dépend des questions de recherche."
   ]
  },
  {
   "cell_type": "code",
   "execution_count": null,
   "id": "be3c1b63",
   "metadata": {},
   "outputs": [],
   "source": [
    "### Créer une copie indépendante du DataFrame \n",
    "# tout en éliminant les modalités peu fréquentes \n",
    "cdf_mod = df_ll[(df_ll['annee_nais'] < 1801)\\\n",
    "                & (df_ll.origine_geog.isin(l_og))\\\n",
    "                & (df_ll.a1.isin(l_d2))\\\n",
    "                & (df_ll.o2.isin(l_d3))]\\\n",
    "                    .copy(deep=True).reset_index(names='orig_index')\n",
    "print(len(cdf_mod))\n",
    "cdf_mod.head(3)"
   ]
  },
  {
   "cell_type": "code",
   "execution_count": null,
   "id": "772df15f",
   "metadata": {},
   "outputs": [],
   "source": [
    "max(cdf_mod.index)"
   ]
  },
  {
   "cell_type": "code",
   "execution_count": null,
   "id": "3a568c4b",
   "metadata": {},
   "outputs": [],
   "source": [
    "### Année minimale et maximale dans la population\n",
    "min(cdf_mod['annee_nais']), max(cdf_mod['annee_nais'])"
   ]
  },
  {
   "cell_type": "code",
   "execution_count": null,
   "id": "df97bd67",
   "metadata": {},
   "outputs": [],
   "source": [
    "### Créer une liste d'années pour séparer en périodes de 25 ans\n",
    "# noter que la dernière année sera exclue, \n",
    "# elle donc doit être supérieure à la valeur maximale \n",
    "l_50 = list(range(1351, 1802, 50))\n",
    "l_50[:5],l_50[-5:]"
   ]
  },
  {
   "cell_type": "code",
   "execution_count": null,
   "id": "9084a39d",
   "metadata": {},
   "outputs": [],
   "source": [
    "### fonction pd.cut : https://pandas.pydata.org/pandas-docs/stable/reference/api/pandas.cut.html\n",
    "# On ajoute une nouvelle colonne qui contient la période sur la base de la liste précédente\n",
    "# et de la valeur de l'année\n",
    "\n",
    "cdf_mod['periodes'] = pd.cut(cdf_mod['annee_nais'], l_50, right=False)\n",
    "\n",
    "### Transformer le code ajouté pour qu'il soit plus lisible\n",
    "# noter qu'on a arrondi les valeurs\n",
    "cdf_mod['periodes'] = cdf_mod['periodes'].apply(lambda x : str(int(x.left))+'-'+ str(int(x.right)-1))\n",
    "\n",
    "# Inspection\n",
    "cdf_mod.head(3)"
   ]
  },
  {
   "cell_type": "code",
   "execution_count": null,
   "id": "d8abc2a4",
   "metadata": {},
   "outputs": [],
   "source": [
    "### compter les naissances par périodes de 50 ans\n",
    "ax = cdf_mod.groupby(by='periodes', observed=True).size().plot(kind='bar',rot=60, fontsize=8, figsize=(16,8))\n",
    "ax.bar_label(ax.containers[0], fontsize=12)\n",
    "\n",
    "plt.ylabel('Effectif')\n",
    "plt.xlabel('Périodes')\n",
    "plt.title('Naissances par périodes de cinquante ans')\n",
    "plt.show()"
   ]
  },
  {
   "cell_type": "code",
   "execution_count": null,
   "id": "d8aace40",
   "metadata": {},
   "outputs": [],
   "source": [
    "DActives = cdf_mod[['periodes', 'origine_geog',\n",
    " 'o1', 'a1', 'o2']].copy(deep=True)"
   ]
  },
  {
   "cell_type": "code",
   "execution_count": null,
   "id": "fa72c2b0",
   "metadata": {},
   "outputs": [],
   "source": [
    "DActives.groupby(by='periodes', observed=False).size()"
   ]
  },
  {
   "cell_type": "code",
   "execution_count": null,
   "id": "f34d3a6c",
   "metadata": {},
   "outputs": [],
   "source": [
    "DActives.groupby(by='origine_geog', observed=True).size().sort_values(ascending=False)\n"
   ]
  },
  {
   "cell_type": "code",
   "execution_count": null,
   "id": "6fe80771",
   "metadata": {},
   "outputs": [],
   "source": [
    "### Structure du tableau à analyser\n",
    "# nombre de variables\n",
    "p = DActives.shape[1]\n",
    "# nombre d'observations\n",
    "n = DActives.shape[0]\n",
    "print('Nombre variables:', p, 'Nombre lignes:', n)\n",
    "# codage en 0/1\n",
    "X = pd.get_dummies(DActives,prefix='',prefix_sep='')*1\n"
   ]
  },
  {
   "cell_type": "markdown",
   "id": "8431c7c4",
   "metadata": {},
   "source": [
    "### Distance des individus par rapport au profil moyen"
   ]
  },
  {
   "cell_type": "code",
   "execution_count": null,
   "id": "bdf5dffd",
   "metadata": {},
   "outputs": [],
   "source": [
    "#Calcul du profil de l'individu moyen\n",
    "ind_moy = np.sum(X.values,axis=0)/(n*p)\n",
    "print(ind_moy)"
   ]
  },
  {
   "cell_type": "code",
   "execution_count": null,
   "id": "8caeb696",
   "metadata": {},
   "outputs": [],
   "source": [
    "### Ajouter une colonne avec la distance chi-2 de chaque individu par rapport à l'individu moyen\n",
    "# pour chaque individu: les individus plus éloignés sont plus rares\n",
    "X['dist_org'] = X.apply(lambda x: round(np.sum(1/ind_moy*(x/p-ind_moy)**2),4), raw=True, axis=1)"
   ]
  },
  {
   "cell_type": "code",
   "execution_count": null,
   "id": "802b8384",
   "metadata": {},
   "outputs": [],
   "source": [
    "### Inspecter le tableau\n",
    "X.sort_values(by='dist_org', ascending=False).head(10)['dist_org']"
   ]
  },
  {
   "cell_type": "code",
   "execution_count": null,
   "id": "68eebcc6",
   "metadata": {},
   "outputs": [],
   "source": [
    "### Distribution de la distance chi-2\n",
    "\n",
    "sns.set_theme(style=\"whitegrid\",rc={\"figure.figsize\":(10,2)} )\n",
    "\n",
    "\n",
    "a = X['dist_org']\n",
    "# a = X['dist_org'][X['dist_org']< 20]\n",
    "\n",
    "print(a.describe())\n",
    "\n",
    "ax = sns.violinplot(x=a)\n",
    "\n",
    "### Noter que au delà des limites les valeurs sont coupées car postulées\n",
    "ax.set_xlim(left=min(a), right=max(a))\n",
    "\n",
    "plt.show()"
   ]
  },
  {
   "cell_type": "code",
   "execution_count": null,
   "id": "937665ad",
   "metadata": {},
   "outputs": [],
   "source": [
    "### Ajouter la distance des individus à leur données\n",
    "# On créé un nouveau DataFrame qui résulte de la jointure des deux précédents\n",
    "cdf_mod_dist= pd.merge(cdf_mod, X.dist_org, left_index=True, right_index=True)\n",
    "cdf_mod_dist[:3]"
   ]
  },
  {
   "cell_type": "code",
   "execution_count": null,
   "id": "9ff1a754",
   "metadata": {},
   "outputs": [],
   "source": [
    "### Individus proches du profil moyen\n",
    "#  donc fréquents\n",
    "df_filtered = cdf_mod_dist[cdf_mod_dist.dist_org<2]\n",
    "print(len(df_filtered))\n",
    "df_filtered.sort_values(by='dist_org')[:5]"
   ]
  },
  {
   "cell_type": "code",
   "execution_count": null,
   "id": "fa1d6e5a",
   "metadata": {},
   "outputs": [],
   "source": [
    "3## Inspecter les combinaisons les plus fréquentes\n",
    "cdf_mod_dist.groupby(by=['periodes','origine_geog','o1','a1','o2'],\\\n",
    "                       observed=True).size().sort_values(ascending=False).head(10)"
   ]
  },
  {
   "cell_type": "code",
   "execution_count": null,
   "id": "2f89c62f",
   "metadata": {},
   "outputs": [],
   "source": [
    "### Individus moyennements distants du profil moyen\n",
    "df_filtered = cdf_mod_dist[(cdf_mod_dist.dist_org>4.5) & (cdf_mod_dist.dist_org <5.5)]\n",
    "print(len(df_filtered))\n",
    "df_filtered.sort_values(by='dist_org')[:5]"
   ]
  },
  {
   "cell_type": "code",
   "execution_count": null,
   "id": "75adbac7",
   "metadata": {},
   "outputs": [],
   "source": [
    "### Individus très distants du profil moyen\n",
    "#  donc rares, triés en commençant par les plus rares\n",
    "df_filtered = cdf_mod_dist[cdf_mod_dist.dist_org>15]\n",
    "print(len(df_filtered))\n",
    "df_filtered.sort_values(by='dist_org', ascending=False)[:10]"
   ]
  },
  {
   "cell_type": "code",
   "execution_count": null,
   "id": "da8c9dfa",
   "metadata": {},
   "outputs": [],
   "source": []
  },
  {
   "cell_type": "markdown",
   "id": "c6372e05",
   "metadata": {},
   "source": [
    "### Inspection des modalités des variables"
   ]
  },
  {
   "cell_type": "code",
   "execution_count": null,
   "id": "b8bdaf2f",
   "metadata": {},
   "outputs": [],
   "source": [
    "### Profil moyen colonnes\n",
    "moda_moy = np.ones(X.shape[0])/n\n",
    "moda_moy[:10]\n"
   ]
  },
  {
   "cell_type": "code",
   "execution_count": null,
   "id": "ee41ab9b",
   "metadata": {},
   "outputs": [],
   "source": [
    "# enelver la colonne 'dist-org'\n",
    "df = X.iloc[:,:-1]\n",
    "# somme en colonne\n",
    "somme_col = np.sum(df.values,axis=0)\n",
    "print(somme_col)\n",
    "# poids des variables_modalités (points modalités)\n",
    "poids_moda = somme_col/(n*p)\n",
    "# distance au chi-2 de la valeur moyenne\n",
    "disto_moda = np.apply_along_axis(arr=df.values/somme_col,axis=0,func1d=lambda x:\n",
    "np.sum(n*(x-moda_moy)**2))\n",
    "#np\n",
    "inertie_moda = poids_moda * disto_moda\n",
    "#affichage\n",
    "dfc = pd.DataFrame(np.transpose([poids_moda,disto_moda,inertie_moda]),index=df.columns,columns=['Poids','Disto','Inertie'])\n",
    "\n",
    "\n",
    "### La disposition des lignes est en fonction des modalités, \n",
    "# et la somme des colonnes a été transposée pour avoir des lignes\n",
    "\n",
    "### Noter que les modalités rares apportent beaucoup de variation\n",
    "# mais que leur valeur est pondérée en la multipliant par leur (petite) fréquence (=poids)\n",
    "dfc"
   ]
  },
  {
   "cell_type": "code",
   "execution_count": null,
   "id": "7e4607a2",
   "metadata": {},
   "outputs": [],
   "source": [
    "### distance au chi-2 de la valeur moyenne\n",
    "# Les premières modalités sont celles qui sont plus rares\n",
    "ax = round(dfc.Disto.sort_values(ascending=True),2).plot(kind='barh', \n",
    "                    figsize=(6,10))\n",
    "\n",
    "ax.bar_label(ax.containers[0])\n",
    "\n",
    "plt.show()"
   ]
  },
  {
   "cell_type": "code",
   "execution_count": null,
   "id": "34886e6f",
   "metadata": {},
   "outputs": [],
   "source": [
    "### Inertie, i.e. contribution à la variance\n",
    "ax = round(dfc.Inertie.sort_values(ascending=True),2).plot(kind='barh', \n",
    "                    figsize=(6,10))\n",
    "\n",
    "ax.bar_label(ax.containers[0])\n",
    "\n",
    "plt.show()"
   ]
  },
  {
   "cell_type": "markdown",
   "id": "4c4acf90",
   "metadata": {},
   "source": [
    "### Représentation graphique"
   ]
  },
  {
   "cell_type": "code",
   "execution_count": null,
   "id": "0cdfdace",
   "metadata": {},
   "outputs": [],
   "source": [
    "acm = MCA(row_labels=DActives.index,var_labels=DActives.columns)\n",
    "acm.fit(DActives.values)"
   ]
  },
  {
   "cell_type": "code",
   "execution_count": null,
   "id": "de2ebc15",
   "metadata": {},
   "outputs": [],
   "source": [
    "eig = pd.DataFrame(acm.eig_).transpose()\n",
    "eig.columns=['contribution','freq','freq_cumulee']\n",
    "\n",
    "eig.head(), eig.tail()\n"
   ]
  },
  {
   "cell_type": "code",
   "execution_count": null,
   "id": "1a98bcca",
   "metadata": {},
   "outputs": [],
   "source": [
    "### Nombre total de modalités, toute variable confondue\n",
    "M = X.shape[1]\n",
    "print('Nombre de modalités:', M)\n",
    "#nombre max de facteurs\n",
    "Hmax = M-p\n",
    "print('Nombre maximal de facteurs:', Hmax)"
   ]
  },
  {
   "cell_type": "code",
   "execution_count": null,
   "id": "0e927315",
   "metadata": {},
   "outputs": [],
   "source": [
    "### nombre de facteurs calculés par la librairie\n",
    "print(len(acm.eig_[0]))\n",
    "### Fréquence cumulée\n",
    "#acm.eig_[2]"
   ]
  },
  {
   "cell_type": "code",
   "execution_count": null,
   "id": "be3230f7",
   "metadata": {},
   "outputs": [],
   "source": [
    "# https://www.statology.org/pandas-subplots/\n",
    "fig, axes = plt.subplots(nrows=1, ncols=3, figsize=(12,3))\n",
    "\n",
    "eig.iloc[:,0].plot(kind='bar', ax=axes[0], title='Eigenvalue des axes')\n",
    "eig.iloc[:,1].plot(kind='bar', ax=axes[1], title=\"Proportion de l'eigenvalue \")\n",
    "eig.iloc[:,2].plot(kind='bar', ax=axes[2], title=\"Frequence cumulative de l'eigenvalue \")\n",
    "# Met les valeurs xticks en vertical\n",
    "fig.autofmt_xdate(rotation=0)\n",
    "plt.show()"
   ]
  },
  {
   "cell_type": "code",
   "execution_count": null,
   "id": "c718d06a",
   "metadata": {},
   "outputs": [],
   "source": [
    "#éboulis des v.p.\n",
    "\n",
    "xvalues = len(acm.eig_[0])+1\n",
    "\n",
    "fix,ax = plt.subplots(figsize=(5,5))\n",
    "ax.plot(range(1,xvalues),acm.eig_[0],\".-\")\n",
    "ax.set_xlabel(\"Nb. facteurs\")\n",
    "ax.set_ylabel(\"Val. propres\")\n",
    "plt.title(\"Eboulis des valeurs propres\")\n",
    "#seuil - Règle de Kaiser\n",
    "ax.plot([1,xvalues-1],[1/p,1/p],\"r--\",linewidth=1)\n",
    "plt.show()"
   ]
  },
  {
   "cell_type": "code",
   "execution_count": null,
   "id": "99c1b5aa",
   "metadata": {},
   "outputs": [],
   "source": [
    "### Correction de Benzecri, cf. Rakotomalala, Pratique, p.313sqq\n",
    "\n",
    "#somme en colonne\n",
    "#récupérer les valeurs propres supérieur à (1/p)\n",
    "lambada = acm.eig_[0][acm.eig_[0]>1/p]\n",
    "#print(lambada)\n",
    "\n",
    "#appliquer la correction\n",
    "lambada_prim = ((p/(p-1))*(lambada-1/p))**2\n",
    "#print(lambada_prim)\n",
    "\n",
    "#faire la somme\n",
    "S_prim = np.sum(lambada_prim)\n",
    "#print('u',S_prim)\n",
    "\n",
    "#et produire les pourcentages\n",
    "percent_prim = lambada_prim/S_prim*100\n",
    "\n",
    "#affichage\n",
    "bzc = pd.DataFrame(np.transpose(np.array([lambada_prim,percent_prim,\n",
    "                                np.cumsum(percent_prim)])),columns=['Val.P','freq','Cumul_freq'],\n",
    "                                index=range(1,len(percent_prim)+1))\n",
    "print(bzc)"
   ]
  },
  {
   "cell_type": "code",
   "execution_count": null,
   "id": "a576c126",
   "metadata": {},
   "outputs": [],
   "source": [
    "### Préparer un calcul dynamique des dimensions du graphique\n",
    "# print(acm.col_topandas().columns)\n",
    "max(acm.col_topandas().col_coord_dim1), min(acm.col_topandas().col_coord_dim1)"
   ]
  },
  {
   "cell_type": "code",
   "execution_count": null,
   "id": "eb4f16e3",
   "metadata": {},
   "outputs": [],
   "source": [
    "# Mapping des points colonnes\n",
    "\n",
    "i = 1\n",
    "dfc = acm.col_topandas()\n",
    "\n",
    "df_rows = acm.row_topandas()\n",
    "\n",
    "\n",
    "\n",
    "\n",
    "### avec la correction de Benzecri, \n",
    "# 3 axes apportent 95%  de l'information\n",
    "while i < 8:    \n",
    "\n",
    "    c1 = 'col_contrib_dim' + str(i)  \n",
    "    c2 = 'col_contrib_dim' + str(1+i)\n",
    "\n",
    "    #c1 = 'col_cos2_dim' + str(i)  \n",
    "    #c2 = 'col_cos2_dim' + str(1+i)\n",
    "\n",
    "\n",
    "    \n",
    "    fig, axes = plt.subplots(nrows=1, ncols=2, figsize=(12,3))\n",
    "\n",
    "    r1 = dfc[c1].sort_values(ascending=True)[:10]\n",
    "    r1.plot(kind='barh', ax=axes[0], title=\"Contribution de l'axe\"+ str(i))\n",
    "\n",
    "    r2 = dfc[c2].sort_values(ascending=True)[:10]\n",
    "    r2.plot(kind='barh', ax=axes[1], title=\"Contribution de l'axe\"+ str(i+1))\n",
    "\n",
    "    plt.tight_layout()\n",
    "    plt.show()\n",
    "\n",
    "\n",
    "    # rc1 = 'row_contrib_dim' + str(i)  \n",
    "    # rc2 = 'row_contrib_dim' + str(1+i)\n",
    "    rc1 = 'row_cos2_dim' + str(i)  \n",
    "    rc2 = 'row_cos2_dim' + str(1+i)\n",
    "\n",
    "    ### Filtrer les individus donnant la plus grande contribution à l'axe\n",
    "    # On retient les individus les mieux représentés sur chaque axe\n",
    "    rcv1 = df_rows[rc1].sort_values(ascending=False)[:8].index\n",
    "    rcv2 = df_rows[rc2].sort_values(ascending=False)[:8].index\n",
    "\n",
    "    lrc = list(set(list(rcv1) + list(rcv2)))\n",
    "\n",
    "\n",
    "    min_d1 = min(dfc['col_coord_dim' + str(i)])-0.2\n",
    "    max_d1 = max(dfc['col_coord_dim' + str(i)])+0.2\n",
    "    min_d2 = min(dfc['col_coord_dim' + str(i+1)])-0.2\n",
    "    max_d2 = max(dfc['col_coord_dim' + str(i+1)])+0.2\n",
    "\n",
    "    #représentation simultanée\n",
    "    #fig,ax = plt.subplots(figsize=(20, 20)\n",
    "    fig,ax = plt.subplots(figsize=((min_d1*-1 + max_d1)*4, (min_d2*-1 + max_d2)*4))\n",
    "    ax.axis([min_d1,max_d1,min_d2,max_d2])\n",
    "    ax.plot([min_d1,max_d1],[0,0],color='silver',linestyle='--')\n",
    "    ax.plot([0,0],[min_d2,max_d2],color='silver',linestyle='--')\n",
    "\n",
    "    ax.set_xlabel(\"Dim.\"+str(i)+\" (\"+ str(round(bzc.freq.iloc[(i-1)],2))+\")\")\n",
    "    ax.set_ylabel(\"Dim.\"+str(i+1)+\" (\"+ str(round(bzc.freq.iloc[i],2))+\")\")\n",
    "\n",
    "    plt.title(\"Représentation simultanée -\" + str(i))\n",
    "    for i1 in range(df.shape[1]):\n",
    "        ax.text(acm.col_coord_[i1,(i-1)],acm.col_coord_[i1,i],df.columns[i1],color='dodgerblue')\n",
    "    \n",
    "    ### espacer légèrement les individus\n",
    "    a = -0.08\n",
    "    for i2 in lrc:\n",
    "        ax.text(acm.row_coord_[i2,(i-1)],acm.row_coord_[i2,i]+ a,df.index[i2],color='firebrick')        \n",
    "        a += 0.04\n",
    "    plt.show()\n",
    "\n",
    "    print(DActives.iloc[lrc].sort_values(by='periodes').to_markdown())\n",
    "\n",
    "    i += 2"
   ]
  },
  {
   "cell_type": "code",
   "execution_count": null,
   "id": "bdf57b74",
   "metadata": {},
   "outputs": [],
   "source": []
  },
  {
   "cell_type": "markdown",
   "id": "6ef20688",
   "metadata": {},
   "source": [
    "## MCA de la période après 1801\n",
    "\n",
    "On commence par inspecter la fréquence des modalités et on exclut les moins fréquentes"
   ]
  },
  {
   "cell_type": "code",
   "execution_count": null,
   "id": "b6254427",
   "metadata": {},
   "outputs": [],
   "source": [
    "cdf_og = cdf_p[cdf_p.annee_nais > 1800].groupby(by='origine_geog', observed=True).size().sort_values(ascending=False)\n",
    "cdf_og"
   ]
  },
  {
   "cell_type": "code",
   "execution_count": null,
   "id": "1b99e086",
   "metadata": {},
   "outputs": [],
   "source": [
    "## exclure les modalités moins fréquentes\n",
    "# Les Balkans impactaient beaucoup l'ACM ci-dessous, donc enlevés\n",
    "\n",
    "l_og = cdf_og.index.to_list()[:-2]\n",
    "print(l_og)"
   ]
  },
  {
   "cell_type": "code",
   "execution_count": null,
   "id": "3f234ea5",
   "metadata": {},
   "outputs": [],
   "source": [
    "### On notera l'effectif trop important des individus pour lesquels cette variable\n",
    "# n'est pas renseignée. Mieux vaudra ne pas l'utiliser\n",
    "cdf_p[cdf_p.annee_nais > 1800].groupby(by='o3').size().sort_values(ascending=False)"
   ]
  },
  {
   "cell_type": "code",
   "execution_count": null,
   "id": "2fd32803",
   "metadata": {},
   "outputs": [],
   "source": [
    "### On procède ici à l'inverse et on retient seulement les individus codés\n",
    "# à l'eclusion des très faibles effectifs \n",
    "df_d3 = cdf_p[cdf_p.annee_nais > 1800].groupby(by='o2').size().sort_values(ascending=False)\n",
    "df_d3"
   ]
  },
  {
   "cell_type": "code",
   "execution_count": null,
   "id": "c33993c4",
   "metadata": {},
   "outputs": [],
   "source": [
    "## exclure les modalités moins fréquentes\n",
    "l_d3 = df_d3.index.to_list()[1:-1]\n",
    "print(l_d3)"
   ]
  },
  {
   "cell_type": "code",
   "execution_count": null,
   "id": "4aa09a87",
   "metadata": {},
   "outputs": [],
   "source": [
    "### On agit ici à l'inverse et on retient seulement les individus codés\n",
    "df_d2 = cdf_p[cdf_p.annee_nais > 1800].groupby(by='a1').size().sort_values(ascending=False)\n",
    "df_d2"
   ]
  },
  {
   "cell_type": "code",
   "execution_count": null,
   "id": "c3b5fc66",
   "metadata": {},
   "outputs": [],
   "source": [
    "## exclure les modalités moins fréquentes\n",
    "l_d2 = df_d2.index.to_list()[1:-1]\n",
    "print(l_d2)"
   ]
  },
  {
   "cell_type": "code",
   "execution_count": null,
   "id": "8b44b7ae",
   "metadata": {},
   "outputs": [],
   "source": [
    "cdf_p[cdf_p.annee_nais < 1801].groupby(by='o1').size().sort_values(ascending=False)"
   ]
  },
  {
   "cell_type": "markdown",
   "id": "7ab4f1a0",
   "metadata": {},
   "source": [
    "### Préparer le tableau à analyser\n",
    "\n",
    "Il est nécessaire de recoder le tableau pour ne pas avoir des variables avec modalités vides: on utilise donc un nouveau tableau avec les individus nés après 1800.\n",
    "\n",
    "\n",
    "Aussi, on enlève les modalités les moins fréquentes (cf. ci-dessus). Le bon dosage dépend des questions de recherche."
   ]
  },
  {
   "cell_type": "code",
   "execution_count": null,
   "id": "48307e5d",
   "metadata": {},
   "outputs": [],
   "source": [
    "### Créer une copie indépendante du DataFrame \n",
    "# tout en éliminant les modalités peu fréquentes \n",
    "cdf_cont = df_ll[(df_ll['annee_nais'] > 1800)\\\n",
    "                & (df_ll['annee_nais'] < 1976)\\\n",
    "                & (df_ll.origine_geog.isin(l_og))\\\n",
    "                & (df_ll.a1.isin(l_d2))\\\n",
    "                & (df_ll.o2.isin(l_d3))]\\\n",
    "                    .copy(deep=True).reset_index(names='orig_index')\n",
    "\n",
    "### Noter que le nombre de personnes est réduit\n",
    "# drastiquement — il faudrait analyser également l'ensemble\n",
    "\n",
    "print(len(cdf_cont))\n",
    "cdf_cont.head(3)"
   ]
  },
  {
   "cell_type": "code",
   "execution_count": null,
   "id": "b32e520c",
   "metadata": {},
   "outputs": [],
   "source": [
    "max(cdf_cont.index)"
   ]
  },
  {
   "cell_type": "markdown",
   "id": "1e0a536c",
   "metadata": {},
   "source": [
    "### Codage par période de vingt-cinq ans"
   ]
  },
  {
   "cell_type": "code",
   "execution_count": null,
   "id": "42b9e454",
   "metadata": {},
   "outputs": [],
   "source": [
    "### Année minimale et maximale dans la population\n",
    "min(cdf_cont['annee_nais']), max(cdf_cont['annee_nais'])"
   ]
  },
  {
   "cell_type": "code",
   "execution_count": null,
   "id": "e2f99650",
   "metadata": {},
   "outputs": [],
   "source": [
    "### Créer une liste d'années pour séparer en périodes de 25 ans\n",
    "# noter que la dernière année sera exclue, \n",
    "# elle donc doit être supérieure à la valeur maximale \n",
    "l_25 = list(range(1801, 1977, 25))\n",
    "l_25[:5],l_25[-5:]"
   ]
  },
  {
   "cell_type": "code",
   "execution_count": null,
   "id": "e2d33614",
   "metadata": {},
   "outputs": [],
   "source": [
    "### fonction pd.cut : https://pandas.pydata.org/pandas-docs/stable/reference/api/pandas.cut.html\n",
    "# On ajoute une nouvelle colonne qui contient la période sur la base de la liste précédente\n",
    "# et de la valeur de l'année\n",
    "\n",
    "cdf_cont['per_25'] = pd.cut(cdf_cont['annee_nais'], l_25, right=False)\n",
    "\n",
    "### Transformer le code ajouté pour qu'il soit plus lisible\n",
    "# noter qu'on a arrondi les valeurs\n",
    "cdf_cont['per_25'] = cdf_cont['per_25'].apply(lambda x : str(int(x.left))+'-'+ str(int(x.right)-1))\n",
    "\n",
    "# Inspection\n",
    "cdf_cont.head(3)"
   ]
  },
  {
   "cell_type": "code",
   "execution_count": null,
   "id": "1a8921e6",
   "metadata": {},
   "outputs": [],
   "source": [
    "### compter les naissances par périodes de 25 ans\n",
    "ax = cdf_cont.groupby(by='per_25', observed=True).size().plot(kind='bar',rot=60, fontsize=8, figsize=(16,8))\n",
    "ax.bar_label(ax.containers[0], fontsize=12)\n",
    "\n",
    "plt.ylabel('Effectif')\n",
    "plt.xlabel('Périodes')\n",
    "plt.title('Naissances par périodes de vingt-cinq ans')\n",
    "plt.show()"
   ]
  },
  {
   "cell_type": "markdown",
   "id": "6d084e34",
   "metadata": {},
   "source": [
    "### Population retenue et variables"
   ]
  },
  {
   "cell_type": "code",
   "execution_count": null,
   "id": "ce9d01f7",
   "metadata": {},
   "outputs": [],
   "source": [
    "DActives_ct = cdf_cont[['per_25', 'origine_geog',\n",
    " 'o1', 'a1', 'o2']].copy(deep=True)"
   ]
  },
  {
   "cell_type": "code",
   "execution_count": null,
   "id": "6e6e2d94",
   "metadata": {},
   "outputs": [],
   "source": [
    "DActives_ct.groupby(by='origine_geog', observed=True).size().sort_values(ascending=False)\n"
   ]
  },
  {
   "cell_type": "code",
   "execution_count": null,
   "id": "cf46545c",
   "metadata": {},
   "outputs": [],
   "source": [
    "DActives_ct.groupby(by='a1', observed=True).size().sort_values(ascending=False)\n"
   ]
  },
  {
   "cell_type": "code",
   "execution_count": null,
   "id": "1f918178",
   "metadata": {},
   "outputs": [],
   "source": [
    "DActives_ct.groupby(by='o2', observed=True).size().sort_values(ascending=False)\n"
   ]
  },
  {
   "cell_type": "code",
   "execution_count": null,
   "id": "72b8fc00",
   "metadata": {},
   "outputs": [],
   "source": [
    "#Rcupération des infos - nombre de variables\n",
    "p = DActives_ct.shape[1]\n",
    "#nombre d'observations\n",
    "n = DActives_ct.shape[0]\n",
    "print('Nombre variables:', p, 'Nombre lignes:', n)\n",
    "#codage en 0/1\n",
    "X = pd.get_dummies(DActives_ct,prefix='',prefix_sep='')*1\n"
   ]
  },
  {
   "cell_type": "markdown",
   "id": "6a672c7b",
   "metadata": {},
   "source": [
    "### Distance des individus par rapport au profil moyen"
   ]
  },
  {
   "cell_type": "code",
   "execution_count": null,
   "id": "746843a3",
   "metadata": {},
   "outputs": [],
   "source": [
    "#Profil individu moyen\n",
    "ind_moy = np.sum(X.values,axis=0)/(n*p)\n",
    "print(ind_moy)"
   ]
  },
  {
   "cell_type": "code",
   "execution_count": null,
   "id": "61a7bab1",
   "metadata": {},
   "outputs": [],
   "source": [
    "### Ajouter une colonne avec la distance chi-2 de chaque individu par rapport à l'individu moyen\n",
    "# pour chaque individu: les individus plus éloignés sont plus rares\n",
    "X['dist_org'] = X.apply(lambda x: round(np.sum(1/ind_moy*(x/p-ind_moy)**2),4), raw=True, axis=1)"
   ]
  },
  {
   "cell_type": "code",
   "execution_count": null,
   "id": "2c60c2a3",
   "metadata": {},
   "outputs": [],
   "source": [
    "### Inspecter le tableau\n",
    "X.sort_values(by='dist_org', ascending=False).head(10)['dist_org']"
   ]
  },
  {
   "cell_type": "code",
   "execution_count": null,
   "id": "c0142580",
   "metadata": {},
   "outputs": [],
   "source": [
    "### Distribution de la distance chi-2\n",
    "\n",
    "sns.set_theme(style=\"whitegrid\",rc={\"figure.figsize\":(10,2)} )\n",
    "\n",
    "\n",
    "a = X['dist_org']\n",
    "#a = X['dist_org'][X['dist_org']< 15]\n",
    "\n",
    "print(a.describe())\n",
    "\n",
    "ax = sns.violinplot(x=a)\n",
    "\n",
    "### Noter que au delà des limites les valeurs sont coupées car postulées\n",
    "ax.set_xlim(left=min(a), right=max(a))\n",
    "\n",
    "plt.show()"
   ]
  },
  {
   "cell_type": "code",
   "execution_count": null,
   "id": "f7e529db",
   "metadata": {},
   "outputs": [],
   "source": [
    "### Ajouter la distance des individus à leur données\n",
    "cdf_cont_dist= pd.merge(cdf_cont, X.dist_org, left_index=True, right_index=True)\n",
    "cdf_cont_dist[:3]"
   ]
  },
  {
   "cell_type": "code",
   "execution_count": null,
   "id": "6562530c",
   "metadata": {},
   "outputs": [],
   "source": [
    "### Individus proches du profil moyen\n",
    "#  donc fréquents\n",
    "df_filtered = cdf_cont_dist[cdf_cont_dist.dist_org<2.2]\n",
    "print(len(df_filtered))\n",
    "df_filtered.sort_values(by='dist_org')[:5]"
   ]
  },
  {
   "cell_type": "code",
   "execution_count": null,
   "id": "4d01eb31",
   "metadata": {},
   "outputs": [],
   "source": [
    "### Inspecter les combinaisons les plus fréquentes\n",
    "cdf_cont_dist.groupby(by=['per_25','origine_geog','o1','a1','o2'],\\\n",
    "                       observed=True).size().sort_values(ascending=False).head(10)"
   ]
  },
  {
   "cell_type": "code",
   "execution_count": null,
   "id": "e312c256",
   "metadata": {},
   "outputs": [],
   "source": [
    "### Individus moyennements distants du profil moyen\n",
    "df_filtered = cdf_cont_dist[(cdf_cont_dist.dist_org>4.3) & (cdf_mod_dist.dist_org <4.9)]\n",
    "print(len(df_filtered))\n",
    "df_filtered.sort_values(by='dist_org')[:5]"
   ]
  },
  {
   "cell_type": "code",
   "execution_count": null,
   "id": "e07a88f8",
   "metadata": {},
   "outputs": [],
   "source": [
    "### Individus très distants du profil moyen\n",
    "#  donc rares, triés en commençant par les plus rares\n",
    "df_filtered = cdf_cont_dist[cdf_cont_dist.dist_org>15]\n",
    "print(len(df_filtered))\n",
    "df_filtered.sort_values(by='dist_org', ascending=False)[:10]"
   ]
  },
  {
   "cell_type": "code",
   "execution_count": null,
   "id": "e5e4fe5a",
   "metadata": {},
   "outputs": [],
   "source": []
  },
  {
   "cell_type": "markdown",
   "id": "e3104fc7",
   "metadata": {},
   "source": [
    "### Inspection des modalités des variables\n",
    "\n",
    "C'est à ce stade qu'on vérifie le poids des modalités rares et qu'on décide éventuellement d'en enlever encore davantage, afin d'éviter qu'elle cachent la structure du champ scientifique.\n",
    "\n",
    "\n",
    "Quant aux individus possédant ces modalités rares, on pourra les étudier séparément.\n",
    "\n",
    "\n",
    "Rappelons que l'ACM appartient au domaine des statistiques descriptives et que pour la recherche en sciences historiques celles-ci ont une fonction heuristique, non explicative. Elles permettent toutefois de mettre en évidence des phénomènes invisibles autrement."
   ]
  },
  {
   "cell_type": "code",
   "execution_count": null,
   "id": "327b595d",
   "metadata": {},
   "outputs": [],
   "source": [
    "### Profil moyen colonnes\n",
    "moda_moy = np.ones(X.shape[0])/n\n",
    "moda_moy[:10]\n"
   ]
  },
  {
   "cell_type": "code",
   "execution_count": null,
   "id": "db0f10fc",
   "metadata": {},
   "outputs": [],
   "source": [
    "# enelver la colonne 'dist-org'\n",
    "df = X.iloc[:,:-1]\n",
    "# somme en colonne\n",
    "somme_col = np.sum(df.values,axis=0)\n",
    "print(somme_col)\n",
    "# poids des variables_modalités (points modalités)\n",
    "poids_moda = somme_col/(n*p)\n",
    "# distance au chi-2 de la valeur moyenne\n",
    "disto_moda = np.apply_along_axis(arr=df.values/somme_col,axis=0,func1d=lambda x:\n",
    "np.sum(n*(x-moda_moy)**2))\n",
    "#np\n",
    "inertie_moda = poids_moda * disto_moda\n",
    "#affichage\n",
    "dfc = pd.DataFrame(np.transpose([poids_moda,disto_moda,inertie_moda]),index=df.columns,columns=['Poids','Disto','Inertie'])\n",
    "\n",
    "\n",
    "### La disposition des lignes est en fonction des modalités, \n",
    "# et la somme des colonnes a été transposée pour avoir des lignes\n",
    "dfc"
   ]
  },
  {
   "cell_type": "code",
   "execution_count": null,
   "id": "104f9c86",
   "metadata": {},
   "outputs": [],
   "source": [
    "### distance au chi-2 de la valeur moyenne\n",
    "# Les premières modalités sont celles qui sont plus rares\n",
    "ax = round(dfc.Disto.sort_values(ascending=True),2).plot(kind='barh', \n",
    "                    figsize=(6,10))\n",
    "\n",
    "ax.bar_label(ax.containers[0])\n",
    "\n",
    "plt.show()"
   ]
  },
  {
   "cell_type": "code",
   "execution_count": null,
   "id": "f1729794",
   "metadata": {},
   "outputs": [],
   "source": [
    "### Inertie, i.e. contribution à la variance\n",
    "ax = round(dfc.Inertie.sort_values(ascending=True),2).plot(kind='barh', \n",
    "                    figsize=(6,10))\n",
    "\n",
    "ax.bar_label(ax.containers[0])\n",
    "\n",
    "plt.show()"
   ]
  },
  {
   "cell_type": "markdown",
   "id": "57ff8e8b",
   "metadata": {},
   "source": [
    "### Représentation graphique"
   ]
  },
  {
   "cell_type": "code",
   "execution_count": null,
   "id": "5944aa25",
   "metadata": {},
   "outputs": [],
   "source": [
    "acm = MCA(row_labels=DActives_ct.index,var_labels=DActives_ct.columns)\n",
    "acm.fit(DActives_ct.values)"
   ]
  },
  {
   "cell_type": "code",
   "execution_count": null,
   "id": "2a3d687a",
   "metadata": {},
   "outputs": [],
   "source": [
    "eig = pd.DataFrame(acm.eig_).transpose()\n",
    "eig.columns=['contribution','freq','freq_cumulee']\n",
    "\n",
    "eig.head(), eig.tail()\n"
   ]
  },
  {
   "cell_type": "code",
   "execution_count": null,
   "id": "8fbbd87b",
   "metadata": {},
   "outputs": [],
   "source": [
    "### Nombre total de modalités, toute variable confondue\n",
    "M = X.shape[1]\n",
    "print('Nombre de modalités:', M)\n",
    "#nombre max de facteurs\n",
    "Hmax = M-p\n",
    "print('Nombre maximal de facteurs:', Hmax)"
   ]
  },
  {
   "cell_type": "code",
   "execution_count": null,
   "id": "414caa73",
   "metadata": {},
   "outputs": [],
   "source": [
    "### nombre de facteurs calculés par la librairie\n",
    "print(len(acm.eig_[0]))\n",
    "### Fréquence cumulée\n",
    "#acm.eig_[2]"
   ]
  },
  {
   "cell_type": "code",
   "execution_count": null,
   "id": "9f4a5a48",
   "metadata": {},
   "outputs": [],
   "source": [
    "# https://www.statology.org/pandas-subplots/\n",
    "fig, axes = plt.subplots(nrows=1, ncols=3, figsize=(12,3))\n",
    "\n",
    "eig.iloc[:,0].plot(kind='bar', ax=axes[0], title='Eigenvalue des axes')\n",
    "eig.iloc[:,1].plot(kind='bar', ax=axes[1], title=\"Proportion de l'eigenvalue \")\n",
    "eig.iloc[:,2].plot(kind='bar', ax=axes[2], title=\"Frequence cumulative de l'eigenvalue \")\n",
    "# Met les valeurs xticks en vertical\n",
    "fig.autofmt_xdate(rotation=0)\n",
    "plt.show()"
   ]
  },
  {
   "cell_type": "code",
   "execution_count": null,
   "id": "3377584e",
   "metadata": {},
   "outputs": [],
   "source": [
    "#éboulis des v.p.\n",
    "\n",
    "xvalues = len(acm.eig_[0])+1\n",
    "\n",
    "fix,ax = plt.subplots(figsize=(5,5))\n",
    "ax.plot(range(1,xvalues),acm.eig_[0],\".-\")\n",
    "ax.set_xlabel(\"Nb. facteurs\")\n",
    "ax.set_ylabel(\"Val. propres\")\n",
    "plt.title(\"Eboulis des valeurs propres\")\n",
    "#seuil - Règle de Kaiser\n",
    "ax.plot([1,xvalues-1],[1/p,1/p],\"r--\",linewidth=1)\n",
    "plt.show()"
   ]
  },
  {
   "cell_type": "markdown",
   "id": "419810a0",
   "metadata": {},
   "source": [
    "*Diagramme d'éboulis*. Représentation graphique ayant pour but d'identifier un point d'inflexion dans une courbe de la variance. Le nom donné à ce type de graphique vient de la ressemblance de la courbe avec le profil des éboulis (scree) au bas d'une falaise. [DataFranca, Diagramme d'éboulis, 2024](https://datafranca.org/wiki/index.php?title=Diagramme_d%27%C3%A9boulis&oldid=93502)"
   ]
  },
  {
   "cell_type": "code",
   "execution_count": null,
   "id": "ca91abbd",
   "metadata": {},
   "outputs": [],
   "source": [
    "### Correction de Benzecri, cf. Rakotomalala, Pratique, p.313sqq\n",
    "\n",
    "#somme en colonne\n",
    "#récupérer les valeurs propres supérieur à (1/p)\n",
    "lambada = acm.eig_[0][acm.eig_[0]>1/p]\n",
    "#print(lambada)\n",
    "\n",
    "#appliquer la correction\n",
    "lambada_prim = ((p/(p-1))*(lambada-1/p))**2\n",
    "#print(lambada_prim)\n",
    "\n",
    "#faire la somme\n",
    "S_prim = np.sum(lambada_prim)\n",
    "#print('u',S_prim)\n",
    "\n",
    "#et produire les pourcentages\n",
    "percent_prim = lambada_prim/S_prim*100\n",
    "\n",
    "#affichage\n",
    "bzc = pd.DataFrame(np.transpose(np.array([lambada_prim,percent_prim,\n",
    "                                np.cumsum(percent_prim)])),columns=['Val.P','freq','Cumul_freq'],\n",
    "                                index=range(1,len(percent_prim)+1))\n",
    "print(bzc)"
   ]
  },
  {
   "cell_type": "code",
   "execution_count": null,
   "id": "1c05ec8f",
   "metadata": {},
   "outputs": [],
   "source": [
    "# Mapping des points colonnes\n",
    "\n",
    "i = 1\n",
    "dfc = acm.col_topandas()\n",
    "\n",
    "df_rows = acm.row_topandas()\n",
    "\n",
    "\n",
    "\n",
    "\n",
    "### avec la correction de Benzecri, \n",
    "# 3 axes apportent 95%  de l'information\n",
    "while i < 6:    \n",
    "\n",
    "    #c1 = 'col_contrib_dim' + str(i)  \n",
    "    #c2 = 'col_contrib_dim' + str(1+i)\n",
    "\n",
    "    c1 = 'col_cos2_dim' + str(i)  \n",
    "    c2 = 'col_cos2_dim' + str(1+i)\n",
    "\n",
    "\n",
    "    \n",
    "    fig, axes = plt.subplots(nrows=1, ncols=2, figsize=(12,3))\n",
    "\n",
    "    r1 = dfc[c1].sort_values(ascending=True)[:10]\n",
    "    r1.plot(kind='barh', ax=axes[0], title=\"Cos-2 de l'axe\"+ str(i))\n",
    "\n",
    "    r2 = dfc[c2].sort_values(ascending=True)[:10]\n",
    "    r2.plot(kind='barh', ax=axes[1], title=\"Cos-2 de l'axe\"+ str(i+1))\n",
    "\n",
    "    plt.tight_layout()\n",
    "    plt.show()\n",
    "\n",
    "\n",
    "    # rc1 = 'row_contrib_dim' + str(i)  \n",
    "    # rc2 = 'row_contrib_dim' + str(1+i)\n",
    "    rc1 = 'row_cos2_dim' + str(i)  \n",
    "    rc2 = 'row_cos2_dim' + str(1+i)\n",
    "\n",
    "    ### Filtrer les individus donnant la plus grande contribution à l'axe\n",
    "    # On retient les individus les mieux représentés sur chaque axe\n",
    "    rcv1 = df_rows[rc1].sort_values(ascending=False)[:8].index\n",
    "    rcv2 = df_rows[rc2].sort_values(ascending=False)[:8].index\n",
    "\n",
    "    lrc = list(set(list(rcv1) + list(rcv2)))\n",
    "\n",
    "\n",
    "    min_d1 = min(dfc['col_coord_dim' + str(i)])-0.2\n",
    "    max_d1 = max(dfc['col_coord_dim' + str(i)])+0.2\n",
    "    min_d2 = min(dfc['col_coord_dim' + str(i+1)])-0.2\n",
    "    max_d2 = max(dfc['col_coord_dim' + str(i+1)])+0.2\n",
    "\n",
    "    #représentation simultanée\n",
    "    #fig,ax = plt.subplots(figsize=(20, 20))\n",
    "    fig,ax = plt.subplots(figsize=((min_d1*-1 + max_d1)*5, (min_d2*-1 + max_d2)*5))\n",
    "    ax.axis([min_d1,max_d1,min_d2,max_d2])\n",
    "    ax.plot([min_d1,max_d1],[0,0],color='silver',linestyle='--')\n",
    "    ax.plot([0,0],[min_d2,max_d2],color='silver',linestyle='--')\n",
    "\n",
    "    ax.set_xlabel(\"Dim.\"+str(i)+\" (\"+ str(round(bzc.freq.iloc[(i-1)],2))+\")\")\n",
    "    ax.set_ylabel(\"Dim.\"+str(i+1)+\" (\"+ str(round(bzc.freq.iloc[i],2))+\")\")\n",
    "\n",
    "    plt.title(\"Représentation simultanée -\" + str(i))\n",
    "    for i1 in range(df.shape[1]):\n",
    "        ax.text(acm.col_coord_[i1,(i-1)],acm.col_coord_[i1,i],df.columns[i1],color='dodgerblue')\n",
    "    \n",
    "    ### espacer légèrement les individus\n",
    "    a = -0.08\n",
    "    for i2 in lrc:\n",
    "        ax.text(acm.row_coord_[i2,(i-1)],acm.row_coord_[i2,i]+ a,df.index[i2],color='firebrick')        \n",
    "        a += 0.04\n",
    "    plt.show()\n",
    "\n",
    "    print(DActives_ct.iloc[lrc].sort_values(by='per_25').to_markdown())\n",
    "\n",
    "    i += 2"
   ]
  },
  {
   "cell_type": "code",
   "execution_count": null,
   "id": "c85f79cc",
   "metadata": {},
   "outputs": [],
   "source": []
  }
 ],
 "metadata": {
  "kernelspec": {
   "display_name": "Py3.10 sparql",
   "language": "python",
   "name": "py310_sparql"
  },
  "language_info": {
   "codemirror_mode": {
    "name": "ipython",
    "version": 3
   },
   "file_extension": ".py",
   "mimetype": "text/x-python",
   "name": "python",
   "nbconvert_exporter": "python",
   "pygments_lexer": "ipython3",
   "version": "3.10.9"
  }
 },
 "nbformat": 4,
 "nbformat_minor": 5
}
