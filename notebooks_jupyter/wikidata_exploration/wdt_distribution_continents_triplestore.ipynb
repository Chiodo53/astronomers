{
 "cells": [
  {
   "cell_type": "markdown",
   "id": "9150426b-5190-4539-8204-61253a0f1bd4",
   "metadata": {},
   "source": [
    "# Distribution des continents dans le temps \n",
    "\n",
    "Dans ce carnet est proposée une analyse de la distribution dans le temps des continents relatifs aux pays d'appartenance, en relation aux années de naissance de la population retenue.\n"
   ]
  },
  {
   "cell_type": "code",
   "execution_count": 1,
   "id": "231af92f-a7b1-479a-a734-0b8a9c0722e8",
   "metadata": {
    "tags": []
   },
   "outputs": [],
   "source": [
    "### Librairie à installer dans l'environnement conda (si on exécute en local)\n",
    "# qui sera choisi pour exécuter le carnet\n",
    "from SPARQLWrapper import SPARQLWrapper, JSON, TURTLE, XML, RDFXML\n",
    "import pandas as pd\n",
    "\n",
    "import matplotlib.pyplot as plt\n",
    "import numpy as np"
   ]
  },
  {
   "cell_type": "code",
   "execution_count": 2,
   "id": "e6ce0f0e-db36-47cd-8015-a5bf33f0f7fa",
   "metadata": {
    "tags": []
   },
   "outputs": [],
   "source": [
    "### Librairies déjà installées avec Python\n",
    "import pprint\n",
    "import csv\n",
    "import sys\n",
    "\n",
    "import sqlite3 as sql\n",
    "\n",
    "import time\n",
    "import datetime\n",
    "from dateutil import parser\n",
    "\n",
    "from importlib import reload\n",
    "from shutil import copyfile\n"
   ]
  },
  {
   "cell_type": "code",
   "execution_count": 3,
   "id": "9b90838d-2160-49e3-8adb-a67ff2cd112e",
   "metadata": {},
   "outputs": [],
   "source": [
    "### Importer un module de fonctions crées ad hoc\n",
    "##  ATTENTION : le fichier 'sparql_functions.py' doit se trouver \n",
    "#   dans un dossier qui se situe dans le chemin ('path') de recherche\n",
    "#   vu par le présent carnet Jupyter afin que\n",
    "#   l'importation fonctionne correctement\n",
    "\n",
    "# Add parent directory to the path\n",
    "sys.path.insert(0, '..')\n",
    "\n",
    "### If you want to add the parent-parent directory,\n",
    "sys.path.insert(0, '../..')\n",
    "\n",
    "\n",
    "import sparql_functions as spqf"
   ]
  },
  {
   "cell_type": "markdown",
   "id": "3fe8665b-f64c-42bb-8786-4aee3673867c",
   "metadata": {},
   "source": [
    "## SPARQL Query qui récupère les données\n",
    "\n",
    "On exécute la requête grâce à une fonction de la librairie locale qui réalise la mise en forme"
   ]
  },
  {
   "cell_type": "code",
   "execution_count": 4,
   "id": "cf08874b-9ba0-4f5c-8eee-aebd9f0d0d26",
   "metadata": {},
   "outputs": [],
   "source": [
    "## define SPARQL enpoint\n",
    "endpoint = \"https://ag16gm9pr0meths2.allegrograph.cloud/repositories/astronomers\""
   ]
  },
  {
   "cell_type": "code",
   "execution_count": 5,
   "id": "164e80e8-1834-473a-a605-a3c1a660eff3",
   "metadata": {},
   "outputs": [],
   "source": [
    "query = \"\"\"\n",
    "PREFIX wd: <http://www.wikidata.org/entity/>\n",
    "PREFIX wdt: <http://www.wikidata.org/prop/direct/>\n",
    "PREFIX rdfs: <http://www.w3.org/2000/01/rdf-schema#>\n",
    "\n",
    "\n",
    "SELECT  ?s (MAX(?label) as ?label) (xsd:integer(MAX(?birthDate)) as ?birthDate) \n",
    "            (MAX(?gen) as ?gen) ( GROUP_CONCAT(?continentLabel; separator=\", \") AS ?onctinents )\n",
    "WHERE {\n",
    "    GRAPH <https://github.com/Sciences-historiques-numeriques/astronomers/blob/main/graphs/wikidata-imported-data.md>\n",
    "        {?s wdt:P21 ?gen;\n",
    "            rdfs:label ?label;\n",
    "            wdt:P569 ?birthDate;\n",
    "            wdt:P27 ?country.\n",
    "        ?country wdt:P30 ?continent.\n",
    "        ?continent rdfs:label ?continentLabel.\n",
    "        ## Excluding Eurasia, Australia and Oceania insular\n",
    "        FILTER ( ?continent NOT IN (wd:Q538, wd:Q3960, wd:Q5401))\n",
    "          }\n",
    "}\n",
    "GROUP BY ?s\n",
    "\"\"\""
   ]
  },
  {
   "cell_type": "code",
   "execution_count": 6,
   "id": "70f2370f-e287-404f-ba7b-aaf79021047e",
   "metadata": {},
   "outputs": [],
   "source": [
    "### Executer la requête avec les fonctions de la librairie locale\n",
    "qr = spqf.get_json_sparql_result(endpoint,query)"
   ]
  },
  {
   "cell_type": "code",
   "execution_count": 7,
   "id": "21bfd9f5-4c63-4b8c-af10-f9ddec203db2",
   "metadata": {},
   "outputs": [
    {
     "name": "stdout",
     "output_type": "stream",
     "text": [
      "17491\n"
     ]
    },
    {
     "data": {
      "text/plain": [
       "[['http://www.wikidata.org/entity/Q97193482',\n",
       "  'Q97193482',\n",
       "  '1941',\n",
       "  'http://www.wikidata.org/entity/Q6581097',\n",
       "  'Asia, Europe, Europe'],\n",
       " ['http://www.wikidata.org/entity/Q4706857',\n",
       "  'Alan Herries Wilson',\n",
       "  '1906',\n",
       "  'http://www.wikidata.org/entity/Q6581097',\n",
       "  'Europe'],\n",
       " ['http://www.wikidata.org/entity/Q61552351',\n",
       "  'Gerald E. Tauber',\n",
       "  '1922',\n",
       "  'http://www.wikidata.org/entity/Q6581097',\n",
       "  'Asia, North America, North America']]"
      ]
     },
     "execution_count": 7,
     "metadata": {},
     "output_type": "execute_result"
    }
   ],
   "source": [
    "r = [l for l in spqf.sparql_result_to_list(qr)]\n",
    "print(len(r))\n",
    "r[:3]"
   ]
  },
  {
   "cell_type": "code",
   "execution_count": 8,
   "id": "236bbba5-a4df-4a7b-b215-44c9bc3f355f",
   "metadata": {},
   "outputs": [
    {
     "data": {
      "text/html": [
       "<div>\n",
       "<style scoped>\n",
       "    .dataframe tbody tr th:only-of-type {\n",
       "        vertical-align: middle;\n",
       "    }\n",
       "\n",
       "    .dataframe tbody tr th {\n",
       "        vertical-align: top;\n",
       "    }\n",
       "\n",
       "    .dataframe thead th {\n",
       "        text-align: right;\n",
       "    }\n",
       "</style>\n",
       "<table border=\"1\" class=\"dataframe\">\n",
       "  <thead>\n",
       "    <tr style=\"text-align: right;\">\n",
       "      <th></th>\n",
       "      <th>personUri</th>\n",
       "      <th>personLabel</th>\n",
       "      <th>birthYear</th>\n",
       "      <th>genderUri</th>\n",
       "      <th>continents</th>\n",
       "    </tr>\n",
       "  </thead>\n",
       "  <tbody>\n",
       "    <tr>\n",
       "      <th>0</th>\n",
       "      <td>http://www.wikidata.org/entity/Q97193482</td>\n",
       "      <td>Q97193482</td>\n",
       "      <td>1941</td>\n",
       "      <td>http://www.wikidata.org/entity/Q6581097</td>\n",
       "      <td>Asia, Europe, Europe</td>\n",
       "    </tr>\n",
       "    <tr>\n",
       "      <th>1</th>\n",
       "      <td>http://www.wikidata.org/entity/Q4706857</td>\n",
       "      <td>Alan Herries Wilson</td>\n",
       "      <td>1906</td>\n",
       "      <td>http://www.wikidata.org/entity/Q6581097</td>\n",
       "      <td>Europe</td>\n",
       "    </tr>\n",
       "    <tr>\n",
       "      <th>2</th>\n",
       "      <td>http://www.wikidata.org/entity/Q61552351</td>\n",
       "      <td>Gerald E. Tauber</td>\n",
       "      <td>1922</td>\n",
       "      <td>http://www.wikidata.org/entity/Q6581097</td>\n",
       "      <td>Asia, North America, North America</td>\n",
       "    </tr>\n",
       "    <tr>\n",
       "      <th>3</th>\n",
       "      <td>http://www.wikidata.org/entity/Q95157297</td>\n",
       "      <td>Kristian Svoboda</td>\n",
       "      <td>1931</td>\n",
       "      <td>http://www.wikidata.org/entity/Q6581097</td>\n",
       "      <td>Europe</td>\n",
       "    </tr>\n",
       "    <tr>\n",
       "      <th>4</th>\n",
       "      <td>http://www.wikidata.org/entity/Q18627816</td>\n",
       "      <td>Elmārs Blūms</td>\n",
       "      <td>1936</td>\n",
       "      <td>http://www.wikidata.org/entity/Q6581097</td>\n",
       "      <td>Europe</td>\n",
       "    </tr>\n",
       "  </tbody>\n",
       "</table>\n",
       "</div>"
      ],
      "text/plain": [
       "                                  personUri          personLabel birthYear  \\\n",
       "0  http://www.wikidata.org/entity/Q97193482            Q97193482      1941   \n",
       "1   http://www.wikidata.org/entity/Q4706857  Alan Herries Wilson      1906   \n",
       "2  http://www.wikidata.org/entity/Q61552351     Gerald E. Tauber      1922   \n",
       "3  http://www.wikidata.org/entity/Q95157297     Kristian Svoboda      1931   \n",
       "4  http://www.wikidata.org/entity/Q18627816         Elmārs Blūms      1936   \n",
       "\n",
       "                                 genderUri                          continents  \n",
       "0  http://www.wikidata.org/entity/Q6581097                Asia, Europe, Europe  \n",
       "1  http://www.wikidata.org/entity/Q6581097                              Europe  \n",
       "2  http://www.wikidata.org/entity/Q6581097  Asia, North America, North America  \n",
       "3  http://www.wikidata.org/entity/Q6581097                              Europe  \n",
       "4  http://www.wikidata.org/entity/Q6581097                              Europe  "
      ]
     },
     "execution_count": 8,
     "metadata": {},
     "output_type": "execute_result"
    }
   ],
   "source": [
    "### Créer un DataFrame à partir du résultat\n",
    "df_p = pd.DataFrame(r)\n",
    "df_p.columns = ['personUri', 'personLabel', 'birthYear', 'genderUri', 'continents']\n",
    "df_p.head()"
   ]
  },
  {
   "cell_type": "code",
   "execution_count": 9,
   "id": "eb664e6b-7fd0-4757-8bff-db79a0d52f97",
   "metadata": {
    "tags": []
   },
   "outputs": [
    {
     "name": "stdout",
     "output_type": "stream",
     "text": [
      "<class 'pandas.core.frame.DataFrame'>\n",
      "RangeIndex: 17491 entries, 0 to 17490\n",
      "Data columns (total 5 columns):\n",
      " #   Column       Non-Null Count  Dtype \n",
      "---  ------       --------------  ----- \n",
      " 0   personUri    17491 non-null  object\n",
      " 1   personLabel  17491 non-null  object\n",
      " 2   birthYear    17491 non-null  object\n",
      " 3   genderUri    17491 non-null  object\n",
      " 4   continents   17491 non-null  object\n",
      "dtypes: object(5)\n",
      "memory usage: 683.4+ KB\n"
     ]
    }
   ],
   "source": [
    "df_p.info()"
   ]
  },
  {
   "cell_type": "markdown",
   "id": "9b44e2cd",
   "metadata": {},
   "source": [
    "## Coder les continents et afficher leur distribution"
   ]
  },
  {
   "cell_type": "code",
   "execution_count": 10,
   "id": "460475b8",
   "metadata": {},
   "outputs": [],
   "source": [
    "def codeContinents(continents):\n",
    "    listContinents = sorted(continents.split(','))\n",
    "    if 'Europe' in listContinents:\n",
    "        output = 'Europe'\n",
    "    elif 'Asia' in listContinents:\n",
    "        output = 'Asia'\n",
    "    elif 'Africa' in listContinents:\n",
    "        output = 'Africa'\n",
    "    elif 'Oceania' in listContinents:\n",
    "        output = 'Oceania'   \n",
    "    elif 'North America' in listContinents:\n",
    "        output = 'NorthAmerica'   \n",
    "    elif 'South America' in listContinents:\n",
    "        output = 'SouthAmerica' \n",
    "    else:\n",
    "        output = 'Missing'                 \n",
    "    return output    "
   ]
  },
  {
   "cell_type": "code",
   "execution_count": 11,
   "id": "cc275ffe",
   "metadata": {},
   "outputs": [
    {
     "data": {
      "text/plain": [
       "'Oceania'"
      ]
     },
     "execution_count": 11,
     "metadata": {},
     "output_type": "execute_result"
    }
   ],
   "source": [
    "codeContinents('Oceania, North America, Africa')"
   ]
  },
  {
   "cell_type": "code",
   "execution_count": 12,
   "id": "8b60289c",
   "metadata": {},
   "outputs": [
    {
     "data": {
      "text/html": [
       "<div>\n",
       "<style scoped>\n",
       "    .dataframe tbody tr th:only-of-type {\n",
       "        vertical-align: middle;\n",
       "    }\n",
       "\n",
       "    .dataframe tbody tr th {\n",
       "        vertical-align: top;\n",
       "    }\n",
       "\n",
       "    .dataframe thead th {\n",
       "        text-align: right;\n",
       "    }\n",
       "</style>\n",
       "<table border=\"1\" class=\"dataframe\">\n",
       "  <thead>\n",
       "    <tr style=\"text-align: right;\">\n",
       "      <th></th>\n",
       "      <th>personUri</th>\n",
       "      <th>personLabel</th>\n",
       "      <th>birthYear</th>\n",
       "      <th>genderUri</th>\n",
       "      <th>continents</th>\n",
       "      <th>contCode</th>\n",
       "    </tr>\n",
       "  </thead>\n",
       "  <tbody>\n",
       "    <tr>\n",
       "      <th>0</th>\n",
       "      <td>http://www.wikidata.org/entity/Q97193482</td>\n",
       "      <td>Q97193482</td>\n",
       "      <td>1941</td>\n",
       "      <td>http://www.wikidata.org/entity/Q6581097</td>\n",
       "      <td>Asia, Europe, Europe</td>\n",
       "      <td>Asia</td>\n",
       "    </tr>\n",
       "    <tr>\n",
       "      <th>1</th>\n",
       "      <td>http://www.wikidata.org/entity/Q4706857</td>\n",
       "      <td>Alan Herries Wilson</td>\n",
       "      <td>1906</td>\n",
       "      <td>http://www.wikidata.org/entity/Q6581097</td>\n",
       "      <td>Europe</td>\n",
       "      <td>Europe</td>\n",
       "    </tr>\n",
       "    <tr>\n",
       "      <th>2</th>\n",
       "      <td>http://www.wikidata.org/entity/Q61552351</td>\n",
       "      <td>Gerald E. Tauber</td>\n",
       "      <td>1922</td>\n",
       "      <td>http://www.wikidata.org/entity/Q6581097</td>\n",
       "      <td>Asia, North America, North America</td>\n",
       "      <td>Asia</td>\n",
       "    </tr>\n",
       "  </tbody>\n",
       "</table>\n",
       "</div>"
      ],
      "text/plain": [
       "                                  personUri          personLabel birthYear  \\\n",
       "0  http://www.wikidata.org/entity/Q97193482            Q97193482      1941   \n",
       "1   http://www.wikidata.org/entity/Q4706857  Alan Herries Wilson      1906   \n",
       "2  http://www.wikidata.org/entity/Q61552351     Gerald E. Tauber      1922   \n",
       "\n",
       "                                 genderUri  \\\n",
       "0  http://www.wikidata.org/entity/Q6581097   \n",
       "1  http://www.wikidata.org/entity/Q6581097   \n",
       "2  http://www.wikidata.org/entity/Q6581097   \n",
       "\n",
       "                           continents contCode  \n",
       "0                Asia, Europe, Europe     Asia  \n",
       "1                              Europe   Europe  \n",
       "2  Asia, North America, North America     Asia  "
      ]
     },
     "execution_count": 12,
     "metadata": {},
     "output_type": "execute_result"
    }
   ],
   "source": [
    "### On ajoute une nouvelle colonne et y on met pour chaque ligne le résultat de la fonction\n",
    "df_p['contCode'] = df_p.apply(lambda x: codeContinents(x['continents']), axis=1)\n",
    "df_p.head(3)"
   ]
  },
  {
   "cell_type": "code",
   "execution_count": 13,
   "id": "604fb1ee",
   "metadata": {},
   "outputs": [
    {
     "data": {
      "text/html": [
       "<div>\n",
       "<style scoped>\n",
       "    .dataframe tbody tr th:only-of-type {\n",
       "        vertical-align: middle;\n",
       "    }\n",
       "\n",
       "    .dataframe tbody tr th {\n",
       "        vertical-align: top;\n",
       "    }\n",
       "\n",
       "    .dataframe thead th {\n",
       "        text-align: right;\n",
       "    }\n",
       "</style>\n",
       "<table border=\"1\" class=\"dataframe\">\n",
       "  <thead>\n",
       "    <tr style=\"text-align: right;\">\n",
       "      <th></th>\n",
       "      <th>personUri</th>\n",
       "      <th>personLabel</th>\n",
       "      <th>birthYear</th>\n",
       "      <th>genderUri</th>\n",
       "      <th>continents</th>\n",
       "      <th>contCode</th>\n",
       "    </tr>\n",
       "  </thead>\n",
       "  <tbody>\n",
       "    <tr>\n",
       "      <th>115</th>\n",
       "      <td>http://www.wikidata.org/entity/Q12302291</td>\n",
       "      <td>Asger Lundbak</td>\n",
       "      <td>1914</td>\n",
       "      <td>http://www.wikidata.org/entity/Q6581097</td>\n",
       "      <td>Europe</td>\n",
       "      <td>Europe</td>\n",
       "    </tr>\n",
       "    <tr>\n",
       "      <th>116</th>\n",
       "      <td>http://www.wikidata.org/entity/Q1652897</td>\n",
       "      <td>John D. Lindl</td>\n",
       "      <td>1946</td>\n",
       "      <td>http://www.wikidata.org/entity/Q6581097</td>\n",
       "      <td>North America</td>\n",
       "      <td>NorthAmerica</td>\n",
       "    </tr>\n",
       "    <tr>\n",
       "      <th>117</th>\n",
       "      <td>http://www.wikidata.org/entity/Q2798144</td>\n",
       "      <td>Richard F. Casten</td>\n",
       "      <td>1941</td>\n",
       "      <td>http://www.wikidata.org/entity/Q6581097</td>\n",
       "      <td>North America</td>\n",
       "      <td>NorthAmerica</td>\n",
       "    </tr>\n",
       "    <tr>\n",
       "      <th>118</th>\n",
       "      <td>http://www.wikidata.org/entity/Q95123283</td>\n",
       "      <td>Jan Kaczér</td>\n",
       "      <td>1919</td>\n",
       "      <td>http://www.wikidata.org/entity/Q6581097</td>\n",
       "      <td>Europe</td>\n",
       "      <td>Europe</td>\n",
       "    </tr>\n",
       "    <tr>\n",
       "      <th>119</th>\n",
       "      <td>http://www.wikidata.org/entity/Q114191385</td>\n",
       "      <td>Q114191385</td>\n",
       "      <td>1946</td>\n",
       "      <td>http://www.wikidata.org/entity/Q6581097</td>\n",
       "      <td>Europe, Asia, Europe</td>\n",
       "      <td>Europe</td>\n",
       "    </tr>\n",
       "  </tbody>\n",
       "</table>\n",
       "</div>"
      ],
      "text/plain": [
       "                                     personUri        personLabel birthYear  \\\n",
       "115   http://www.wikidata.org/entity/Q12302291      Asger Lundbak      1914   \n",
       "116    http://www.wikidata.org/entity/Q1652897      John D. Lindl      1946   \n",
       "117    http://www.wikidata.org/entity/Q2798144  Richard F. Casten      1941   \n",
       "118   http://www.wikidata.org/entity/Q95123283         Jan Kaczér      1919   \n",
       "119  http://www.wikidata.org/entity/Q114191385         Q114191385      1946   \n",
       "\n",
       "                                   genderUri            continents  \\\n",
       "115  http://www.wikidata.org/entity/Q6581097                Europe   \n",
       "116  http://www.wikidata.org/entity/Q6581097         North America   \n",
       "117  http://www.wikidata.org/entity/Q6581097         North America   \n",
       "118  http://www.wikidata.org/entity/Q6581097                Europe   \n",
       "119  http://www.wikidata.org/entity/Q6581097  Europe, Asia, Europe   \n",
       "\n",
       "         contCode  \n",
       "115        Europe  \n",
       "116  NorthAmerica  \n",
       "117  NorthAmerica  \n",
       "118        Europe  \n",
       "119        Europe  "
      ]
     },
     "execution_count": 13,
     "metadata": {},
     "output_type": "execute_result"
    }
   ],
   "source": [
    "df_p.iloc[ 115:120 :  ]"
   ]
  },
  {
   "cell_type": "code",
   "execution_count": 14,
   "id": "17a17f60",
   "metadata": {},
   "outputs": [
    {
     "name": "stdout",
     "output_type": "stream",
     "text": [
      "              effectif\n",
      "contCode              \n",
      "Africa              76\n",
      "Oceania            238\n",
      "SouthAmerica       250\n",
      "Asia              2332\n",
      "NorthAmerica      3951\n",
      "Europe           10644\n"
     ]
    }
   ],
   "source": [
    "\n",
    "\n",
    "### Regrouper et compter\n",
    "df_contCode = df_p.groupby('contCode').size()\n",
    "df_contCode = pd.DataFrame(df_contCode.sort_values(ascending = True))\n",
    "#df_contCode.reset_index(inplace=True)\n",
    "df_contCode.columns=['effectif']\n",
    "print(df_contCode)\n",
    "\n"
   ]
  },
  {
   "cell_type": "code",
   "execution_count": 15,
   "id": "2656d4b0",
   "metadata": {},
   "outputs": [
    {
     "data": {
      "text/html": [
       "<div>\n",
       "<style scoped>\n",
       "    .dataframe tbody tr th:only-of-type {\n",
       "        vertical-align: middle;\n",
       "    }\n",
       "\n",
       "    .dataframe tbody tr th {\n",
       "        vertical-align: top;\n",
       "    }\n",
       "\n",
       "    .dataframe thead th {\n",
       "        text-align: right;\n",
       "    }\n",
       "</style>\n",
       "<table border=\"1\" class=\"dataframe\">\n",
       "  <thead>\n",
       "    <tr style=\"text-align: right;\">\n",
       "      <th></th>\n",
       "      <th>effectif</th>\n",
       "      <th>frequence</th>\n",
       "    </tr>\n",
       "    <tr>\n",
       "      <th>contCode</th>\n",
       "      <th></th>\n",
       "      <th></th>\n",
       "    </tr>\n",
       "  </thead>\n",
       "  <tbody>\n",
       "    <tr>\n",
       "      <th>Africa</th>\n",
       "      <td>76</td>\n",
       "      <td>0.43</td>\n",
       "    </tr>\n",
       "    <tr>\n",
       "      <th>Oceania</th>\n",
       "      <td>238</td>\n",
       "      <td>1.36</td>\n",
       "    </tr>\n",
       "    <tr>\n",
       "      <th>SouthAmerica</th>\n",
       "      <td>250</td>\n",
       "      <td>1.43</td>\n",
       "    </tr>\n",
       "    <tr>\n",
       "      <th>Asia</th>\n",
       "      <td>2332</td>\n",
       "      <td>13.33</td>\n",
       "    </tr>\n",
       "    <tr>\n",
       "      <th>NorthAmerica</th>\n",
       "      <td>3951</td>\n",
       "      <td>22.59</td>\n",
       "    </tr>\n",
       "    <tr>\n",
       "      <th>Europe</th>\n",
       "      <td>10644</td>\n",
       "      <td>60.85</td>\n",
       "    </tr>\n",
       "  </tbody>\n",
       "</table>\n",
       "</div>"
      ],
      "text/plain": [
       "              effectif  frequence\n",
       "contCode                         \n",
       "Africa              76       0.43\n",
       "Oceania            238       1.36\n",
       "SouthAmerica       250       1.43\n",
       "Asia              2332      13.33\n",
       "NorthAmerica      3951      22.59\n",
       "Europe           10644      60.85"
      ]
     },
     "execution_count": 15,
     "metadata": {},
     "output_type": "execute_result"
    }
   ],
   "source": [
    "\n",
    "\n",
    "df_contCode['frequence'] = (100 * df_contCode['effectif'] \\\n",
    "                                   / df_contCode['effectif'].sum()).round(2)\n",
    "df_contCode\n",
    "\n"
   ]
  },
  {
   "cell_type": "code",
   "execution_count": 16,
   "id": "e39f1006",
   "metadata": {},
   "outputs": [
    {
     "data": {
      "text/html": [
       "<div>\n",
       "<style scoped>\n",
       "    .dataframe tbody tr th:only-of-type {\n",
       "        vertical-align: middle;\n",
       "    }\n",
       "\n",
       "    .dataframe tbody tr th {\n",
       "        vertical-align: top;\n",
       "    }\n",
       "\n",
       "    .dataframe thead th {\n",
       "        text-align: right;\n",
       "    }\n",
       "</style>\n",
       "<table border=\"1\" class=\"dataframe\">\n",
       "  <thead>\n",
       "    <tr style=\"text-align: right;\">\n",
       "      <th>contCode</th>\n",
       "      <th>Europe</th>\n",
       "      <th>NorthAmerica</th>\n",
       "      <th>Asia</th>\n",
       "      <th>SouthAmerica</th>\n",
       "      <th>Oceania</th>\n",
       "      <th>Africa</th>\n",
       "    </tr>\n",
       "  </thead>\n",
       "  <tbody>\n",
       "    <tr>\n",
       "      <th>frequence</th>\n",
       "      <td>60.85</td>\n",
       "      <td>22.59</td>\n",
       "      <td>13.33</td>\n",
       "      <td>1.43</td>\n",
       "      <td>1.36</td>\n",
       "      <td>0.43</td>\n",
       "    </tr>\n",
       "  </tbody>\n",
       "</table>\n",
       "</div>"
      ],
      "text/plain": [
       "contCode   Europe  NorthAmerica   Asia  SouthAmerica  Oceania  Africa\n",
       "frequence   60.85         22.59  13.33          1.43     1.36    0.43"
      ]
     },
     "execution_count": 16,
     "metadata": {},
     "output_type": "execute_result"
    }
   ],
   "source": [
    "\n",
    "ljt = pd.DataFrame(df_contCode['frequence'].sort_values(ascending=False)).T\n",
    "ljt\n",
    "\n"
   ]
  },
  {
   "cell_type": "code",
   "execution_count": 17,
   "id": "5d9130df",
   "metadata": {},
   "outputs": [],
   "source": [
    "col_palette_1 = [\n",
    "    \"#DCDCDC\",  # Gainsboro : Europe\n",
    "    \"#DC143C\",   # Crimson : NorthAmerica\n",
    "    \"#F4A261\",  # Light Coral : Asia\n",
    "    \"#B2E0B2\",  # Light Green : Oceania\n",
    "    \"#F6E58D\",  # Light Yellow : SouthAmerica\n",
    "    \"#A3C1DA\"  # Light Blue : Africa\n",
    "    \n",
    "]\n"
   ]
  },
  {
   "cell_type": "code",
   "execution_count": 18,
   "id": "30068cc8",
   "metadata": {},
   "outputs": [
    {
     "data": {
      "image/png": "[encoded data removed]",
      "text/plain": [
       "<Figure size 1500x500 with 1 Axes>"
      ]
     },
     "metadata": {},
     "output_type": "display_data"
    }
   ],
   "source": [
    "\n",
    "\n",
    "### Pandas plot reference\n",
    "# https://pandas.pydata.org/pandas-docs/stable/reference/api/pandas.DataFrame.plot.html\n",
    "## Barplots\n",
    "# https://www.shanelynn.ie/bar-plots-in-python-using-pandas-dataframes/\n",
    "\n",
    "fig = ljt.plot(kind='barh', stacked=True, figsize=(15,5), color=col_palette_1, width=0.2, xlim=[0,100])\n",
    "\n"
   ]
  },
  {
   "cell_type": "markdown",
   "id": "c60b84a9-99a7-46b0-8ae9-11bf26128fe7",
   "metadata": {},
   "source": [
    "### Codage par période de vingt-cinq ans"
   ]
  },
  {
   "cell_type": "code",
   "execution_count": 19,
   "id": "7c29f5c0-bf9f-444d-be57-2d39bf882e23",
   "metadata": {
    "tags": []
   },
   "outputs": [
    {
     "name": "stdout",
     "output_type": "stream",
     "text": [
      "[1751, 1776, 1801, 1826, 1851] [1851, 1876, 1901, 1926, 1951] 8\n"
     ]
    }
   ],
   "source": [
    "### Créer une liste d'années pour séparer en périodes de 25 ans\n",
    "# noter que la dernière année sera exclue, \n",
    "# elle donc doit être supérieure à la valeur maximale \n",
    "l_25 = list(range(1751, 1975, 25))\n",
    "print(l_25[:5],l_25[-5:], len(l_25)-1)"
   ]
  },
  {
   "cell_type": "code",
   "execution_count": 20,
   "id": "e37bca9e",
   "metadata": {},
   "outputs": [],
   "source": [
    "df_p.birthYear = df_p.birthYear.apply(lambda x : int(x))"
   ]
  },
  {
   "cell_type": "code",
   "execution_count": 21,
   "id": "06ab381e-f317-4767-9790-a9fcbfcb1853",
   "metadata": {},
   "outputs": [
    {
     "data": {
      "text/html": [
       "<div>\n",
       "<style scoped>\n",
       "    .dataframe tbody tr th:only-of-type {\n",
       "        vertical-align: middle;\n",
       "    }\n",
       "\n",
       "    .dataframe tbody tr th {\n",
       "        vertical-align: top;\n",
       "    }\n",
       "\n",
       "    .dataframe thead th {\n",
       "        text-align: right;\n",
       "    }\n",
       "</style>\n",
       "<table border=\"1\" class=\"dataframe\">\n",
       "  <thead>\n",
       "    <tr style=\"text-align: right;\">\n",
       "      <th></th>\n",
       "      <th>personUri</th>\n",
       "      <th>personLabel</th>\n",
       "      <th>birthYear</th>\n",
       "      <th>genderUri</th>\n",
       "      <th>continents</th>\n",
       "      <th>contCode</th>\n",
       "      <th>per_25</th>\n",
       "    </tr>\n",
       "  </thead>\n",
       "  <tbody>\n",
       "    <tr>\n",
       "      <th>0</th>\n",
       "      <td>http://www.wikidata.org/entity/Q97193482</td>\n",
       "      <td>Q97193482</td>\n",
       "      <td>1941</td>\n",
       "      <td>http://www.wikidata.org/entity/Q6581097</td>\n",
       "      <td>Asia, Europe, Europe</td>\n",
       "      <td>Asia</td>\n",
       "      <td>1926-1950</td>\n",
       "    </tr>\n",
       "    <tr>\n",
       "      <th>1</th>\n",
       "      <td>http://www.wikidata.org/entity/Q4706857</td>\n",
       "      <td>Alan Herries Wilson</td>\n",
       "      <td>1906</td>\n",
       "      <td>http://www.wikidata.org/entity/Q6581097</td>\n",
       "      <td>Europe</td>\n",
       "      <td>Europe</td>\n",
       "      <td>1901-1925</td>\n",
       "    </tr>\n",
       "    <tr>\n",
       "      <th>2</th>\n",
       "      <td>http://www.wikidata.org/entity/Q61552351</td>\n",
       "      <td>Gerald E. Tauber</td>\n",
       "      <td>1922</td>\n",
       "      <td>http://www.wikidata.org/entity/Q6581097</td>\n",
       "      <td>Asia, North America, North America</td>\n",
       "      <td>Asia</td>\n",
       "      <td>1901-1925</td>\n",
       "    </tr>\n",
       "  </tbody>\n",
       "</table>\n",
       "</div>"
      ],
      "text/plain": [
       "                                  personUri          personLabel  birthYear  \\\n",
       "0  http://www.wikidata.org/entity/Q97193482            Q97193482       1941   \n",
       "1   http://www.wikidata.org/entity/Q4706857  Alan Herries Wilson       1906   \n",
       "2  http://www.wikidata.org/entity/Q61552351     Gerald E. Tauber       1922   \n",
       "\n",
       "                                 genderUri  \\\n",
       "0  http://www.wikidata.org/entity/Q6581097   \n",
       "1  http://www.wikidata.org/entity/Q6581097   \n",
       "2  http://www.wikidata.org/entity/Q6581097   \n",
       "\n",
       "                           continents contCode     per_25  \n",
       "0                Asia, Europe, Europe     Asia  1926-1950  \n",
       "1                              Europe   Europe  1901-1925  \n",
       "2  Asia, North America, North America     Asia  1901-1925  "
      ]
     },
     "execution_count": 21,
     "metadata": {},
     "output_type": "execute_result"
    }
   ],
   "source": [
    "### fonction pd.cut : https://pandas.pydata.org/pandas-docs/stable/reference/api/pandas.cut.html\n",
    "# On ajoute une nouvelle colonne qui contient la période sur la base de la liste précédente\n",
    "# et de la valeur de l'année\n",
    "\n",
    "df_p['per_25'] = pd.cut(df_p['birthYear'], l_25, right=False)\n",
    "\n",
    "### Transformer le code ajouté pour qu'il soit plus lisible\n",
    "# noter qu'on a arrondi les valeurs\n",
    "df_p['per_25'] = df_p['per_25'].apply(lambda x : str(int(x.left))+'-'+ str(int(x.right)-1))\n",
    "\n",
    "# Inspection\n",
    "df_p.head(3)"
   ]
  },
  {
   "cell_type": "code",
   "execution_count": 22,
   "id": "4e943cfe-40d8-49c0-afa1-a55f964f657a",
   "metadata": {},
   "outputs": [
    {
     "name": "stdout",
     "output_type": "stream",
     "text": [
      "per_25\n",
      "1751-1775     254\n",
      "1776-1800     326\n",
      "1801-1825     532\n",
      "1826-1850     809\n",
      "1851-1875    1312\n",
      "1876-1900    1916\n",
      "1901-1925    4210\n",
      "1926-1950    8132\n",
      "dtype: int64\n"
     ]
    }
   ],
   "source": [
    "### compter les naissances par périodes de 25 ans\n",
    "naissances_per = df_p.groupby(by='per_25').size()\n",
    "print(naissances_per)"
   ]
  },
  {
   "cell_type": "code",
   "execution_count": 23,
   "id": "9a1dd793-210a-42c3-b68b-d0e1756277d1",
   "metadata": {},
   "outputs": [
    {
     "data": {
      "image/png": "[encoded data removed]",
      "text/plain": [
       "<Figure size 1600x800 with 1 Axes>"
      ]
     },
     "metadata": {},
     "output_type": "display_data"
    }
   ],
   "source": [
    "ax = df_p.groupby(by='per_25').size().plot(kind='bar',rot=60, fontsize=8, figsize=(16,8))\n",
    "plt.ylabel('Effectif')\n",
    "plt.xlabel('Périodes')\n",
    "plt.title('Naissances par périodes de ving-cinq ans')\n",
    "plt.show()"
   ]
  },
  {
   "cell_type": "markdown",
   "id": "7d3da8ee-300d-4fb8-be6e-384e1e4186ef",
   "metadata": {},
   "source": [
    "## Ajouter la représentation des continents"
   ]
  },
  {
   "cell_type": "code",
   "execution_count": 24,
   "id": "5fe3105a",
   "metadata": {},
   "outputs": [
    {
     "name": "stdout",
     "output_type": "stream",
     "text": [
      "['Africa', 'Asia', 'NorthAmerica', 'Oceania', 'SouthAmerica']\n"
     ]
    }
   ],
   "source": [
    "lcont = list(sorted(set(df_p.contCode.to_list())))\n",
    "lcont.remove('Europe')\n",
    "print(lcont)"
   ]
  },
  {
   "cell_type": "code",
   "execution_count": 25,
   "id": "a4371393",
   "metadata": {},
   "outputs": [
    {
     "data": {
      "text/html": [
       "<div>\n",
       "<style scoped>\n",
       "    .dataframe tbody tr th:only-of-type {\n",
       "        vertical-align: middle;\n",
       "    }\n",
       "\n",
       "    .dataframe tbody tr th {\n",
       "        vertical-align: top;\n",
       "    }\n",
       "\n",
       "    .dataframe thead th {\n",
       "        text-align: right;\n",
       "    }\n",
       "</style>\n",
       "<table border=\"1\" class=\"dataframe\">\n",
       "  <thead>\n",
       "    <tr style=\"text-align: right;\">\n",
       "      <th></th>\n",
       "      <th>Europe</th>\n",
       "    </tr>\n",
       "    <tr>\n",
       "      <th>per_25</th>\n",
       "      <th></th>\n",
       "    </tr>\n",
       "  </thead>\n",
       "  <tbody>\n",
       "    <tr>\n",
       "      <th>1826-1850</th>\n",
       "      <td>626</td>\n",
       "    </tr>\n",
       "    <tr>\n",
       "      <th>1851-1875</th>\n",
       "      <td>907</td>\n",
       "    </tr>\n",
       "    <tr>\n",
       "      <th>1876-1900</th>\n",
       "      <td>1257</td>\n",
       "    </tr>\n",
       "    <tr>\n",
       "      <th>1901-1925</th>\n",
       "      <td>2118</td>\n",
       "    </tr>\n",
       "    <tr>\n",
       "      <th>1926-1950</th>\n",
       "      <td>4790</td>\n",
       "    </tr>\n",
       "  </tbody>\n",
       "</table>\n",
       "</div>"
      ],
      "text/plain": [
       "           Europe\n",
       "per_25           \n",
       "1826-1850     626\n",
       "1851-1875     907\n",
       "1876-1900    1257\n",
       "1901-1925    2118\n",
       "1926-1950    4790"
      ]
     },
     "execution_count": 25,
     "metadata": {},
     "output_type": "execute_result"
    }
   ],
   "source": [
    "### Regrouper et compter avec un fitre sur le genre masculin\n",
    "merged = pd.DataFrame(df_p[df_p.contCode == 'Europe'].groupby('per_25').size())\n",
    "merged.columns = ['Europe']\n",
    "merged.tail()\n",
    "\n"
   ]
  },
  {
   "cell_type": "code",
   "execution_count": 26,
   "id": "b03dab9c",
   "metadata": {},
   "outputs": [
    {
     "data": {
      "text/html": [
       "<div>\n",
       "<style scoped>\n",
       "    .dataframe tbody tr th:only-of-type {\n",
       "        vertical-align: middle;\n",
       "    }\n",
       "\n",
       "    .dataframe tbody tr th {\n",
       "        vertical-align: top;\n",
       "    }\n",
       "\n",
       "    .dataframe thead th {\n",
       "        text-align: right;\n",
       "    }\n",
       "</style>\n",
       "<table border=\"1\" class=\"dataframe\">\n",
       "  <thead>\n",
       "    <tr style=\"text-align: right;\">\n",
       "      <th></th>\n",
       "      <th>Europe</th>\n",
       "      <th>Africa</th>\n",
       "      <th>Asia</th>\n",
       "      <th>NorthAmerica</th>\n",
       "      <th>Oceania</th>\n",
       "      <th>SouthAmerica</th>\n",
       "    </tr>\n",
       "    <tr>\n",
       "      <th>per_25</th>\n",
       "      <th></th>\n",
       "      <th></th>\n",
       "      <th></th>\n",
       "      <th></th>\n",
       "      <th></th>\n",
       "      <th></th>\n",
       "    </tr>\n",
       "  </thead>\n",
       "  <tbody>\n",
       "    <tr>\n",
       "      <th>1751-1775</th>\n",
       "      <td>226</td>\n",
       "      <td>0</td>\n",
       "      <td>8</td>\n",
       "      <td>19</td>\n",
       "      <td>0</td>\n",
       "      <td>1</td>\n",
       "    </tr>\n",
       "    <tr>\n",
       "      <th>1776-1800</th>\n",
       "      <td>278</td>\n",
       "      <td>1</td>\n",
       "      <td>3</td>\n",
       "      <td>41</td>\n",
       "      <td>2</td>\n",
       "      <td>1</td>\n",
       "    </tr>\n",
       "    <tr>\n",
       "      <th>1801-1825</th>\n",
       "      <td>442</td>\n",
       "      <td>2</td>\n",
       "      <td>8</td>\n",
       "      <td>75</td>\n",
       "      <td>2</td>\n",
       "      <td>3</td>\n",
       "    </tr>\n",
       "    <tr>\n",
       "      <th>1826-1850</th>\n",
       "      <td>626</td>\n",
       "      <td>2</td>\n",
       "      <td>7</td>\n",
       "      <td>160</td>\n",
       "      <td>8</td>\n",
       "      <td>6</td>\n",
       "    </tr>\n",
       "    <tr>\n",
       "      <th>1851-1875</th>\n",
       "      <td>907</td>\n",
       "      <td>5</td>\n",
       "      <td>42</td>\n",
       "      <td>319</td>\n",
       "      <td>26</td>\n",
       "      <td>13</td>\n",
       "    </tr>\n",
       "    <tr>\n",
       "      <th>1876-1900</th>\n",
       "      <td>1257</td>\n",
       "      <td>7</td>\n",
       "      <td>152</td>\n",
       "      <td>470</td>\n",
       "      <td>18</td>\n",
       "      <td>12</td>\n",
       "    </tr>\n",
       "    <tr>\n",
       "      <th>1901-1925</th>\n",
       "      <td>2118</td>\n",
       "      <td>18</td>\n",
       "      <td>702</td>\n",
       "      <td>1239</td>\n",
       "      <td>74</td>\n",
       "      <td>59</td>\n",
       "    </tr>\n",
       "    <tr>\n",
       "      <th>1926-1950</th>\n",
       "      <td>4790</td>\n",
       "      <td>41</td>\n",
       "      <td>1410</td>\n",
       "      <td>1628</td>\n",
       "      <td>108</td>\n",
       "      <td>155</td>\n",
       "    </tr>\n",
       "  </tbody>\n",
       "</table>\n",
       "</div>"
      ],
      "text/plain": [
       "           Europe  Africa  Asia  NorthAmerica  Oceania  SouthAmerica\n",
       "per_25                                                              \n",
       "1751-1775     226       0     8            19        0             1\n",
       "1776-1800     278       1     3            41        2             1\n",
       "1801-1825     442       2     8            75        2             3\n",
       "1826-1850     626       2     7           160        8             6\n",
       "1851-1875     907       5    42           319       26            13\n",
       "1876-1900    1257       7   152           470       18            12\n",
       "1901-1925    2118      18   702          1239       74            59\n",
       "1926-1950    4790      41  1410          1628      108           155"
      ]
     },
     "execution_count": 26,
     "metadata": {},
     "output_type": "execute_result"
    }
   ],
   "source": [
    "for cont in lcont:\n",
    "    new_df = pd.DataFrame(df_p[df_p.contCode == cont].groupby('per_25').size())\n",
    "    new_df.columns = [cont]\n",
    "    merged = pd.merge(merged, new_df, left_index=True, right_index=True)\n",
    "\n",
    "merged    \n",
    "    "
   ]
  },
  {
   "cell_type": "code",
   "execution_count": 27,
   "id": "60190e17-c1df-4a22-9ec9-be6b77108c46",
   "metadata": {},
   "outputs": [
    {
     "data": {
      "text/html": [
       "<div>\n",
       "<style scoped>\n",
       "    .dataframe tbody tr th:only-of-type {\n",
       "        vertical-align: middle;\n",
       "    }\n",
       "\n",
       "    .dataframe tbody tr th {\n",
       "        vertical-align: top;\n",
       "    }\n",
       "\n",
       "    .dataframe thead th {\n",
       "        text-align: right;\n",
       "    }\n",
       "</style>\n",
       "<table border=\"1\" class=\"dataframe\">\n",
       "  <thead>\n",
       "    <tr style=\"text-align: right;\">\n",
       "      <th></th>\n",
       "      <th>Europe</th>\n",
       "      <th>Africa</th>\n",
       "      <th>Asia</th>\n",
       "      <th>NorthAmerica</th>\n",
       "      <th>Oceania</th>\n",
       "      <th>SouthAmerica</th>\n",
       "    </tr>\n",
       "    <tr>\n",
       "      <th>per_25</th>\n",
       "      <th></th>\n",
       "      <th></th>\n",
       "      <th></th>\n",
       "      <th></th>\n",
       "      <th></th>\n",
       "      <th></th>\n",
       "    </tr>\n",
       "  </thead>\n",
       "  <tbody>\n",
       "    <tr>\n",
       "      <th>1751-1775</th>\n",
       "      <td>226</td>\n",
       "      <td>0</td>\n",
       "      <td>8</td>\n",
       "      <td>19</td>\n",
       "      <td>0</td>\n",
       "      <td>1</td>\n",
       "    </tr>\n",
       "    <tr>\n",
       "      <th>1776-1800</th>\n",
       "      <td>278</td>\n",
       "      <td>1</td>\n",
       "      <td>3</td>\n",
       "      <td>41</td>\n",
       "      <td>2</td>\n",
       "      <td>1</td>\n",
       "    </tr>\n",
       "    <tr>\n",
       "      <th>1801-1825</th>\n",
       "      <td>442</td>\n",
       "      <td>2</td>\n",
       "      <td>8</td>\n",
       "      <td>75</td>\n",
       "      <td>2</td>\n",
       "      <td>3</td>\n",
       "    </tr>\n",
       "    <tr>\n",
       "      <th>1826-1850</th>\n",
       "      <td>626</td>\n",
       "      <td>2</td>\n",
       "      <td>7</td>\n",
       "      <td>160</td>\n",
       "      <td>8</td>\n",
       "      <td>6</td>\n",
       "    </tr>\n",
       "    <tr>\n",
       "      <th>1851-1875</th>\n",
       "      <td>907</td>\n",
       "      <td>5</td>\n",
       "      <td>42</td>\n",
       "      <td>319</td>\n",
       "      <td>26</td>\n",
       "      <td>13</td>\n",
       "    </tr>\n",
       "    <tr>\n",
       "      <th>1876-1900</th>\n",
       "      <td>1257</td>\n",
       "      <td>7</td>\n",
       "      <td>152</td>\n",
       "      <td>470</td>\n",
       "      <td>18</td>\n",
       "      <td>12</td>\n",
       "    </tr>\n",
       "    <tr>\n",
       "      <th>1901-1925</th>\n",
       "      <td>2118</td>\n",
       "      <td>18</td>\n",
       "      <td>702</td>\n",
       "      <td>1239</td>\n",
       "      <td>74</td>\n",
       "      <td>59</td>\n",
       "    </tr>\n",
       "    <tr>\n",
       "      <th>1926-1950</th>\n",
       "      <td>4790</td>\n",
       "      <td>41</td>\n",
       "      <td>1410</td>\n",
       "      <td>1628</td>\n",
       "      <td>108</td>\n",
       "      <td>155</td>\n",
       "    </tr>\n",
       "  </tbody>\n",
       "</table>\n",
       "</div>"
      ],
      "text/plain": [
       "           Europe  Africa  Asia  NorthAmerica  Oceania  SouthAmerica\n",
       "per_25                                                              \n",
       "1751-1775     226       0     8            19        0             1\n",
       "1776-1800     278       1     3            41        2             1\n",
       "1801-1825     442       2     8            75        2             3\n",
       "1826-1850     626       2     7           160        8             6\n",
       "1851-1875     907       5    42           319       26            13\n",
       "1876-1900    1257       7   152           470       18            12\n",
       "1901-1925    2118      18   702          1239       74            59\n",
       "1926-1950    4790      41  1410          1628      108           155"
      ]
     },
     "execution_count": 27,
     "metadata": {},
     "output_type": "execute_result"
    }
   ],
   "source": [
    "### Transformer l'index de séquence à chaîne de caractères\n",
    "# ce qui est indispensable pour l'affichage dans un graphique\n",
    "merged.index = merged.index.map(str)\n",
    "merged"
   ]
  },
  {
   "cell_type": "code",
   "execution_count": 28,
   "id": "afa4bf97",
   "metadata": {},
   "outputs": [],
   "source": [
    "## Order des couleurs\n",
    "col_palette_2 = [\n",
    "    \"#DCDCDC\",  # Gainsboro : Europe\n",
    "    \"#A3C1DA\",  # Light Blue : Africa    \n",
    "    \"#F4A261\",  # Light Coral: Asia\n",
    "    \"#DC4B4B\",   # indianred : NorthAmerica\n",
    "    \"#B2E0B2\",  # Light Green : Oceania\n",
    "    \"#F6E58D\",  # Light Yellow :SouthAmerica\n",
    "]\n"
   ]
  },
  {
   "cell_type": "code",
   "execution_count": 29,
   "id": "d188f96f-feca-464b-b338-f87e3c9cb23b",
   "metadata": {},
   "outputs": [
    {
     "data": {
      "image/png": "[encoded data removed]",
      "text/plain": [
       "<Figure size 2100x1400 with 1 Axes>"
      ]
     },
     "metadata": {},
     "output_type": "display_data"
    }
   ],
   "source": [
    "### Documentation\n",
    "# https://pandas.pydata.org/pandas-docs/stable/reference/api/pandas.DataFrame.plot.bar.html\n",
    "ax = merged.plot.bar(stacked=True, rot=70, fontsize=9, figsize=(21,14), \n",
    "                     color=col_palette_2)\n",
    "plt.show()"
   ]
  },
  {
   "cell_type": "markdown",
   "id": "1ea74235",
   "metadata": {},
   "source": [
    "## Temporal distribution with multiple plot\n",
    "\n",
    "\n"
   ]
  },
  {
   "cell_type": "code",
   "execution_count": 30,
   "id": "bb96fbac",
   "metadata": {},
   "outputs": [
    {
     "name": "stdout",
     "output_type": "stream",
     "text": [
      "           Europe  Africa  Asia  NorthAmerica  Oceania  SouthAmerica\n",
      "per_25                                                              \n",
      "1751-1775     226       0     8            19        0             1\n",
      "1776-1800     278       1     3            41        2             1\n",
      "1801-1825     442       2     8            75        2             3\n",
      "1826-1850     626       2     7           160        8             6\n",
      "1851-1875     907       5    42           319       26            13\n",
      "1876-1900    1257       7   152           470       18            12\n",
      "1901-1925    2118      18   702          1239       74            59\n",
      "1926-1950    4790      41  1410          1628      108           155\n",
      "8\n",
      "1751-1775\n",
      "           Europe  Africa  Asia  NorthAmerica  Oceania  SouthAmerica\n",
      "frequence   88.98     0.0  3.15          7.48      0.0          0.39\n"
     ]
    },
    {
     "data": {
      "text/plain": [
       "Text(0.5, 1.0, '1751-1775')"
      ]
     },
     "execution_count": 30,
     "metadata": {},
     "output_type": "execute_result"
    },
    {
     "data": {
      "image/png": "[encoded data removed]",
      "text/plain": [
       "<Figure size 1500x200 with 1 Axes>"
      ]
     },
     "metadata": {},
     "output_type": "display_data"
    }
   ],
   "source": [
    "print(merged)\n",
    "print(len(merged))\n",
    "#print(merged.index.to_list())\n",
    "df = pd.DataFrame(merged.iloc[0 , ])\n",
    "print(df.columns[0])\n",
    "#df.columns=['effectif']\n",
    "df['frequence'] = (100 * df / df.sum()).round(2)\n",
    "ljt = pd.DataFrame(df['frequence']).T\n",
    "\n",
    "print(ljt)\n",
    "fig = ljt.plot(kind='barh', stacked=True, figsize=(15,2), color=col_palette_1, width=0.2, xlim=[0,100])\n",
    "fig.set_title(df.columns[0])\n"
   ]
  },
  {
   "cell_type": "code",
   "execution_count": 39,
   "id": "cdb4df52",
   "metadata": {},
   "outputs": [
    {
     "data": {
      "image/png": "[encoded data removed]",
      "text/plain": [
       "<Figure size 1500x200 with 1 Axes>"
      ]
     },
     "metadata": {},
     "output_type": "display_data"
    },
    {
     "data": {
      "image/png": "[encoded data removed]",
      "text/plain": [
       "<Figure size 1500x200 with 1 Axes>"
      ]
     },
     "metadata": {},
     "output_type": "display_data"
    },
    {
     "data": {
      "image/png": "[encoded data removed]",
      "text/plain": [
       "<Figure size 1500x200 with 1 Axes>"
      ]
     },
     "metadata": {},
     "output_type": "display_data"
    },
    {
     "data": {
      "image/png": "[encoded data removed]",
      "text/plain": [
       "<Figure size 1500x200 with 1 Axes>"
      ]
     },
     "metadata": {},
     "output_type": "display_data"
    },
    {
     "data": {
      "image/png": "[encoded data removed]",
      "text/plain": [
       "<Figure size 1500x200 with 1 Axes>"
      ]
     },
     "metadata": {},
     "output_type": "display_data"
    },
    {
     "data": {
      "image/png": "[encoded data removed]",
      "text/plain": [
       "<Figure size 1500x200 with 1 Axes>"
      ]
     },
     "metadata": {},
     "output_type": "display_data"
    },
    {
     "data": {
      "image/png": "[encoded data removed]",
      "text/plain": [
       "<Figure size 1500x200 with 1 Axes>"
      ]
     },
     "metadata": {},
     "output_type": "display_data"
    },
    {
     "data": {
      "image/png": "[encoded data removed]",
      "text/plain": [
       "<Figure size 1500x200 with 1 Axes>"
      ]
     },
     "metadata": {},
     "output_type": "display_data"
    }
   ],
   "source": [
    "lm = len(merged)\n",
    "\n",
    "# Initialise the subplot function using number of rows and columns\n",
    "#figure, axis = plt.subplots(lm, 1)\n",
    "\n",
    "\n",
    "i = 0\n",
    "\n",
    "while i < lm:\n",
    "    df = pd.DataFrame(merged.iloc[i , ])\n",
    "    df['frequence'] = (100 * df / df.sum()).round(2)\n",
    "    ljt = pd.DataFrame(df['frequence']).T\n",
    "    # print(ljt)\n",
    "    fig = ljt.plot(kind='barh', stacked=True, figsize=(15,2), color=col_palette_1, width=0.2, xlim=[0,100])\n",
    "    fig.set_title(df.columns[0])\n",
    "    i += 1\n",
    "\n",
    "# Combine all the operations and display\n",
    "# plt.show()\n"
   ]
  },
  {
   "cell_type": "markdown",
   "id": "df85311e",
   "metadata": {},
   "source": [
    "Noter que la distribution est quasiment la même pour l'ensemble de la période du fait des effectifs très importants du 20e siècle, qui définissent la tendance générale"
   ]
  }
 ],
 "metadata": {
  "kernelspec": {
   "display_name": "Py3.10 sparql",
   "language": "python",
   "name": "py310_sparql"
  },
  "language_info": {
   "codemirror_mode": {
    "name": "ipython",
    "version": 3
   },
   "file_extension": ".py",
   "mimetype": "text/x-python",
   "name": "python",
   "nbconvert_exporter": "python",
   "pygments_lexer": "ipython3",
   "version": "3.10.9"
  }
 },
 "nbformat": 4,
 "nbformat_minor": 5
}
