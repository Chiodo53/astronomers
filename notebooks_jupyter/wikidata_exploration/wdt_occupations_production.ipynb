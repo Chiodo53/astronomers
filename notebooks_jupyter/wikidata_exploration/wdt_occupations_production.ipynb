{
 "cells": [
  {
   "cell_type": "markdown",
   "id": "9150426b-5190-4539-8204-61253a0f1bd4",
   "metadata": {},
   "source": [
    "# Production des occupations renseignées dans Wikidata \n",
    "\n",
    "Dans ce carnet est proposée la méthode dep roduction des occupations de la population Wikidata retenue.\n"
   ]
  },
  {
   "cell_type": "code",
   "execution_count": 1,
   "id": "f23df1c9-31db-4601-800e-cb621b867b39",
   "metadata": {
    "tags": []
   },
   "outputs": [],
   "source": [
    "from SPARQLWrapper import SPARQLWrapper, SPARQLWrapper2, JSON, TURTLE, XML, RDFXML"
   ]
  },
  {
   "cell_type": "code",
   "execution_count": 2,
   "id": "f2085427-bf14-40c6-8939-b74d38f31d16",
   "metadata": {
    "tags": []
   },
   "outputs": [],
   "source": [
    "import pandas as pd\n",
    "import matplotlib.pyplot as plt\n",
    "import numpy as np"
   ]
  },
  {
   "cell_type": "code",
   "execution_count": null,
   "id": "0133375f",
   "metadata": {},
   "outputs": [],
   "source": [
    "### https://mwouts.github.io/itables/quick_start.html\n",
    "\n",
    "from itables import init_notebook_mode, show\n",
    "\n",
    "init_notebook_mode(all_interactive=False)\n"
   ]
  },
  {
   "cell_type": "code",
   "execution_count": 4,
   "id": "e6ce0f0e-db36-47cd-8015-a5bf33f0f7fa",
   "metadata": {
    "tags": []
   },
   "outputs": [],
   "source": [
    "### Librairies déjà installées avec Python\n",
    "import pprint\n",
    "import csv\n",
    "import sys\n",
    "\n",
    "import sqlite3 as sql\n",
    "\n",
    "import time\n",
    "import datetime\n",
    "from dateutil import parser\n",
    "\n",
    "from importlib import reload\n",
    "from shutil import copyfile\n"
   ]
  },
  {
   "cell_type": "code",
   "execution_count": 5,
   "id": "9b90838d-2160-49e3-8adb-a67ff2cd112e",
   "metadata": {},
   "outputs": [],
   "source": [
    "### Importer un module de fonctions crées ad hoc\n",
    "##  ATTENTION : le fichier 'sparql_functions.py' doit se trouver \n",
    "#   dans un dossier qui se situe dans le chemin ('path') de recherche\n",
    "#   vu par le présent carnet Jupyter afin que\n",
    "#   l'importation fonctionne correctement\n",
    "\n",
    "# Add parent directory to the path\n",
    "sys.path.insert(0, '..')\n",
    "\n",
    "### If you want to add the parent-parent directory,\n",
    "sys.path.insert(0, '../..')\n",
    "\n",
    "\n",
    "import sparql_functions as spqf"
   ]
  },
  {
   "cell_type": "markdown",
   "id": "13ff56ee",
   "metadata": {},
   "source": [
    "## Préparer les données"
   ]
  },
  {
   "cell_type": "markdown",
   "id": "3fe8665b-f64c-42bb-8786-4aee3673867c",
   "metadata": {},
   "source": [
    "### SPARQL Query qui récupère les données\n",
    "\n",
    "On exécute la requête grâce à une fonction de la librairie locale qui réalise la mise en forme"
   ]
  },
  {
   "cell_type": "code",
   "execution_count": 6,
   "id": "cf08874b-9ba0-4f5c-8eee-aebd9f0d0d26",
   "metadata": {},
   "outputs": [],
   "source": [
    "## define SPARQL enpoint\n",
    "endpoint = \"https://query.wikidata.org/sparql\""
   ]
  },
  {
   "cell_type": "code",
   "execution_count": 7,
   "id": "164e80e8-1834-473a-a605-a3c1a660eff3",
   "metadata": {},
   "outputs": [],
   "source": [
    "query = \"\"\"\n",
    "SELECT DISTINCT ?item ?occupation ?occupationLabel\n",
    "        WHERE {\n",
    "            {\n",
    "            {?item wdt:P106 wd:Q169470}\n",
    "            # UNION\n",
    "            # {?item wdt:P101 wd:Q413}  \n",
    "          UNION \n",
    "          {?item wdt:P106 wd:Q11063}\n",
    "            # UNION\n",
    "            # {?item wdt:P101 wd:Q333} \n",
    "            UNION\n",
    "              {?item wdt:P106 wd:Q155647}\n",
    "            # UNION\n",
    "            # {?item wdt:P101 wd:Q34362} \n",
    "              }\n",
    "          \n",
    "          ?item wdt:P31 wd:Q5;  # Any instance of a human.\n",
    "              wdt:P569 ?birthDate;\n",
    "                wdt:P106 ?occupation.\n",
    "        BIND(REPLACE(str(?birthDate), \"(.*)([0-9]{4})(.*)\", \"$2\") AS ?year)\n",
    "        FILTER(xsd:integer(?year) > 1350 )\n",
    "          \n",
    "          SERVICE wikibase:label { bd:serviceParam wikibase:language \"en\" }\n",
    "        } \n",
    "     ORDER BY ?year\n",
    "\"\"\""
   ]
  },
  {
   "cell_type": "code",
   "execution_count": 8,
   "id": "70f2370f-e287-404f-ba7b-aaf79021047e",
   "metadata": {},
   "outputs": [],
   "source": [
    "### Executer la requête avec les fonctions de la librairie locale\n",
    "qr = spqf.get_json_sparql_result(endpoint,query)"
   ]
  },
  {
   "cell_type": "code",
   "execution_count": 9,
   "id": "21bfd9f5-4c63-4b8c-af10-f9ddec203db2",
   "metadata": {},
   "outputs": [
    {
     "name": "stdout",
     "output_type": "stream",
     "text": [
      "67587\n"
     ]
    },
    {
     "data": {
      "text/plain": [
       "[['http://www.wikidata.org/entity/Q855257',\n",
       "  'http://www.wikidata.org/entity/Q155647',\n",
       "  'astrologer'],\n",
       " ['http://www.wikidata.org/entity/Q855257',\n",
       "  'http://www.wikidata.org/entity/Q170790',\n",
       "  'mathematician'],\n",
       " ['http://www.wikidata.org/entity/Q855257',\n",
       "  'http://www.wikidata.org/entity/Q1622272',\n",
       "  'university teacher']]"
      ]
     },
     "execution_count": 9,
     "metadata": {},
     "output_type": "execute_result"
    }
   ],
   "source": [
    "r = [l for l in spqf.sparql_result_to_list(qr)]\n",
    "print(len(r))\n",
    "r[:3]"
   ]
  },
  {
   "cell_type": "code",
   "execution_count": 10,
   "id": "236bbba5-a4df-4a7b-b215-44c9bc3f355f",
   "metadata": {},
   "outputs": [
    {
     "data": {
      "text/html": [
       "<div>\n",
       "<style scoped>\n",
       "    .dataframe tbody tr th:only-of-type {\n",
       "        vertical-align: middle;\n",
       "    }\n",
       "\n",
       "    .dataframe tbody tr th {\n",
       "        vertical-align: top;\n",
       "    }\n",
       "\n",
       "    .dataframe thead th {\n",
       "        text-align: right;\n",
       "    }\n",
       "</style>\n",
       "<table border=\"1\" class=\"dataframe\">\n",
       "  <thead>\n",
       "    <tr style=\"text-align: right;\">\n",
       "      <th></th>\n",
       "      <th>personUri</th>\n",
       "      <th>occupationUri</th>\n",
       "      <th>occupationLabel</th>\n",
       "    </tr>\n",
       "  </thead>\n",
       "  <tbody>\n",
       "    <tr>\n",
       "      <th>0</th>\n",
       "      <td>http://www.wikidata.org/entity/Q855257</td>\n",
       "      <td>http://www.wikidata.org/entity/Q155647</td>\n",
       "      <td>astrologer</td>\n",
       "    </tr>\n",
       "    <tr>\n",
       "      <th>1</th>\n",
       "      <td>http://www.wikidata.org/entity/Q855257</td>\n",
       "      <td>http://www.wikidata.org/entity/Q170790</td>\n",
       "      <td>mathematician</td>\n",
       "    </tr>\n",
       "    <tr>\n",
       "      <th>2</th>\n",
       "      <td>http://www.wikidata.org/entity/Q855257</td>\n",
       "      <td>http://www.wikidata.org/entity/Q1622272</td>\n",
       "      <td>university teacher</td>\n",
       "    </tr>\n",
       "    <tr>\n",
       "      <th>3</th>\n",
       "      <td>http://www.wikidata.org/entity/Q855257</td>\n",
       "      <td>http://www.wikidata.org/entity/Q4964182</td>\n",
       "      <td>philosopher</td>\n",
       "    </tr>\n",
       "    <tr>\n",
       "      <th>4</th>\n",
       "      <td>http://www.wikidata.org/entity/Q4121967</td>\n",
       "      <td>http://www.wikidata.org/entity/Q11063</td>\n",
       "      <td>astronomer</td>\n",
       "    </tr>\n",
       "  </tbody>\n",
       "</table>\n",
       "</div>"
      ],
      "text/plain": [
       "                                 personUri  \\\n",
       "0   http://www.wikidata.org/entity/Q855257   \n",
       "1   http://www.wikidata.org/entity/Q855257   \n",
       "2   http://www.wikidata.org/entity/Q855257   \n",
       "3   http://www.wikidata.org/entity/Q855257   \n",
       "4  http://www.wikidata.org/entity/Q4121967   \n",
       "\n",
       "                             occupationUri     occupationLabel  \n",
       "0   http://www.wikidata.org/entity/Q155647          astrologer  \n",
       "1   http://www.wikidata.org/entity/Q170790       mathematician  \n",
       "2  http://www.wikidata.org/entity/Q1622272  university teacher  \n",
       "3  http://www.wikidata.org/entity/Q4964182         philosopher  \n",
       "4    http://www.wikidata.org/entity/Q11063          astronomer  "
      ]
     },
     "execution_count": 10,
     "metadata": {},
     "output_type": "execute_result"
    }
   ],
   "source": [
    "### Créer un DataFrame à partir du résultat\n",
    "df_r = pd.DataFrame(r)\n",
    "df_r.columns = ['personUri', 'occupationUri', 'occupationLabel']\n",
    "df_r.head()"
   ]
  },
  {
   "cell_type": "code",
   "execution_count": 11,
   "id": "eb664e6b-7fd0-4757-8bff-db79a0d52f97",
   "metadata": {
    "tags": []
   },
   "outputs": [
    {
     "name": "stdout",
     "output_type": "stream",
     "text": [
      "<class 'pandas.core.frame.DataFrame'>\n",
      "RangeIndex: 67587 entries, 0 to 67586\n",
      "Data columns (total 3 columns):\n",
      " #   Column           Non-Null Count  Dtype \n",
      "---  ------           --------------  ----- \n",
      " 0   personUri        67587 non-null  object\n",
      " 1   occupationUri    67587 non-null  object\n",
      " 2   occupationLabel  67587 non-null  object\n",
      "dtypes: object(3)\n",
      "memory usage: 1.5+ MB\n"
     ]
    }
   ],
   "source": [
    "df_r.info()"
   ]
  },
  {
   "cell_type": "markdown",
   "id": "61cf955b-aaca-446c-a957-47b86a4ea610",
   "metadata": {},
   "source": [
    "### Créer une nouvelle table dans la base de données SQLite\n",
    "\n",
    "On va stocker dans cette table le résultat de la requête SPARQL préalablement transformé en DataFrame"
   ]
  },
  {
   "cell_type": "code",
   "execution_count": 12,
   "id": "00b2f7ff-7d67-4602-9b1e-38dd37809a75",
   "metadata": {},
   "outputs": [
    {
     "data": {
      "text/plain": [
       "<sqlite3.Connection at 0x7efcb0399540>"
      ]
     },
     "execution_count": 12,
     "metadata": {},
     "output_type": "execute_result"
    }
   ],
   "source": [
    "### Se connecter à la base de données dans laquelle on va insérer\n",
    "# le résultat de la requête SPARQL\n",
    "cn = sql.connect('../../data/astronomers_import.db')\n",
    "cn"
   ]
  },
  {
   "cell_type": "code",
   "execution_count": null,
   "id": "97540a56-75b7-44b5-93b2-922e22b7bfd4",
   "metadata": {},
   "outputs": [],
   "source": [
    "### Créer une nouvelle table contenant le DataFrame\n",
    "# Si on tente de la recréer, alor qu'elle existe déjà,\n",
    "# un message d'erreur est renvoyé\n",
    "try:\n",
    "    l = df_r.to_sql(name='wdt_person_occupation', con=cn, if_exists='fail')\n",
    "except Exception as e:\n",
    "    print('Erreur: ',  e)"
   ]
  },
  {
   "cell_type": "code",
   "execution_count": 15,
   "id": "34f32038-ae06-47de-8a52-fc50cdfb2da9",
   "metadata": {},
   "outputs": [
    {
     "name": "stdout",
     "output_type": "stream",
     "text": [
      "(0, 'http://www.wikidata.org/entity/Q855257', 'http://www.wikidata.org/entity/Q155647', 'astrologer')\n",
      "(1, 'http://www.wikidata.org/entity/Q855257', 'http://www.wikidata.org/entity/Q170790', 'mathematician')\n",
      "(2, 'http://www.wikidata.org/entity/Q855257', 'http://www.wikidata.org/entity/Q1622272', 'university teacher')\n"
     ]
    }
   ],
   "source": [
    "### Vérifier que les données ont été importées correctement\n",
    "cur = cn.cursor()\n",
    "l = cur.execute(\"SELECT * FROM wdt_person_occupation limit 3\").fetchall()\n",
    "### On a mis le résultat de la requête SQL \n",
    "# dans une liste 'l' qu'on affiche avec une boucle 'for'\n",
    "# dans le cadre d'une 'list comprehension'\n",
    "a = [print(e) for e in l]"
   ]
  },
  {
   "cell_type": "code",
   "execution_count": 30,
   "id": "8a2e36a4",
   "metadata": {},
   "outputs": [
    {
     "name": "stdout",
     "output_type": "stream",
     "text": [
      "Nombre de lignes de la table: 67587\n"
     ]
    }
   ],
   "source": [
    "### Vérifier que les données ont été importées correctement\n",
    "cur = cn.cursor()\n",
    "l = cur.execute(\"SELECT COUNT(*) FROM wdt_person_occupation \").fetchone()\n",
    "print('Nombre de lignes de la table:', l[0])"
   ]
  },
  {
   "cell_type": "markdown",
   "id": "8d247232-d5c9-4f7a-88c3-1fa41b9bfc73",
   "metadata": {
    "tags": []
   },
   "source": [
    "### Créer une table qui contient les métiers "
   ]
  },
  {
   "cell_type": "code",
   "execution_count": 16,
   "id": "172e0cbb",
   "metadata": {},
   "outputs": [
    {
     "data": {
      "text/html": [
       "<div>\n",
       "<style scoped>\n",
       "    .dataframe tbody tr th:only-of-type {\n",
       "        vertical-align: middle;\n",
       "    }\n",
       "\n",
       "    .dataframe tbody tr th {\n",
       "        vertical-align: top;\n",
       "    }\n",
       "\n",
       "    .dataframe thead th {\n",
       "        text-align: right;\n",
       "    }\n",
       "</style>\n",
       "<table border=\"1\" class=\"dataframe\">\n",
       "  <thead>\n",
       "    <tr style=\"text-align: right;\">\n",
       "      <th></th>\n",
       "      <th>uri</th>\n",
       "      <th>label</th>\n",
       "      <th>freq</th>\n",
       "    </tr>\n",
       "  </thead>\n",
       "  <tbody>\n",
       "    <tr>\n",
       "      <th>0</th>\n",
       "      <td>http://www.wikidata.org/entity/Q169470</td>\n",
       "      <td>physicist</td>\n",
       "      <td>25564</td>\n",
       "    </tr>\n",
       "    <tr>\n",
       "      <th>1</th>\n",
       "      <td>http://www.wikidata.org/entity/Q11063</td>\n",
       "      <td>astronomer</td>\n",
       "      <td>8054</td>\n",
       "    </tr>\n",
       "    <tr>\n",
       "      <th>2</th>\n",
       "      <td>http://www.wikidata.org/entity/Q1622272</td>\n",
       "      <td>university teacher</td>\n",
       "      <td>7423</td>\n",
       "    </tr>\n",
       "    <tr>\n",
       "      <th>3</th>\n",
       "      <td>http://www.wikidata.org/entity/Q170790</td>\n",
       "      <td>mathematician</td>\n",
       "      <td>2888</td>\n",
       "    </tr>\n",
       "    <tr>\n",
       "      <th>4</th>\n",
       "      <td>http://www.wikidata.org/entity/Q36180</td>\n",
       "      <td>writer</td>\n",
       "      <td>1122</td>\n",
       "    </tr>\n",
       "  </tbody>\n",
       "</table>\n",
       "</div>"
      ],
      "text/plain": [
       "                                       uri               label   freq\n",
       "0   http://www.wikidata.org/entity/Q169470           physicist  25564\n",
       "1    http://www.wikidata.org/entity/Q11063          astronomer   8054\n",
       "2  http://www.wikidata.org/entity/Q1622272  university teacher   7423\n",
       "3   http://www.wikidata.org/entity/Q170790       mathematician   2888\n",
       "4    http://www.wikidata.org/entity/Q36180              writer   1122"
      ]
     },
     "execution_count": 16,
     "metadata": {},
     "output_type": "execute_result"
    }
   ],
   "source": [
    "q=\"\"\"\n",
    "-- noter que la fonction TRIM élimine les éventuels espaces en début ou fin de chaine de charactères\n",
    "-- la fonction LOWER met tout au minuscule\n",
    "SELECT TRIM(occupationUri) as occupationUri, LOWER(TRIM(occupationLabel)) AS occupationLabel, COUNT(*) as effectif\n",
    "FROM wdt_person_occupation\n",
    "GROUP BY TRIM(occupationUri), LOWER(TRIM(occupationLabel))\n",
    "ORDER BY effectif DESC\n",
    "\"\"\"\n",
    "cur = cn.cursor()\n",
    "r = cur.execute(q).fetchall()\n",
    "rdf = pd.DataFrame(r,columns=['uri', 'label', 'freq'])\n",
    "rdf.head()"
   ]
  },
  {
   "cell_type": "code",
   "execution_count": 17,
   "id": "66823c4a",
   "metadata": {},
   "outputs": [
    {
     "name": "stdout",
     "output_type": "stream",
     "text": [
      "<class 'pandas.core.frame.DataFrame'>\n",
      "RangeIndex: 1246 entries, 0 to 1245\n",
      "Data columns (total 3 columns):\n",
      " #   Column  Non-Null Count  Dtype \n",
      "---  ------  --------------  ----- \n",
      " 0   uri     1246 non-null   object\n",
      " 1   label   1246 non-null   object\n",
      " 2   freq    1246 non-null   int64 \n",
      "dtypes: int64(1), object(2)\n",
      "memory usage: 29.3+ KB\n"
     ]
    }
   ],
   "source": [
    "rdf.info()"
   ]
  },
  {
   "cell_type": "code",
   "execution_count": 20,
   "id": "213b8e31-73d8-4b15-abb1-2fe9fecd4e53",
   "metadata": {},
   "outputs": [],
   "source": [
    "### Après avoir crée avec SQLite Studio une table 'wdt_occupation'\n",
    "# la remplir avec une ligne par métier\n",
    "\n",
    "\n",
    "q2 = \"\"\"\n",
    "INSERT INTO wdt_occupation (wdt_uri,label)\n",
    "SELECT DISTINCT TRIM(occupationUri), LOWER(TRIM(occupationLabel))\n",
    "FROM wdt_person_occupation;\n",
    "\"\"\"\n",
    "\n",
    "## Attention : la requête est commentée pour éviter \n",
    "# de la réexécuter par mégarde: en effet, cette table\n",
    "# servira au codage des domaines — ne pas l'effacer\n",
    "\n",
    "cur = cn.cursor()\n",
    "# r = cur.execute(q2)\n",
    "# cn.commit()"
   ]
  },
  {
   "cell_type": "code",
   "execution_count": 19,
   "id": "28f6212a",
   "metadata": {},
   "outputs": [],
   "source": [
    "### ATTENTION : ces requêtes vident la table wdt_occupation et remettent \n",
    "# la séquence des primary keys au début: la première valeur sera donc 1\n",
    "\n",
    "### ATTENTION 2: cette table permet le codage des domaines — ne pas l'effacer !\n",
    "\n",
    "q3 = \"\"\"\n",
    "DELETE FROM wdt_occupation  ;\n",
    "\"\"\"\n",
    "\n",
    "q4=\"\"\"UPDATE SQLITE_SEQUENCE \n",
    "    SET seq = 0\n",
    "    WHERE name ='wdt_occupation';\n",
    "    \"\"\"\n",
    "\n",
    "### ATTENTION : cette cellule contient le code nécessaire si on doit refaire la table\n",
    "# généralement on ne doit pas l'exécuter, et si on veut vraiment l'exécuter  \n",
    "# il faut décommenter le code\n",
    "\n",
    "# cur = cn.cursor()\n",
    "# r = cur.execute(q3)\n",
    "# r = cur.execute(q4)\n",
    "# cn.commit()"
   ]
  },
  {
   "cell_type": "markdown",
   "id": "55728ef7",
   "metadata": {},
   "source": [
    "## Vérifier l'importation"
   ]
  },
  {
   "cell_type": "code",
   "execution_count": 21,
   "id": "92d43e52",
   "metadata": {},
   "outputs": [
    {
     "name": "stdout",
     "output_type": "stream",
     "text": [
      "Nombre de métiers différents: 1246\n"
     ]
    }
   ],
   "source": [
    "### Le nombre de métiers différents: noter qu'il y des répétitions\n",
    "## et inconsistances dans les données de Wikidata\n",
    "\n",
    "q=\"\"\"\n",
    "SELECT COUNT(*)\n",
    "FROM wdt_occupation\n",
    "\"\"\"\n",
    "cur = cn.cursor()\n",
    "r = cur.execute(q).fetchone()\n",
    "print('Nombre de métiers différents:' , r[0])"
   ]
  },
  {
   "cell_type": "code",
   "execution_count": 22,
   "id": "350ea6ae",
   "metadata": {},
   "outputs": [
    {
     "name": "stdout",
     "output_type": "stream",
     "text": [
      "1246\n"
     ]
    }
   ],
   "source": [
    "## Vérifier que le DataFrame rdf contient le même nombre de modalités\n",
    "print(len(rdf))"
   ]
  },
  {
   "cell_type": "code",
   "execution_count": 26,
   "id": "d4cbbd1e",
   "metadata": {},
   "outputs": [
    {
     "name": "stdout",
     "output_type": "stream",
     "text": [
      "[(1, 'astrologer', None, 'http://www.wikidata.org/entity/Q155647', None),\n",
      " (2, 'mathematician', None, 'http://www.wikidata.org/entity/Q170790', None),\n",
      " (3,\n",
      "  'university teacher',\n",
      "  None,\n",
      "  'http://www.wikidata.org/entity/Q1622272',\n",
      "  None),\n",
      " (4, 'philosopher', None, 'http://www.wikidata.org/entity/Q4964182', None),\n",
      " (5, 'astronomer', None, 'http://www.wikidata.org/entity/Q11063', None)]\n"
     ]
    }
   ],
   "source": [
    "### Quelques métiers, \n",
    "# pour mieux explorer parcourir la table dans DBeaver\n",
    "\n",
    "q=\"\"\"\n",
    "SELECT *\n",
    "FROM wdt_occupation\n",
    "LIMIT 5\n",
    "\"\"\"\n",
    "cur = cn.cursor()\n",
    "r = cur.execute(q).fetchall()\n",
    "pprint.pprint(r)"
   ]
  }
 ],
 "metadata": {
  "kernelspec": {
   "display_name": "Py3.10 sparql",
   "language": "python",
   "name": "py310_sparql"
  },
  "language_info": {
   "codemirror_mode": {
    "name": "ipython",
    "version": 3
   },
   "file_extension": ".py",
   "mimetype": "text/x-python",
   "name": "python",
   "nbconvert_exporter": "python",
   "pygments_lexer": "ipython3",
   "version": "3.10.9"
  }
 },
 "nbformat": 4,
 "nbformat_minor": 5
}
