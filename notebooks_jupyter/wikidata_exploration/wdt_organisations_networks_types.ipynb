{
 "cells": [
  {
   "cell_type": "markdown",
   "metadata": {},
   "source": [
    "# Networks of types of organisations\n",
    "\n",
    "\n",
    "Experimental, do not consider !"
   ]
  },
  {
   "cell_type": "code",
   "execution_count": null,
   "metadata": {},
   "outputs": [],
   "source": [
    "### Librairie à installer dans l'environnement conda (si on exécute en local)\n",
    "# qui sera choisi pour exécuter le carnet\n",
    "from SPARQLWrapper import SPARQLWrapper, JSON, TURTLE, XML, RDFXML\n",
    "import pandas as pd\n",
    "\n",
    "\n",
    "import networkx as nx\n",
    "from networkx.algorithms import bipartite\n",
    "\n",
    "import matplotlib.pyplot as plt\n",
    "import matplotlib.patches as patches\n",
    "\n",
    "import numpy as np\n",
    "import seaborn as sns\n",
    "import math\n",
    "import os"
   ]
  },
  {
   "cell_type": "code",
   "execution_count": null,
   "metadata": {},
   "outputs": [],
   "source": [
    "### Librairies déjà installées avec Python\n",
    "import pprint\n",
    "import csv\n",
    "\n",
    "import sqlite3 as sql\n",
    "\n",
    "import time\n",
    "import datetime\n",
    "from dateutil import parser\n",
    "\n",
    "\n",
    "from shutil import copyfile\n"
   ]
  },
  {
   "cell_type": "code",
   "execution_count": null,
   "metadata": {},
   "outputs": [],
   "source": [
    "### Importer un module de fonctions crées ad hoc\n",
    "##  ATTENTION : le fichier 'sparql_functions.py' doit se trouver \n",
    "#   dans un dossier qui se situe dans le chemin ('path') de recherche\n",
    "#   vu par le présent carnet Jupyter afin que\n",
    "#   l'importation fonctionne correctement\n",
    "\n",
    "import sys\n",
    "from importlib import reload\n",
    "\n",
    "# Add parent directory to the path\n",
    "sys.path.insert(0, '..')\n",
    "\n",
    "### If you want to add the parent-parent directory,\n",
    "sys.path.insert(0, '../..')\n",
    "\n",
    "\n",
    "import sparql_functions as spqf\n",
    "import network_analysis_functions as naf"
   ]
  },
  {
   "cell_type": "code",
   "execution_count": null,
   "metadata": {},
   "outputs": [],
   "source": [
    "print(reload(naf))  "
   ]
  },
  {
   "cell_type": "markdown",
   "metadata": {},
   "source": [
    "## Get the data from the triplestore\n",
    "\n",
    "This notebook is based on the same relationships (and therefore data) as [the one about persons' relationships](wdt_persons_organisations_networks.ipynb), namely the relationship between persons and organisation as original information.\n",
    "\n",
    "...  [compléter]\n"
   ]
  },
  {
   "cell_type": "code",
   "execution_count": null,
   "metadata": {},
   "outputs": [],
   "source": [
    "## define SPARQL enpoint\n",
    "endpoint = \"https://ag16gm9pr0meths2.allegrograph.cloud/repositories/astronomers\""
   ]
  },
  {
   "cell_type": "code",
   "execution_count": null,
   "metadata": {},
   "outputs": [],
   "source": [
    "query = \"\"\"\n",
    "\n",
    "PREFIX franzOption_defaultDatasetBehavior: <franz:rdf>\n",
    "PREFIX wd: <http://www.wikidata.org/entity/>\n",
    "PREFIX wdt: <http://www.wikidata.org/prop/direct/>\n",
    "PREFIX rdf: <http://www.w3.org/1999/02/22-rdf-syntax-ns#>\n",
    "PREFIX rdfs: <http://www.w3.org/2000/01/rdf-schema#>\n",
    "PREFIX crm: <http://www.cidoc-crm.org/cidoc-crm/>\n",
    "PREFIX wikibase: <http://wikiba.se/ontology#>\n",
    "PREFIX bd: <http://www.bigdata.com/rdf#>\n",
    "\n",
    "\n",
    "SELECT ?person (MIN(?pLabel) AS ?personLabel)\n",
    "        (MIN(?birthYear) AS ?birthYear)\n",
    "        ?relationship \n",
    "        ?organisation (MIN(?oLabel) AS ?organisationLabel)\n",
    "        (COUNT(*) as ?n) \n",
    "        (GROUP_CONCAT(DISTINCT ?groupTypeLabel; separator=\" | \") AS ?groupTypes) \n",
    "        #(GROUP_CONCAT(DISTINCT ?countryLabel; separator=\" | \") AS ?countries) \n",
    "\n",
    "WHERE {\n",
    "        GRAPH <https://github.com/Sciences-historiques-numeriques/astronomers/blob/main/graphs/wikidata-imported-data.md>\n",
    "        {\n",
    "        {?person a wd:Q5;\n",
    "           rdfs:label ?pLabel;\n",
    "           wdt:P569 ?birthYear.\n",
    "        }\n",
    "\n",
    "\n",
    "        {?person wdt:P108 ?organisation.\n",
    "        BIND('employment' AS ?relationship)\n",
    "        }   \n",
    "        UNION\n",
    "        {?person wdt:P463 ?organisation.\n",
    "        BIND('membership' AS ?relationship)\n",
    "        }   \n",
    "        UNION\n",
    "        {?person wdt:P69 ?organisation.\n",
    "        BIND('education' AS ?relationship)\n",
    "        }  \n",
    "        ?organisation rdfs:label ?oLabel;\n",
    "                # instance of\n",
    "                wdt:P31 ?groupType.\n",
    "        ?groupType rdfs:label ?groupTypeLabel         \n",
    "        \n",
    "        # OPTIONAL {\n",
    "        #    ?organisation wdt:P17 ?country.\n",
    "        #    ?country rdfs:label ?countryLabel.\n",
    "        # }\n",
    "\n",
    "         }        \n",
    "\n",
    "\n",
    "\n",
    "    }\n",
    "\n",
    "GROUP BY ?person ?relationship ?organisation   \n",
    "ORDER by ?person \n",
    "\"\"\""
   ]
  },
  {
   "cell_type": "code",
   "execution_count": 26,
   "metadata": {},
   "outputs": [
    {
     "name": "stdout",
     "output_type": "stream",
     "text": [
      "78224\n",
      "[['http://www.wikidata.org/entity/Q100406890',\n",
      "  'Yuichi Ikeda',\n",
      "  '1961',\n",
      "  'employment',\n",
      "  'http://www.wikidata.org/entity/Q336264',\n",
      "  'Kyoto University',\n",
      "  '4',\n",
      "  'national university | comprehensive university | academic publisher | '\n",
      "  'university'],\n",
      " ['http://www.wikidata.org/entity/Q100414958',\n",
      "  'Ian Elliott',\n",
      "  '1936',\n",
      "  'education',\n",
      "  'http://www.wikidata.org/entity/Q258464',\n",
      "  'Trinity College Dublin',\n",
      "  '2',\n",
      "  'collegiate university | nonprofit organization'],\n",
      " ['http://www.wikidata.org/entity/Q1004177',\n",
      "  'Pál Fröhlich',\n",
      "  '1889',\n",
      "  'membership',\n",
      "  'http://www.wikidata.org/entity/Q265058',\n",
      "  'Hungarian Academy of Sciences',\n",
      "  '4',\n",
      "  'köztestület | academy of sciences | national academy | organization']]\n"
     ]
    }
   ],
   "source": [
    "### Executer la requête avec les fonctions de la librairie locale\n",
    "try:\n",
    "    qr = spqf.get_json_sparql_result(endpoint,query)\n",
    "    out = [l for l in spqf.sparql_result_to_list(qr)]\n",
    "    print(len(out))\n",
    "    pprint.pprint(out[100:103])\n",
    "except Exception as e:\n",
    "    print(e)    \n"
   ]
  },
  {
   "cell_type": "markdown",
   "metadata": {},
   "source": [
    "## Inspect the data\n"
   ]
  },
  {
   "cell_type": "code",
   "execution_count": 27,
   "metadata": {},
   "outputs": [
    {
     "name": "stdout",
     "output_type": "stream",
     "text": [
      "Number:  78224\n"
     ]
    },
    {
     "data": {
      "text/html": [
       "<div>\n",
       "<style scoped>\n",
       "    .dataframe tbody tr th:only-of-type {\n",
       "        vertical-align: middle;\n",
       "    }\n",
       "\n",
       "    .dataframe tbody tr th {\n",
       "        vertical-align: top;\n",
       "    }\n",
       "\n",
       "    .dataframe thead th {\n",
       "        text-align: right;\n",
       "    }\n",
       "</style>\n",
       "<table border=\"1\" class=\"dataframe\">\n",
       "  <thead>\n",
       "    <tr style=\"text-align: right;\">\n",
       "      <th></th>\n",
       "      <th>uriPer</th>\n",
       "      <th>labelPer</th>\n",
       "      <th>birthYear</th>\n",
       "      <th>relaType</th>\n",
       "      <th>uriOrg</th>\n",
       "      <th>labelOrg</th>\n",
       "      <th>nTypes</th>\n",
       "      <th>typesOrg</th>\n",
       "    </tr>\n",
       "  </thead>\n",
       "  <tbody>\n",
       "    <tr>\n",
       "      <th>10</th>\n",
       "      <td>http://www.wikidata.org/entity/Q100153910</td>\n",
       "      <td>Frank J. Blatt</td>\n",
       "      <td>1924</td>\n",
       "      <td>employment</td>\n",
       "      <td>http://www.wikidata.org/entity/Q270222</td>\n",
       "      <td>Michigan State University</td>\n",
       "      <td>3</td>\n",
       "      <td>land-grant university | public research univer...</td>\n",
       "    </tr>\n",
       "    <tr>\n",
       "      <th>11</th>\n",
       "      <td>http://www.wikidata.org/entity/Q100153910</td>\n",
       "      <td>Frank J. Blatt</td>\n",
       "      <td>1924</td>\n",
       "      <td>education</td>\n",
       "      <td>http://www.wikidata.org/entity/Q219563</td>\n",
       "      <td>University of Washington</td>\n",
       "      <td>1</td>\n",
       "      <td>public university</td>\n",
       "    </tr>\n",
       "    <tr>\n",
       "      <th>12</th>\n",
       "      <td>http://www.wikidata.org/entity/Q100153910</td>\n",
       "      <td>Frank J. Blatt</td>\n",
       "      <td>1924</td>\n",
       "      <td>education</td>\n",
       "      <td>http://www.wikidata.org/entity/Q153265</td>\n",
       "      <td>University of Cincinnati</td>\n",
       "      <td>3</td>\n",
       "      <td>public university | research university | publ...</td>\n",
       "    </tr>\n",
       "  </tbody>\n",
       "</table>\n",
       "</div>"
      ],
      "text/plain": [
       "                                       uriPer        labelPer birthYear  \\\n",
       "10  http://www.wikidata.org/entity/Q100153910  Frank J. Blatt      1924   \n",
       "11  http://www.wikidata.org/entity/Q100153910  Frank J. Blatt      1924   \n",
       "12  http://www.wikidata.org/entity/Q100153910  Frank J. Blatt      1924   \n",
       "\n",
       "      relaType                                  uriOrg  \\\n",
       "10  employment  http://www.wikidata.org/entity/Q270222   \n",
       "11   education  http://www.wikidata.org/entity/Q219563   \n",
       "12   education  http://www.wikidata.org/entity/Q153265   \n",
       "\n",
       "                     labelOrg nTypes  \\\n",
       "10  Michigan State University      3   \n",
       "11   University of Washington      1   \n",
       "12   University of Cincinnati      3   \n",
       "\n",
       "                                             typesOrg  \n",
       "10  land-grant university | public research univer...  \n",
       "11                                  public university  \n",
       "12  public university | research university | publ...  "
      ]
     },
     "execution_count": 27,
     "metadata": {},
     "output_type": "execute_result"
    }
   ],
   "source": [
    "### Créer un DataFrame à partir du résultat\n",
    "df_p = pd.DataFrame(out)\n",
    "df_p.columns = ['uriPer', 'labelPer', 'birthYear', 'relaType', 'uriOrg', 'labelOrg', 'nTypes',\n",
    "                'typesOrg']\n",
    "print('Number: ',len(df_p))\n",
    "df_p.iloc[10:13,:]\n"
   ]
  },
  {
   "cell_type": "markdown",
   "metadata": {},
   "source": [
    "### Distribution of relationships in relation to birthYears of organisations members"
   ]
  },
  {
   "cell_type": "code",
   "execution_count": null,
   "metadata": {},
   "outputs": [],
   "source": [
    "l_50 = list(range(1751, 2051, 50))\n",
    "print(l_50)"
   ]
  },
  {
   "cell_type": "code",
   "execution_count": 28,
   "metadata": {},
   "outputs": [],
   "source": [
    "### We adapt the periods manually,\n",
    "# we would like to have eight periods\n",
    "# making sense from an historical point of view \n",
    "lc = [1751, 1801, 1851, 1901, 1921, 1941, 1961, 1981, 2001]"
   ]
  },
  {
   "cell_type": "code",
   "execution_count": 29,
   "metadata": {},
   "outputs": [],
   "source": [
    "### convert birthYear to integer\n",
    "df_p.birthYear = df_p.birthYear.apply(lambda x : int(x))"
   ]
  },
  {
   "cell_type": "code",
   "execution_count": 32,
   "metadata": {},
   "outputs": [
    {
     "data": {
      "text/html": [
       "<div>\n",
       "<style scoped>\n",
       "    .dataframe tbody tr th:only-of-type {\n",
       "        vertical-align: middle;\n",
       "    }\n",
       "\n",
       "    .dataframe tbody tr th {\n",
       "        vertical-align: top;\n",
       "    }\n",
       "\n",
       "    .dataframe thead th {\n",
       "        text-align: right;\n",
       "    }\n",
       "</style>\n",
       "<table border=\"1\" class=\"dataframe\">\n",
       "  <thead>\n",
       "    <tr style=\"text-align: right;\">\n",
       "      <th></th>\n",
       "      <th>uriPer</th>\n",
       "      <th>labelPer</th>\n",
       "      <th>birthYear</th>\n",
       "      <th>relaType</th>\n",
       "      <th>uriOrg</th>\n",
       "      <th>labelOrg</th>\n",
       "      <th>nTypes</th>\n",
       "      <th>typesOrg</th>\n",
       "      <th>periods</th>\n",
       "    </tr>\n",
       "  </thead>\n",
       "  <tbody>\n",
       "    <tr>\n",
       "      <th>1</th>\n",
       "      <td>http://www.wikidata.org/entity/Q1000193</td>\n",
       "      <td>Hans Elsässer</td>\n",
       "      <td>1929</td>\n",
       "      <td>education</td>\n",
       "      <td>http://www.wikidata.org/entity/Q153978</td>\n",
       "      <td>University of Tübingen</td>\n",
       "      <td>6</td>\n",
       "      <td>public university | comprehensive university |...</td>\n",
       "      <td>1921-1940</td>\n",
       "    </tr>\n",
       "    <tr>\n",
       "      <th>5</th>\n",
       "      <td>http://www.wikidata.org/entity/Q1000934</td>\n",
       "      <td>Charles Christian Lauritsen</td>\n",
       "      <td>1892</td>\n",
       "      <td>membership</td>\n",
       "      <td>http://www.wikidata.org/entity/Q1636237</td>\n",
       "      <td>Royal Danish Academy of Sciences and Letters</td>\n",
       "      <td>1</td>\n",
       "      <td>academy of sciences</td>\n",
       "      <td>1851-1900</td>\n",
       "    </tr>\n",
       "    <tr>\n",
       "      <th>10</th>\n",
       "      <td>http://www.wikidata.org/entity/Q100153910</td>\n",
       "      <td>Frank J. Blatt</td>\n",
       "      <td>1924</td>\n",
       "      <td>employment</td>\n",
       "      <td>http://www.wikidata.org/entity/Q270222</td>\n",
       "      <td>Michigan State University</td>\n",
       "      <td>3</td>\n",
       "      <td>land-grant university | public research univer...</td>\n",
       "      <td>1921-1940</td>\n",
       "    </tr>\n",
       "  </tbody>\n",
       "</table>\n",
       "</div>"
      ],
      "text/plain": [
       "                                       uriPer                     labelPer  \\\n",
       "1     http://www.wikidata.org/entity/Q1000193                Hans Elsässer   \n",
       "5     http://www.wikidata.org/entity/Q1000934  Charles Christian Lauritsen   \n",
       "10  http://www.wikidata.org/entity/Q100153910               Frank J. Blatt   \n",
       "\n",
       "    birthYear    relaType                                   uriOrg  \\\n",
       "1        1929   education   http://www.wikidata.org/entity/Q153978   \n",
       "5        1892  membership  http://www.wikidata.org/entity/Q1636237   \n",
       "10       1924  employment   http://www.wikidata.org/entity/Q270222   \n",
       "\n",
       "                                        labelOrg nTypes  \\\n",
       "1                         University of Tübingen      6   \n",
       "5   Royal Danish Academy of Sciences and Letters      1   \n",
       "10                     Michigan State University      3   \n",
       "\n",
       "                                             typesOrg    periods  \n",
       "1   public university | comprehensive university |...  1921-1940  \n",
       "5                                 academy of sciences  1851-1900  \n",
       "10  land-grant university | public research univer...  1921-1940  "
      ]
     },
     "execution_count": 32,
     "metadata": {},
     "output_type": "execute_result"
    }
   ],
   "source": [
    "### fonction pd.cut : https://pandas.pydata.org/pandas-docs/stable/reference/api/pandas.cut.html\n",
    "# On ajoute une nouvelle colonne qui contient la période sur la base de la liste précédente\n",
    "# et de la valeur de l'année\n",
    "df_p['periods'] = pd.cut(df_p['birthYear'], lc, right=False)\n",
    "\n",
    "### Transformer le code ajouté pour qu'il soit plus lisible\n",
    "# noter qu'on a arrondi les valeurs\n",
    "df_p['periods'] = df_p['periods'].apply(lambda x : str(int(x.left))+'-'+ str(int(x.right)-1))\n",
    "\n",
    "# Inspection\n",
    "df_p.iloc[[1,5,10]]"
   ]
  },
  {
   "cell_type": "code",
   "execution_count": 33,
   "metadata": {},
   "outputs": [
    {
     "name": "stdout",
     "output_type": "stream",
     "text": [
      "periods\n",
      "1751-1800     2030\n",
      "1801-1850     4127\n",
      "1851-1900    10668\n",
      "1901-1920    10585\n",
      "1921-1940    18688\n",
      "1941-1960    19368\n",
      "1961-1980    10344\n",
      "1981-2000     2414\n",
      "dtype: int64\n"
     ]
    }
   ],
   "source": [
    "### Group by periods\n",
    "df_period = df_p.groupby(by='periods', observed=True).size()\n",
    "print(df_period)"
   ]
  },
  {
   "cell_type": "code",
   "execution_count": 34,
   "metadata": {},
   "outputs": [
    {
     "data": {
      "image/png": "[encoded data removed]",
      "text/plain": [
       "<Figure size 800x600 with 1 Axes>"
      ]
     },
     "metadata": {},
     "output_type": "display_data"
    }
   ],
   "source": [
    "ax = df_period.plot(kind='bar',rot=50, fontsize=10, figsize=(8,6))\n",
    "ax.bar_label(ax.containers[-1], size=10)\n",
    "plt.ylabel('Number')\n",
    "plt.xlabel('Periods')\n",
    "plt.title('Distribution of relationships in relation to generations')\n",
    "plt.show()"
   ]
  },
  {
   "cell_type": "markdown",
   "metadata": {},
   "source": [
    "### Add education period"
   ]
  },
  {
   "cell_type": "code",
   "execution_count": 35,
   "metadata": {},
   "outputs": [
    {
     "name": "stdout",
     "output_type": "stream",
     "text": [
      "relaType\n",
      "education     29294\n",
      "employment    31537\n",
      "membership    17393\n",
      "dtype: int64\n"
     ]
    }
   ],
   "source": [
    "### Available relationships\n",
    "print(df_p.groupby(by='relaType').size())"
   ]
  },
  {
   "cell_type": "code",
   "execution_count": 53,
   "metadata": {},
   "outputs": [
    {
     "data": {
      "text/html": [
       "<div>\n",
       "<style scoped>\n",
       "    .dataframe tbody tr th:only-of-type {\n",
       "        vertical-align: middle;\n",
       "    }\n",
       "\n",
       "    .dataframe tbody tr th {\n",
       "        vertical-align: top;\n",
       "    }\n",
       "\n",
       "    .dataframe thead th {\n",
       "        text-align: right;\n",
       "    }\n",
       "</style>\n",
       "<table border=\"1\" class=\"dataframe\">\n",
       "  <thead>\n",
       "    <tr style=\"text-align: right;\">\n",
       "      <th></th>\n",
       "      <th>uriPer</th>\n",
       "      <th>labelPer</th>\n",
       "      <th>birthYear</th>\n",
       "      <th>relaType</th>\n",
       "      <th>uriOrg</th>\n",
       "      <th>labelOrg</th>\n",
       "      <th>nTypes</th>\n",
       "      <th>typesOrg</th>\n",
       "      <th>periods</th>\n",
       "      <th>BeginY</th>\n",
       "      <th>EndY</th>\n",
       "      <th>listTypesOrg</th>\n",
       "      <th>listTokensTypesOrg</th>\n",
       "    </tr>\n",
       "  </thead>\n",
       "  <tbody>\n",
       "    <tr>\n",
       "      <th>5</th>\n",
       "      <td>http://www.wikidata.org/entity/Q1000934</td>\n",
       "      <td>Charles Christian Lauritsen</td>\n",
       "      <td>1892</td>\n",
       "      <td>membership</td>\n",
       "      <td>http://www.wikidata.org/entity/Q1636237</td>\n",
       "      <td>Royal Danish Academy of Sciences and Letters</td>\n",
       "      <td>1</td>\n",
       "      <td>academy of sciences</td>\n",
       "      <td>1851-1900</td>\n",
       "      <td>NaN</td>\n",
       "      <td>NaN</td>\n",
       "      <td>[academy of sciences]</td>\n",
       "      <td>[academy, sciences]</td>\n",
       "    </tr>\n",
       "    <tr>\n",
       "      <th>6</th>\n",
       "      <td>http://www.wikidata.org/entity/Q1000934</td>\n",
       "      <td>Charles Christian Lauritsen</td>\n",
       "      <td>1892</td>\n",
       "      <td>education</td>\n",
       "      <td>http://www.wikidata.org/entity/Q3436286</td>\n",
       "      <td>Odense University</td>\n",
       "      <td>1</td>\n",
       "      <td>university</td>\n",
       "      <td>1851-1900</td>\n",
       "      <td>1910.0</td>\n",
       "      <td>1921.0</td>\n",
       "      <td>[university]</td>\n",
       "      <td>[university]</td>\n",
       "    </tr>\n",
       "    <tr>\n",
       "      <th>7</th>\n",
       "      <td>http://www.wikidata.org/entity/Q100153910</td>\n",
       "      <td>Frank J. Blatt</td>\n",
       "      <td>1924</td>\n",
       "      <td>employment</td>\n",
       "      <td>http://www.wikidata.org/entity/Q1499258</td>\n",
       "      <td>United States Naval Research Laboratory</td>\n",
       "      <td>2</td>\n",
       "      <td>military unit | research institute</td>\n",
       "      <td>1921-1940</td>\n",
       "      <td>NaN</td>\n",
       "      <td>NaN</td>\n",
       "      <td>[military unit, research institute]</td>\n",
       "      <td>[institute, military, research, unit]</td>\n",
       "    </tr>\n",
       "    <tr>\n",
       "      <th>8</th>\n",
       "      <td>http://www.wikidata.org/entity/Q100153910</td>\n",
       "      <td>Frank J. Blatt</td>\n",
       "      <td>1924</td>\n",
       "      <td>employment</td>\n",
       "      <td>http://www.wikidata.org/entity/Q1410332</td>\n",
       "      <td>National University of Lesotho</td>\n",
       "      <td>1</td>\n",
       "      <td>public university</td>\n",
       "      <td>1921-1940</td>\n",
       "      <td>NaN</td>\n",
       "      <td>NaN</td>\n",
       "      <td>[public university]</td>\n",
       "      <td>[public, university]</td>\n",
       "    </tr>\n",
       "  </tbody>\n",
       "</table>\n",
       "</div>"
      ],
      "text/plain": [
       "                                      uriPer                     labelPer  \\\n",
       "5    http://www.wikidata.org/entity/Q1000934  Charles Christian Lauritsen   \n",
       "6    http://www.wikidata.org/entity/Q1000934  Charles Christian Lauritsen   \n",
       "7  http://www.wikidata.org/entity/Q100153910               Frank J. Blatt   \n",
       "8  http://www.wikidata.org/entity/Q100153910               Frank J. Blatt   \n",
       "\n",
       "   birthYear    relaType                                   uriOrg  \\\n",
       "5       1892  membership  http://www.wikidata.org/entity/Q1636237   \n",
       "6       1892   education  http://www.wikidata.org/entity/Q3436286   \n",
       "7       1924  employment  http://www.wikidata.org/entity/Q1499258   \n",
       "8       1924  employment  http://www.wikidata.org/entity/Q1410332   \n",
       "\n",
       "                                       labelOrg nTypes  \\\n",
       "5  Royal Danish Academy of Sciences and Letters      1   \n",
       "6                             Odense University      1   \n",
       "7       United States Naval Research Laboratory      2   \n",
       "8                National University of Lesotho      1   \n",
       "\n",
       "                             typesOrg    periods  BeginY    EndY  \\\n",
       "5                 academy of sciences  1851-1900     NaN     NaN   \n",
       "6                          university  1851-1900  1910.0  1921.0   \n",
       "7  military unit | research institute  1921-1940     NaN     NaN   \n",
       "8                   public university  1921-1940     NaN     NaN   \n",
       "\n",
       "                          listTypesOrg                     listTokensTypesOrg  \n",
       "5                [academy of sciences]                    [academy, sciences]  \n",
       "6                         [university]                           [university]  \n",
       "7  [military unit, research institute]  [institute, military, research, unit]  \n",
       "8                  [public university]                   [public, university]  "
      ]
     },
     "execution_count": 53,
     "metadata": {},
     "output_type": "execute_result"
    }
   ],
   "source": [
    "### Add constructed education period\n",
    "df_p['BeginY'] = df_p[df_p.relaType=='education'].birthYear.apply(lambda x : x + 18)\n",
    "df_p['EndY'] = df_p[df_p.relaType=='education'].birthYear.apply(lambda x : x + 29)\n",
    "df_p.iloc[5:9]"
   ]
  },
  {
   "cell_type": "markdown",
   "metadata": {},
   "source": [
    "### Clean up organisations type"
   ]
  },
  {
   "cell_type": "code",
   "execution_count": 52,
   "metadata": {},
   "outputs": [
    {
     "name": "stdout",
     "output_type": "stream",
     "text": [
      "78224\n",
      "[['academy of sciences', 'building'],\n",
      " ['comprehensive university',\n",
      "  'open-access publisher',\n",
      "  'organization',\n",
      "  'public research university',\n",
      "  'public university',\n",
      "  'university of excellence'],\n",
      " ['academy of sciences', 'learned society', 'national academy']]\n"
     ]
    }
   ],
   "source": [
    "### Transform types' strings to alphabetically sorted lists and delete additional white spaces\n",
    "df_p['listTypesOrg'] = df_p.typesOrg.apply(lambda x : sorted([e.strip().lower() for e in x.split('|')]))\n",
    "\n",
    "ll = df_p.listTypesOrg.to_list()\n",
    "print(len(ll))\n",
    "pprint.pprint(ll[:3])\n"
   ]
  },
  {
   "cell_type": "code",
   "execution_count": 39,
   "metadata": {},
   "outputs": [
    {
     "data": {
      "text/html": [
       "<div>\n",
       "<style scoped>\n",
       "    .dataframe tbody tr th:only-of-type {\n",
       "        vertical-align: middle;\n",
       "    }\n",
       "\n",
       "    .dataframe tbody tr th {\n",
       "        vertical-align: top;\n",
       "    }\n",
       "\n",
       "    .dataframe thead th {\n",
       "        text-align: right;\n",
       "    }\n",
       "</style>\n",
       "<table border=\"1\" class=\"dataframe\">\n",
       "  <thead>\n",
       "    <tr style=\"text-align: right;\">\n",
       "      <th></th>\n",
       "      <th>uriPer</th>\n",
       "      <th>labelPer</th>\n",
       "      <th>birthYear</th>\n",
       "      <th>relaType</th>\n",
       "      <th>uriOrg</th>\n",
       "      <th>labelOrg</th>\n",
       "      <th>nTypes</th>\n",
       "      <th>typesOrg</th>\n",
       "      <th>periods</th>\n",
       "      <th>BeginY</th>\n",
       "      <th>EndY</th>\n",
       "      <th>listTypesOrg</th>\n",
       "      <th>listTokensTypesOrg</th>\n",
       "    </tr>\n",
       "  </thead>\n",
       "  <tbody>\n",
       "    <tr>\n",
       "      <th>1</th>\n",
       "      <td>http://www.wikidata.org/entity/Q1000193</td>\n",
       "      <td>Hans Elsässer</td>\n",
       "      <td>1929</td>\n",
       "      <td>education</td>\n",
       "      <td>http://www.wikidata.org/entity/Q153978</td>\n",
       "      <td>University of Tübingen</td>\n",
       "      <td>6</td>\n",
       "      <td>comprehensive university | open-access publish...</td>\n",
       "      <td>1921-1940</td>\n",
       "      <td>1947.0</td>\n",
       "      <td>1958.0</td>\n",
       "      <td>[comprehensive university, open-access publish...</td>\n",
       "      <td>[comprehensive, excellence, open-access, organ...</td>\n",
       "    </tr>\n",
       "    <tr>\n",
       "      <th>5</th>\n",
       "      <td>http://www.wikidata.org/entity/Q1000934</td>\n",
       "      <td>Charles Christian Lauritsen</td>\n",
       "      <td>1892</td>\n",
       "      <td>membership</td>\n",
       "      <td>http://www.wikidata.org/entity/Q1636237</td>\n",
       "      <td>Royal Danish Academy of Sciences and Letters</td>\n",
       "      <td>1</td>\n",
       "      <td>academy of sciences</td>\n",
       "      <td>1851-1900</td>\n",
       "      <td>NaN</td>\n",
       "      <td>NaN</td>\n",
       "      <td>[academy of sciences]</td>\n",
       "      <td>[academy, sciences]</td>\n",
       "    </tr>\n",
       "    <tr>\n",
       "      <th>10</th>\n",
       "      <td>http://www.wikidata.org/entity/Q100153910</td>\n",
       "      <td>Frank J. Blatt</td>\n",
       "      <td>1924</td>\n",
       "      <td>employment</td>\n",
       "      <td>http://www.wikidata.org/entity/Q270222</td>\n",
       "      <td>Michigan State University</td>\n",
       "      <td>3</td>\n",
       "      <td>land-grant university | public educational ins...</td>\n",
       "      <td>1921-1940</td>\n",
       "      <td>NaN</td>\n",
       "      <td>NaN</td>\n",
       "      <td>[land-grant university, public educational ins...</td>\n",
       "      <td>[educational, institution, land-grant, public,...</td>\n",
       "    </tr>\n",
       "  </tbody>\n",
       "</table>\n",
       "</div>"
      ],
      "text/plain": [
       "                                       uriPer                     labelPer  \\\n",
       "1     http://www.wikidata.org/entity/Q1000193                Hans Elsässer   \n",
       "5     http://www.wikidata.org/entity/Q1000934  Charles Christian Lauritsen   \n",
       "10  http://www.wikidata.org/entity/Q100153910               Frank J. Blatt   \n",
       "\n",
       "    birthYear    relaType                                   uriOrg  \\\n",
       "1        1929   education   http://www.wikidata.org/entity/Q153978   \n",
       "5        1892  membership  http://www.wikidata.org/entity/Q1636237   \n",
       "10       1924  employment   http://www.wikidata.org/entity/Q270222   \n",
       "\n",
       "                                        labelOrg nTypes  \\\n",
       "1                         University of Tübingen      6   \n",
       "5   Royal Danish Academy of Sciences and Letters      1   \n",
       "10                     Michigan State University      3   \n",
       "\n",
       "                                             typesOrg    periods  BeginY  \\\n",
       "1   comprehensive university | open-access publish...  1921-1940  1947.0   \n",
       "5                                 academy of sciences  1851-1900     NaN   \n",
       "10  land-grant university | public educational ins...  1921-1940     NaN   \n",
       "\n",
       "      EndY                                       listTypesOrg  \\\n",
       "1   1958.0  [comprehensive university, open-access publish...   \n",
       "5      NaN                              [academy of sciences]   \n",
       "10     NaN  [land-grant university, public educational ins...   \n",
       "\n",
       "                                   listTokensTypesOrg  \n",
       "1   [comprehensive, excellence, open-access, organ...  \n",
       "5                                 [academy, sciences]  \n",
       "10  [educational, institution, land-grant, public,...  "
      ]
     },
     "execution_count": 39,
     "metadata": {},
     "output_type": "execute_result"
    }
   ],
   "source": [
    "## Rebuild the sorted original texts\n",
    "df_p['typesOrg'] = df_p.listTypesOrg.apply(lambda x : ' | '.join(x))\n",
    "df_p.iloc[[1,5,10]]\n"
   ]
  },
  {
   "cell_type": "code",
   "execution_count": 57,
   "metadata": {},
   "outputs": [
    {
     "name": "stdout",
     "output_type": "stream",
     "text": [
      "typesOrg\n",
      "university                                                                                                     2960\n",
      "public university                                                                                              2420\n",
      "academy of sciences                                                                                            1583\n",
      "research institute                                                                                             1527\n",
      "international organization | scientific organization                                                           1455\n",
      "open-access publisher | public university                                                                      1432\n",
      "open-access publisher | university                                                                             1401\n",
      "academic publisher | learned society | nonprofit organization                                                  1321\n",
      "academic publisher | academy of sciences | production company | publisher                                      1295\n",
      "academy of sciences | learned society | national academy | open-access publisher | organization | publisher    1152\n",
      "dtype: int64\n"
     ]
    }
   ],
   "source": [
    "print(df_p.groupby('typesOrg').size().sort_values(ascending=False).iloc[:10])"
   ]
  },
  {
   "cell_type": "markdown",
   "metadata": {},
   "source": [
    "#### Save dataframe to CSV"
   ]
  },
  {
   "cell_type": "code",
   "execution_count": 58,
   "metadata": {},
   "outputs": [],
   "source": [
    "file_add = 'data/persons_organisations.csv'\n",
    "df_p.to_csv(file_add, index=False, sep=',', quotechar='\"')"
   ]
  },
  {
   "cell_type": "code",
   "execution_count": 59,
   "metadata": {},
   "outputs": [
    {
     "name": "stdout",
     "output_type": "stream",
     "text": [
      "78224\n"
     ]
    },
    {
     "data": {
      "text/html": [
       "<div>\n",
       "<style scoped>\n",
       "    .dataframe tbody tr th:only-of-type {\n",
       "        vertical-align: middle;\n",
       "    }\n",
       "\n",
       "    .dataframe tbody tr th {\n",
       "        vertical-align: top;\n",
       "    }\n",
       "\n",
       "    .dataframe thead th {\n",
       "        text-align: right;\n",
       "    }\n",
       "</style>\n",
       "<table border=\"1\" class=\"dataframe\">\n",
       "  <thead>\n",
       "    <tr style=\"text-align: right;\">\n",
       "      <th></th>\n",
       "      <th>uriPer</th>\n",
       "      <th>labelPer</th>\n",
       "      <th>birthYear</th>\n",
       "      <th>relaType</th>\n",
       "      <th>uriOrg</th>\n",
       "      <th>labelOrg</th>\n",
       "      <th>nTypes</th>\n",
       "      <th>typesOrg</th>\n",
       "      <th>periods</th>\n",
       "      <th>BeginY</th>\n",
       "      <th>EndY</th>\n",
       "      <th>listTypesOrg</th>\n",
       "    </tr>\n",
       "  </thead>\n",
       "  <tbody>\n",
       "    <tr>\n",
       "      <th>0</th>\n",
       "      <td>http://www.wikidata.org/entity/Q1000193</td>\n",
       "      <td>Hans Elsässer</td>\n",
       "      <td>1929</td>\n",
       "      <td>membership</td>\n",
       "      <td>http://www.wikidata.org/entity/Q833738</td>\n",
       "      <td>Heidelberg Academy for Sciences and Humanities</td>\n",
       "      <td>2</td>\n",
       "      <td>academy of sciences | building</td>\n",
       "      <td>1921-1940</td>\n",
       "      <td>NaN</td>\n",
       "      <td>NaN</td>\n",
       "      <td>['academy of sciences', 'building']</td>\n",
       "    </tr>\n",
       "    <tr>\n",
       "      <th>1</th>\n",
       "      <td>http://www.wikidata.org/entity/Q1000193</td>\n",
       "      <td>Hans Elsässer</td>\n",
       "      <td>1929</td>\n",
       "      <td>education</td>\n",
       "      <td>http://www.wikidata.org/entity/Q153978</td>\n",
       "      <td>University of Tübingen</td>\n",
       "      <td>6</td>\n",
       "      <td>comprehensive university | open-access publish...</td>\n",
       "      <td>1921-1940</td>\n",
       "      <td>1947.0</td>\n",
       "      <td>1958.0</td>\n",
       "      <td>['comprehensive university', 'open-access publ...</td>\n",
       "    </tr>\n",
       "  </tbody>\n",
       "</table>\n",
       "</div>"
      ],
      "text/plain": [
       "                                    uriPer       labelPer  birthYear  \\\n",
       "0  http://www.wikidata.org/entity/Q1000193  Hans Elsässer       1929   \n",
       "1  http://www.wikidata.org/entity/Q1000193  Hans Elsässer       1929   \n",
       "\n",
       "     relaType                                  uriOrg  \\\n",
       "0  membership  http://www.wikidata.org/entity/Q833738   \n",
       "1   education  http://www.wikidata.org/entity/Q153978   \n",
       "\n",
       "                                         labelOrg  nTypes  \\\n",
       "0  Heidelberg Academy for Sciences and Humanities       2   \n",
       "1                          University of Tübingen       6   \n",
       "\n",
       "                                            typesOrg    periods  BeginY  \\\n",
       "0                     academy of sciences | building  1921-1940     NaN   \n",
       "1  comprehensive university | open-access publish...  1921-1940  1947.0   \n",
       "\n",
       "     EndY                                       listTypesOrg  \n",
       "0     NaN                ['academy of sciences', 'building']  \n",
       "1  1958.0  ['comprehensive university', 'open-access publ...  "
      ]
     },
     "execution_count": 59,
     "metadata": {},
     "output_type": "execute_result"
    }
   ],
   "source": [
    "### load from CSV\n",
    "\n",
    "file_add = 'data/persons_organisations.csv'\n",
    "df_p=pd.read_csv(file_add)\n",
    "print(len(df_p))\n",
    "df_p.head(2)"
   ]
  },
  {
   "cell_type": "markdown",
   "metadata": {},
   "source": [
    "## Types of organisations\n",
    "\n",
    "Property **wdt:P31 instance of**\n",
    "\n",
    "We try to figure out if we can use these types to sort out and distinguish the organisations"
   ]
  },
  {
   "cell_type": "code",
   "execution_count": 76,
   "metadata": {},
   "outputs": [
    {
     "data": {
      "text/html": [
       "<div>\n",
       "<style scoped>\n",
       "    .dataframe tbody tr th:only-of-type {\n",
       "        vertical-align: middle;\n",
       "    }\n",
       "\n",
       "    .dataframe tbody tr th {\n",
       "        vertical-align: top;\n",
       "    }\n",
       "\n",
       "    .dataframe thead th {\n",
       "        text-align: right;\n",
       "    }\n",
       "</style>\n",
       "<table border=\"1\" class=\"dataframe\">\n",
       "  <thead>\n",
       "    <tr style=\"text-align: right;\">\n",
       "      <th></th>\n",
       "      <th>typesOrg</th>\n",
       "      <th>number</th>\n",
       "      <th>numberOrg</th>\n",
       "    </tr>\n",
       "  </thead>\n",
       "  <tbody>\n",
       "    <tr>\n",
       "      <th>0</th>\n",
       "      <td>university</td>\n",
       "      <td>2960</td>\n",
       "      <td>1</td>\n",
       "    </tr>\n",
       "    <tr>\n",
       "      <th>1</th>\n",
       "      <td>public university</td>\n",
       "      <td>2420</td>\n",
       "      <td>1</td>\n",
       "    </tr>\n",
       "    <tr>\n",
       "      <th>2</th>\n",
       "      <td>academy of sciences</td>\n",
       "      <td>1583</td>\n",
       "      <td>1</td>\n",
       "    </tr>\n",
       "    <tr>\n",
       "      <th>3</th>\n",
       "      <td>research institute</td>\n",
       "      <td>1527</td>\n",
       "      <td>1</td>\n",
       "    </tr>\n",
       "    <tr>\n",
       "      <th>4</th>\n",
       "      <td>international organization | scientific organi...</td>\n",
       "      <td>1455</td>\n",
       "      <td>2</td>\n",
       "    </tr>\n",
       "    <tr>\n",
       "      <th>5</th>\n",
       "      <td>open-access publisher | public university</td>\n",
       "      <td>1432</td>\n",
       "      <td>2</td>\n",
       "    </tr>\n",
       "    <tr>\n",
       "      <th>6</th>\n",
       "      <td>open-access publisher | university</td>\n",
       "      <td>1401</td>\n",
       "      <td>2</td>\n",
       "    </tr>\n",
       "    <tr>\n",
       "      <th>7</th>\n",
       "      <td>academic publisher | learned society | nonprof...</td>\n",
       "      <td>1321</td>\n",
       "      <td>3</td>\n",
       "    </tr>\n",
       "    <tr>\n",
       "      <th>8</th>\n",
       "      <td>academic publisher | academy of sciences | pro...</td>\n",
       "      <td>1295</td>\n",
       "      <td>4</td>\n",
       "    </tr>\n",
       "    <tr>\n",
       "      <th>9</th>\n",
       "      <td>academy of sciences | learned society | nation...</td>\n",
       "      <td>1152</td>\n",
       "      <td>6</td>\n",
       "    </tr>\n",
       "  </tbody>\n",
       "</table>\n",
       "</div>"
      ],
      "text/plain": [
       "                                            typesOrg  number  numberOrg\n",
       "0                                         university    2960          1\n",
       "1                                  public university    2420          1\n",
       "2                                academy of sciences    1583          1\n",
       "3                                 research institute    1527          1\n",
       "4  international organization | scientific organi...    1455          2\n",
       "5          open-access publisher | public university    1432          2\n",
       "6                 open-access publisher | university    1401          2\n",
       "7  academic publisher | learned society | nonprof...    1321          3\n",
       "8  academic publisher | academy of sciences | pro...    1295          4\n",
       "9  academy of sciences | learned society | nation...    1152          6"
      ]
     },
     "execution_count": 76,
     "metadata": {},
     "output_type": "execute_result"
    }
   ],
   "source": [
    "### Inspect the available composed types\n",
    "df_types = pd.DataFrame(df_p.groupby('typesOrg').size().sort_values(ascending=False))\n",
    "df_types.reset_index(inplace=True)\n",
    "df_types.columns=['typesOrg', 'number']\n",
    "df_types['numberOrg'] = df_types.typesOrg.apply( lambda x: len(x.split('|')))\n",
    "df_types.iloc[:10]"
   ]
  },
  {
   "cell_type": "code",
   "execution_count": 77,
   "metadata": {},
   "outputs": [],
   "source": [
    "### Print to CSV in order to inspect the data\n",
    "csv_file='files/network_organisations_types_groups.csv'\n",
    "df_types.to_csv(csv_file)"
   ]
  },
  {
   "cell_type": "markdown",
   "metadata": {},
   "source": [
    "### Create a graph of the organisations' types"
   ]
  },
  {
   "cell_type": "code",
   "execution_count": null,
   "metadata": {},
   "outputs": [],
   "source": [
    "ltt = [a for b in df_p.listTypesO.to_list() for a in b]\n",
    "print(len(ltt))"
   ]
  },
  {
   "cell_type": "code",
   "execution_count": null,
   "metadata": {},
   "outputs": [],
   "source": [
    "ls = pd.Series(ltt)\n",
    "ls_df = pd.DataFrame(ls.groupby(by=ls).size().sort_values(ascending=False))\n",
    "ls_df.reset_index(inplace=True)\n",
    "ls_df.columns=['orgType', 'number']\n",
    "print(ls_df.head()) \n",
    "print(ls_df.tail())\n"
   ]
  },
  {
   "cell_type": "code",
   "execution_count": null,
   "metadata": {},
   "outputs": [],
   "source": [
    "### Distribution of number of types per organisation\n",
    "freq_s = pd.Series([len(e) for e in df_p['listTypesO'].to_list()])\n",
    "print(freq_s.describe())"
   ]
  },
  {
   "cell_type": "code",
   "execution_count": null,
   "metadata": {},
   "outputs": [],
   "source": [
    "## Distribution of types (with minimum value)\n",
    "print(ls_df[ls_df.number > 10].number.describe())"
   ]
  },
  {
   "cell_type": "code",
   "execution_count": null,
   "metadata": {},
   "outputs": [],
   "source": [
    "csv_file='files/network_organisations_types.csv'\n",
    "ls_df.to_csv(csv_file)"
   ]
  },
  {
   "cell_type": "code",
   "execution_count": null,
   "metadata": {},
   "outputs": [],
   "source": [
    "ld = ls_df[ls_df.number > 10].to_dict(orient='records', index=True)\n",
    "print(ld[:2])\n"
   ]
  },
  {
   "cell_type": "code",
   "execution_count": null,
   "metadata": {},
   "outputs": [],
   "source": [
    "l = [tuple(\n",
    "    (e['orgType'],\n",
    "     {'number':e['number']}\n",
    "     )) \n",
    "     for e in ls_df.to_dict(orient='records')]\n",
    "print(len(l), l[:2])"
   ]
  },
  {
   "cell_type": "code",
   "execution_count": null,
   "metadata": {},
   "outputs": [],
   "source": [
    "G = nx.Graph()\n",
    "G.add_nodes_from(l)\n",
    "print(list(G.nodes.data())[:2])"
   ]
  },
  {
   "cell_type": "code",
   "execution_count": null,
   "metadata": {},
   "outputs": [],
   "source": [
    "### Prepare import\n",
    "fl = [e for e in df_p['listTypesO'].to_dict().items()]\n",
    "print(fl[:3])"
   ]
  },
  {
   "cell_type": "code",
   "execution_count": null,
   "metadata": {},
   "outputs": [],
   "source": [
    "### List of distinct organisation types with more than 10 representatives\n",
    "so = list(set(ls_df[ls_df.number > 10].orgType.to_list()))\n",
    "print(len(so), so[:3])"
   ]
  },
  {
   "cell_type": "code",
   "execution_count": null,
   "metadata": {},
   "outputs": [],
   "source": [
    "table_l = []\n",
    "for a in fl:\n",
    "    if len(a[1]) > 1:\n",
    "        for b in a[1]:\n",
    "            if b in so:\n",
    "                table_l.append((a[0], b))\n",
    "print(table_l[:5])"
   ]
  },
  {
   "cell_type": "code",
   "execution_count": null,
   "metadata": {},
   "outputs": [],
   "source": [
    "table_df = pd.DataFrame(table_l, columns=['org_id', 'org_type'])\n",
    "print(len(table_df))\n",
    "table_df.head()"
   ]
  },
  {
   "cell_type": "code",
   "execution_count": null,
   "metadata": {},
   "outputs": [],
   "source": [
    "### Join on common organisation -> produces a lot of rows !\n",
    "merged = pd.merge(table_df, table_df, on=['org_id'])\n",
    "print(len(merged))\n",
    "merged.head()\n"
   ]
  },
  {
   "cell_type": "code",
   "execution_count": null,
   "metadata": {},
   "outputs": [],
   "source": [
    "### Eliminate double rows :relationship A-B but relationship B-A\n",
    "merged = merged[merged['org_type_x'] < (merged['org_type_y'])]\n",
    "print(len(merged))\n",
    "merged.head()"
   ]
  },
  {
   "cell_type": "code",
   "execution_count": null,
   "metadata": {},
   "outputs": [],
   "source": [
    "gb_merged = pd.DataFrame(merged.groupby(by=['org_type_x', 'org_type_y']).size())\n",
    "gb_merged.reset_index(inplace=True)\n",
    "gb_merged.columns=['org_type_x', 'org_type_y', 'number']\n",
    "gb_merged.iloc[100:120, ]"
   ]
  },
  {
   "cell_type": "code",
   "execution_count": null,
   "metadata": {},
   "outputs": [],
   "source": [
    "## Provide the data in the format \n",
    "# required by Networkx\n",
    "\n",
    "l = [tuple(\n",
    "    (e['org_type_x'], e['org_type_y'],\n",
    "     {'number':e['number']}\n",
    "     )) \n",
    "     for e in gb_merged.to_dict(orient='records')]\n",
    "print(len(l), l[:2])"
   ]
  },
  {
   "cell_type": "code",
   "execution_count": null,
   "metadata": {},
   "outputs": [],
   "source": [
    "G.add_edges_from(l)"
   ]
  },
  {
   "cell_type": "markdown",
   "metadata": {},
   "source": [
    "### Explore graph and it's components"
   ]
  },
  {
   "cell_type": "code",
   "execution_count": null,
   "metadata": {},
   "outputs": [],
   "source": [
    "naf.basic_graph_properties(G)"
   ]
  },
  {
   "cell_type": "code",
   "execution_count": null,
   "metadata": {},
   "outputs": [],
   "source": [
    "### Create a list of graphs, one per component\n",
    "S = [G.subgraph(c).copy() for c in nx.connected_components(G)]\n",
    "\n",
    "### i is the component index in the list S of graphs , len(s.nodes) is the nomber of nodes\n",
    "ln = sorted([[i,len(s.nodes)] for i,s in enumerate(S)], key = lambda row: row[1], reverse=True)\n",
    "print(len (ln))\n",
    "print(ln[:5])"
   ]
  },
  {
   "cell_type": "code",
   "execution_count": null,
   "metadata": {},
   "outputs": [],
   "source": [
    "print(S[1].nodes.data())"
   ]
  },
  {
   "cell_type": "code",
   "execution_count": null,
   "metadata": {},
   "outputs": [],
   "source": [
    "naf.basic_graph_properties(S[0])"
   ]
  },
  {
   "cell_type": "code",
   "execution_count": null,
   "metadata": {},
   "outputs": [],
   "source": [
    "print(list(S[0].nodes.data())[:3])\n",
    "print(list(S[0].edges.data())[:3])"
   ]
  },
  {
   "cell_type": "code",
   "execution_count": null,
   "metadata": {},
   "outputs": [],
   "source": [
    "### Plot the graph\n",
    "\n",
    "g = S[0]\n",
    "\n",
    "n_size = np.log(np.sqrt(nx.number_of_nodes(g)))* 20 #*25\n",
    "\n",
    "graph_layout = 'spring_layout'\n",
    "n_k = 2\n",
    "sc = 1\n",
    "\n",
    "### Define the layout, i.e. the choice \n",
    "# of the algorithm for the representation of the graph.\n",
    "\n",
    "if graph_layout == 'fruchterman_reingold':\n",
    "    pos = nx.fruchterman_reingold_layout(g)\n",
    "elif graph_layout == 'kamada_kawai':\n",
    "    pos = nx.kamada_kawai_layout(g)\n",
    "elif graph_layout == 'spring_layout':\n",
    "    pos = nx.spring_layout(g, k = n_k, scale=sc)  \n",
    "else:\n",
    "    pos = nx.kamada_kawai_layout(g)\n",
    "\n",
    "# https://networkx.org/documentation/stable/reference/drawing.html\n",
    "plt.figure(figsize = (n_size,n_size))\n",
    "\n",
    "node_size = [n[1]['number'] for n in g.nodes.data()]\n",
    "node_labels = dict([tuple(( n[0] , n[0] ))for n in g.nodes.data()])\n",
    "edge_size = [np.log(n[2]['number']) if n[2]['number'] > 300\n",
    "             else 0  for n in g.edges.data()]\n",
    "font_weight= dict([tuple(( n[0] , 'bold' if n[1]['number'] > 100\n",
    "                            else 'normal' ))\n",
    "                    for n in g.nodes.data()])\n",
    "\n",
    "nx.draw_networkx_nodes(g, pos, node_color='#86B2E4' , node_size=node_size, alpha=0.6)\n",
    "nx.draw_networkx_edges(g, pos, width=edge_size, alpha=0.1) # edgelist=ln, edge_color=c, \n",
    "nx.draw_networkx_labels(g, pos, labels=node_labels, font_color='#5B3210', font_weight=font_weight, alpha=0.7, font_size=14)\n",
    "\n",
    "### On peut augmenter ou diminuer ce paramètre pour ajuster le graphe\n",
    "plt.tight_layout(pad=60)\n",
    "plt.savefig('images/organisations_types_network_big_component.svg')\n",
    "plt.close()\n"
   ]
  },
  {
   "cell_type": "code",
   "execution_count": null,
   "metadata": {},
   "outputs": [],
   "source": [
    "### All the rest of the small separate components\n",
    "li = [e[0] for e in ln[1:]]\n",
    "pG = nx.Graph()\n",
    "for i in li:\n",
    "    ## ajoute au graphe les composantes en utilisant\n",
    "    # l'index ou position dans la liste de graphes 'S'\n",
    "    pG = nx.union(pG, S[i])\n",
    "print(bipartite.is_bipartite(pG))   \n",
    "naf.basic_graph_properties(pG)"
   ]
  },
  {
   "cell_type": "code",
   "execution_count": null,
   "metadata": {},
   "outputs": [],
   "source": [
    "### Plot the graph\n",
    "\n",
    "g = pG\n",
    "\n",
    "n_size = np.log(np.sqrt(nx.number_of_nodes(g)))* 20 #*25\n",
    "\n",
    "graph_layout = 'kamada_kawai'\n",
    "n_k = 2\n",
    "sc = 1\n",
    "\n",
    "### Define the layout, i.e. the choice \n",
    "# of the algorithm for the representation of the graph.\n",
    "\n",
    "if graph_layout == 'fruchterman_reingold':\n",
    "    pos = nx.fruchterman_reingold_layout(g)\n",
    "elif graph_layout == 'kamada_kawai':\n",
    "    pos = nx.kamada_kawai_layout(g)\n",
    "elif graph_layout == 'spring_layout':\n",
    "    pos = nx.spring_layout(g, k = n_k, scale=sc)  \n",
    "else:\n",
    "    pos = nx.kamada_kawai_layout(g)\n",
    "\n",
    "# https://networkx.org/documentation/stable/reference/drawing.html\n",
    "plt.figure(figsize = (n_size,n_size))\n",
    "\n",
    "node_size = [n[1]['number']*50 for n in g.nodes.data()]\n",
    "node_labels = dict([tuple(( n[0] , n[0] ))for n in g.nodes.data()])\n",
    "edge_size = [np.log(n[2]['number']) if n[2]['number'] > 1\n",
    "             else 0  for n in g.edges.data()]\n",
    "font_weight= dict([tuple(( n[0] , 'bold' if n[1]['number'] > 10\n",
    "                            else 'normal' ))\n",
    "                    for n in g.nodes.data()])\n",
    "\n",
    "nx.draw_networkx_nodes(g, pos, node_color='#86B2E4' , node_size=node_size, alpha=0.6)\n",
    "nx.draw_networkx_edges(g, pos, width=edge_size, alpha=0.1) # edgelist=ln, edge_color=c, \n",
    "nx.draw_networkx_labels(g, pos, labels=node_labels, font_color='#5B3210', font_weight=font_weight, alpha=0.7, font_size=14)\n",
    "\n",
    "### On peut augmenter ou diminuer ce paramètre pour ajuster le graphe\n",
    "plt.tight_layout(pad=60)\n",
    "plt.savefig('images/organisations_types_network_small_components.svg')\n",
    "plt.close()\n"
   ]
  }
 ],
 "metadata": {
  "kernelspec": {
   "display_name": "py311_data_analysis",
   "language": "python",
   "name": "py311_data_analysis"
  },
  "language_info": {
   "codemirror_mode": {
    "name": "ipython",
    "version": 3
   },
   "file_extension": ".py",
   "mimetype": "text/x-python",
   "name": "python",
   "nbconvert_exporter": "python",
   "pygments_lexer": "ipython3",
   "version": "3.11.8"
  }
 },
 "nbformat": 4,
 "nbformat_minor": 2
}
