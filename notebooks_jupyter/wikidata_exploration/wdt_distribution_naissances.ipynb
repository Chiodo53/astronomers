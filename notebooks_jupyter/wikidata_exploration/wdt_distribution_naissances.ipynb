{
 "cells": [
  {
   "cell_type": "markdown",
   "id": "9150426b-5190-4539-8204-61253a0f1bd4",
   "metadata": {},
   "source": [
    "# Distribution des naissances dans le temps \n",
    "\n",
    "Dans ce carnet est proposée une analyse de la distribution dans le temps des années de naissance de la population retenue, et la mise en évidence de générations.\n",
    "\n",
    "On met aussi en évidence l'évolution dans le temps des genres"
   ]
  },
  {
   "cell_type": "code",
   "execution_count": null,
   "id": "231af92f-a7b1-479a-a734-0b8a9c0722e8",
   "metadata": {
    "tags": []
   },
   "outputs": [],
   "source": [
    "### Librairie à installer dans l'environnement conda\n",
    "# qui sera choisi pour exécuter le carnet\n",
    "from SPARQLWrapper import SPARQLWrapper, SPARQLWrapper2, JSON, TURTLE, XML, RDFXML\n",
    "import pandas as pd\n",
    "import matplotlib.pyplot as plt\n",
    "import numpy as np"
   ]
  },
  {
   "cell_type": "code",
   "execution_count": null,
   "id": "e6ce0f0e-db36-47cd-8015-a5bf33f0f7fa",
   "metadata": {
    "tags": []
   },
   "outputs": [],
   "source": [
    "### Librairies déjà installées avec Python\n",
    "import pprint\n",
    "import csv\n",
    "import sys\n",
    "\n",
    "import sqlite3 as sql\n",
    "\n",
    "import time\n",
    "import datetime\n",
    "from dateutil import parser\n",
    "\n",
    "from importlib import reload\n",
    "from shutil import copyfile\n"
   ]
  },
  {
   "cell_type": "code",
   "execution_count": null,
   "id": "9b90838d-2160-49e3-8adb-a67ff2cd112e",
   "metadata": {},
   "outputs": [],
   "source": [
    "### Importer un module de fonctions crées ad hoc\n",
    "##  ATTENTION : le fichier 'sparql_functions.py' doit se trouver \n",
    "#   dans un dossier qui se situe dans le chemin ('path') de recherche\n",
    "#   vu par le présent carnet Jupyter afin que\n",
    "#   l'importation fonctionne correctement\n",
    "\n",
    "# Add parent directory to the path\n",
    "sys.path.insert(0, '..')\n",
    "\n",
    "### If you want to add the parent-parent directory,\n",
    "sys.path.insert(0, '../..')\n",
    "\n",
    "\n",
    "import sparql_functions as spqf"
   ]
  },
  {
   "cell_type": "markdown",
   "id": "3fe8665b-f64c-42bb-8786-4aee3673867c",
   "metadata": {},
   "source": [
    "## SPARQL Query qui récupère les données\n",
    "\n",
    "On exécute la requête grâce à une fonction de la librairie locale qui réalise la mise en forme"
   ]
  },
  {
   "cell_type": "code",
   "execution_count": null,
   "id": "cf08874b-9ba0-4f5c-8eee-aebd9f0d0d26",
   "metadata": {},
   "outputs": [],
   "source": [
    "## define SPARQL enpoint\n",
    "endpoint = \"https://query.wikidata.org/sparql\""
   ]
  },
  {
   "cell_type": "code",
   "execution_count": null,
   "id": "164e80e8-1834-473a-a605-a3c1a660eff3",
   "metadata": {},
   "outputs": [],
   "source": [
    "query = \"\"\"\n",
    "SELECT DISTINCT ?item  ?itemLabel  ?gender ?year\n",
    "        WHERE {\n",
    "            {\n",
    "            {?item wdt:P106 wd:Q169470}\n",
    "          UNION \n",
    "          {?item wdt:P106 wd:Q11063}\n",
    "            UNION\n",
    "              {?item wdt:P106 wd:Q155647}\n",
    "              }\n",
    "          \n",
    "          ?item wdt:P31 wd:Q5;  # Any instance of a human.\n",
    "              wdt:P569 ?birthDate;\n",
    "                wdt:P21 ?gender.\n",
    "        BIND(REPLACE(str(?birthDate), \"(.*)([0-9]{4})(.*)\", \"$2\") AS ?year)\n",
    "        FILTER(xsd:integer(?year) > 1350 )\n",
    "          \n",
    "          SERVICE wikibase:label { bd:serviceParam wikibase:language \"en\" }\n",
    "        } \n",
    "     ORDER BY ?year\n",
    "\"\"\""
   ]
  },
  {
   "cell_type": "code",
   "execution_count": null,
   "id": "70f2370f-e287-404f-ba7b-aaf79021047e",
   "metadata": {},
   "outputs": [],
   "source": [
    "### Executer la requête avec les fonctions de la librairie locale\n",
    "qr = spqf.get_json_sparql_result(endpoint,query)"
   ]
  },
  {
   "cell_type": "code",
   "execution_count": null,
   "id": "21bfd9f5-4c63-4b8c-af10-f9ddec203db2",
   "metadata": {},
   "outputs": [],
   "source": [
    "r = [l for l in spqf.sparql_result_to_list(qr)]\n",
    "print(len(r))\n",
    "r[:3]"
   ]
  },
  {
   "cell_type": "code",
   "execution_count": null,
   "id": "236bbba5-a4df-4a7b-b215-44c9bc3f355f",
   "metadata": {},
   "outputs": [],
   "source": [
    "### Créer un DataFrame à partir du résultat\n",
    "df_r = pd.DataFrame(r)\n",
    "df_r.columns = ['personUri', 'personLabel', 'genderUri', 'birthYear']\n",
    "df_r.head()"
   ]
  },
  {
   "cell_type": "code",
   "execution_count": null,
   "id": "eb664e6b-7fd0-4757-8bff-db79a0d52f97",
   "metadata": {
    "tags": []
   },
   "outputs": [],
   "source": [
    "df_r.info()"
   ]
  },
  {
   "cell_type": "markdown",
   "id": "61cf955b-aaca-446c-a957-47b86a4ea610",
   "metadata": {},
   "source": [
    "## Se connecter à la base de données"
   ]
  },
  {
   "cell_type": "code",
   "execution_count": null,
   "id": "00b2f7ff-7d67-4602-9b1e-38dd37809a75",
   "metadata": {},
   "outputs": [],
   "source": [
    "### Se connecter à la base de données dans laquelle on va insérer\n",
    "# le résultat de la requête SPARQL\n",
    "cn = sql.connect('../../data/astronomers_import.db')\n",
    "cn"
   ]
  },
  {
   "cell_type": "code",
   "execution_count": null,
   "id": "0be09224-1122-4abd-9225-1e4a6f45fcb3",
   "metadata": {},
   "outputs": [],
   "source": [
    "### Tester une requête SQL sur une table existante\n",
    "cur = cn.cursor()\n",
    "l = cur.execute(\"SELECT * FROM person limit 3\").fetchall()"
   ]
  },
  {
   "cell_type": "code",
   "execution_count": null,
   "id": "c0e67786-c84f-4f94-88f1-bc985f902ef1",
   "metadata": {},
   "outputs": [],
   "source": [
    "[print(e) for e in l]"
   ]
  },
  {
   "cell_type": "code",
   "execution_count": null,
   "id": "97540a56-75b7-44b5-93b2-922e22b7bfd4",
   "metadata": {},
   "outputs": [],
   "source": [
    "### Créer une nouvelle table contenant le DataFrame\n",
    "# Si on tente de la recréer, alor qu'elle existe déjà,\n",
    "# un message d'erreur est renvoyé\n",
    "try:\n",
    "    l = df_r.to_sql(name='wdt_personne', con=cn, if_exists='fail')\n",
    "except Exception as e:\n",
    "    print('Erreur: ',  e)"
   ]
  },
  {
   "cell_type": "code",
   "execution_count": null,
   "id": "34f32038-ae06-47de-8a52-fc50cdfb2da9",
   "metadata": {},
   "outputs": [],
   "source": [
    "### Vérifier que les données ont été importées correctement\n",
    "cur = cn.cursor()\n",
    "l = cur.execute(\"SELECT * FROM wdt_personne limit 3\").fetchall()"
   ]
  },
  {
   "cell_type": "code",
   "execution_count": null,
   "id": "159b0c9c-4637-4b70-a644-2a286143fd0f",
   "metadata": {},
   "outputs": [],
   "source": [
    "### On a mis le résultat de la requête SQL \n",
    "# dans une liste 'l' qu'on affiche avec une boucle 'for'\n",
    "# dans le cadre d'une 'list comprehension'\n",
    "a = [print(e) for e in l]"
   ]
  },
  {
   "cell_type": "markdown",
   "id": "90af4f27-bbc4-4ea8-8298-38185f3f6fd0",
   "metadata": {},
   "source": [
    "## Créer un DataFrame contenant la table entière"
   ]
  },
  {
   "cell_type": "code",
   "execution_count": null,
   "id": "546c29a5-0529-4821-8d27-c132f40a89a1",
   "metadata": {},
   "outputs": [],
   "source": [
    "### On récupère tout la table et on la met dans la list 'l'\n",
    "cur = cn.cursor()\n",
    "l = cur.execute(\"SELECT * FROM wdt_personne\").fetchall()"
   ]
  },
  {
   "cell_type": "code",
   "execution_count": null,
   "id": "cfef8c56-ea2a-4be8-8472-93e80db907b6",
   "metadata": {},
   "outputs": [],
   "source": [
    "### On transforme la liste en DataFrame\n",
    "df_p = pd.DataFrame(l, columns=['id', 'person_uri', 'person_label', 'genderUri', 'birthYear'],)\n",
    "df_p = df_p.set_index('id',drop=True)\n",
    "df_p.head()"
   ]
  },
  {
   "cell_type": "markdown",
   "id": "4912fbea-fc0a-443c-a015-034431fbf194",
   "metadata": {},
   "source": [
    "### Vérifier les genres présents directement sur la base de données\n",
    "\n",
    "La requête suivante sera exécutée directement sur la base de données.\n",
    "\n",
    "Le résultat sera affiché dans le carnet Jupyter. On peut préparer les requêtes SQL directement dans un logiciel comme DBeaver, puis les exécuter depuis un carnet Jupyter pour récupérer le résultat"
   ]
  },
  {
   "cell_type": "code",
   "execution_count": null,
   "id": "a73a1f07-d77a-492d-a1f4-79b9b5ca1715",
   "metadata": {},
   "outputs": [],
   "source": [
    "query = \"\"\"\n",
    "SELECT genderUri, count(*) as eff\n",
    "FROM wdt_personne\n",
    "GROUP BY genderUri\n",
    "ORDER BY eff DESC\"\"\""
   ]
  },
  {
   "cell_type": "code",
   "execution_count": null,
   "id": "1e4200a4-ea0c-4789-9b97-ed7a7a2a6b0b",
   "metadata": {},
   "outputs": [],
   "source": [
    "cur = cn.cursor()"
   ]
  },
  {
   "cell_type": "code",
   "execution_count": null,
   "id": "558e538a-1be5-47bd-820d-bce196a97028",
   "metadata": {},
   "outputs": [],
   "source": [
    "res = cur.execute(query)"
   ]
  },
  {
   "cell_type": "code",
   "execution_count": null,
   "id": "9b650e74-d43a-41db-bff9-755bc6a6a8a3",
   "metadata": {},
   "outputs": [],
   "source": [
    "res.fetchall()"
   ]
  },
  {
   "cell_type": "markdown",
   "id": "2de05023-549c-4de3-8dd8-1c78afaf6227",
   "metadata": {},
   "source": [
    "### Ajouter une colonne au DataFrame avec le code du genre "
   ]
  },
  {
   "cell_type": "code",
   "execution_count": null,
   "id": "0a674d8c-3a47-4c0a-9af4-7b68d6512e7a",
   "metadata": {},
   "outputs": [],
   "source": [
    "### On créé d'abord une fonction qui effectue le travail\n",
    "\n",
    "## l'argument de la fonction 'g_uri' est un nom choisi librement\n",
    "# il est ensuite appelé dans la fonction comme variable\n",
    "# et contient la valeur introduite lors de l'utilisation de la fonction \n",
    "def code_gender(g_uri):\n",
    "    if g_uri == 'http://www.wikidata.org/entity/Q6581097':\n",
    "        # genre masculin\n",
    "        a = 'M'\n",
    "    elif g_uri =='http://www.wikidata.org/entity/Q6581072':\n",
    "        # genre féminin\n",
    "        a = 'F'\n",
    "    else:\n",
    "        # genre autre\n",
    "        a = 'A'\n",
    "    return a    "
   ]
  },
  {
   "cell_type": "code",
   "execution_count": null,
   "id": "449fc512-efbd-4dcb-9e47-219f80ed8a4e",
   "metadata": {},
   "outputs": [],
   "source": [
    "### On teste la fonction\n",
    "code_gender('http://www.wikidata.org/entity/Q48270')"
   ]
  },
  {
   "cell_type": "code",
   "execution_count": null,
   "id": "199ee5a4-1cdb-4a0f-962a-7675ec3f26f2",
   "metadata": {},
   "outputs": [],
   "source": [
    "### On ajoute une nouvelle colonne et y on met pour chaque ligne le résultat de la fonction\n",
    "df_p['genCode'] = df_p.apply(lambda x: code_gender(x['genderUri']), axis=1)"
   ]
  },
  {
   "cell_type": "code",
   "execution_count": null,
   "id": "db6fb789-227b-40ef-9c11-78edf1b9d12c",
   "metadata": {},
   "outputs": [],
   "source": [
    "### On inspecte les cinq premières lignes qui ont la valeur 'A' = autre\n",
    "df_p[df_p['genCode']=='A'][:5]"
   ]
  },
  {
   "cell_type": "markdown",
   "id": "c741c989-50ea-4f3d-a28d-89959d2c739a",
   "metadata": {},
   "source": [
    "## Effectifs par année"
   ]
  },
  {
   "cell_type": "code",
   "execution_count": null,
   "id": "136263a8-722c-460e-bcc0-1aef61051025",
   "metadata": {},
   "outputs": [],
   "source": [
    "### On inspecte les valeurs de la colonne 'birthYear' \n",
    "# et on observe que le type de données est 'object', ici texte\n",
    "df_p['birthYear'].info()"
   ]
  },
  {
   "cell_type": "code",
   "execution_count": null,
   "id": "fc39e9a0-2c3b-4fe5-be24-603b6a61a566",
   "metadata": {},
   "outputs": [],
   "source": [
    "### On transforme le type de valeur de la colonne BirthYear\n",
    "# de objet à entier\n",
    "df_p['birthYear'] = df_p['birthYear'].astype(int)"
   ]
  },
  {
   "cell_type": "code",
   "execution_count": null,
   "id": "d9f288a0-21e0-45f3-82d6-77e480ad9731",
   "metadata": {},
   "outputs": [],
   "source": [
    "### On transforme en DataFrame le résultat du regroupement par année\n",
    "# noter qu'un ajoute un filtre pour que l'année maximale de naissance soit 200\n",
    "years_count = pd.DataFrame(df_p[df_p['birthYear'] < 2001].groupby('birthYear').size())\\\n",
    "                .reset_index(drop=False)\n",
    "years_count.columns=['year','effectif']\n",
    "years_count"
   ]
  },
  {
   "cell_type": "code",
   "execution_count": null,
   "id": "7fdc507e-f074-4c4a-bda5-ca2a6c69f387",
   "metadata": {},
   "outputs": [],
   "source": [
    "### Représentation graphique des effectifs par année\n",
    "\n",
    "ax = years_count.plot(x='year', y='effectif', kind='bar',rot=60, fontsize=8, figsize=(16,8))\n",
    "\n",
    "\n",
    "max_xticks = 20\n",
    "xloc = plt.MaxNLocator(max_xticks)\n",
    "ax.xaxis.set_major_locator(xloc)\n",
    "\n",
    "plt.ylabel('Effectif')\n",
    "plt.xlabel('Années')\n",
    "plt.title('Nombre de naissances par année')\n",
    "plt.show()"
   ]
  },
  {
   "cell_type": "markdown",
   "id": "ab845937-6017-44df-bec9-d78867a706a2",
   "metadata": {},
   "source": [
    "## Regrouper les effectifs par périodes de 25 ans"
   ]
  },
  {
   "cell_type": "code",
   "execution_count": null,
   "id": "dcd067cb-f58d-44a1-bdb6-991bbcc3811c",
   "metadata": {},
   "outputs": [],
   "source": [
    "### Créer une copie indépendante du DataFrame (attention aux copies de variables qui sont seulement des alias) \n",
    "cdf_p = df_p[df_p['birthYear'] < 2001].copy(deep=True)"
   ]
  },
  {
   "cell_type": "code",
   "execution_count": null,
   "id": "f7002b54-5b9a-41ff-b207-3d209bfea3b2",
   "metadata": {},
   "outputs": [],
   "source": [
    "cdf_p.head(3)"
   ]
  },
  {
   "cell_type": "code",
   "execution_count": null,
   "id": "15117967-9901-423a-a898-d5b710399439",
   "metadata": {},
   "outputs": [],
   "source": [
    "### Année minimale et maximale dans la population\n",
    "min(cdf_p['birthYear']), max(cdf_p['birthYear'])"
   ]
  },
  {
   "cell_type": "markdown",
   "id": "c60b84a9-99a7-46b0-8ae9-11bf26128fe7",
   "metadata": {},
   "source": [
    "### Codage par période de vingt-cinq ans"
   ]
  },
  {
   "cell_type": "code",
   "execution_count": null,
   "id": "7c29f5c0-bf9f-444d-be57-2d39bf882e23",
   "metadata": {
    "tags": []
   },
   "outputs": [],
   "source": [
    "### Créer une liste d'années pour séparer en périodes de 25 ans\n",
    "# noter que la dernière année sera exclue, \n",
    "# elle donc doit être supérieure à la valeur maximale \n",
    "l_25 = list(range(1351, 2002, 25))\n",
    "l_25[:5],l_25[-5:]"
   ]
  },
  {
   "cell_type": "code",
   "execution_count": null,
   "id": "06ab381e-f317-4767-9790-a9fcbfcb1853",
   "metadata": {},
   "outputs": [],
   "source": [
    "### fonction pd.cut : https://pandas.pydata.org/pandas-docs/stable/reference/api/pandas.cut.html\n",
    "# On ajoute une nouvelle colonne qui contient la période sur la base de la liste précédente\n",
    "# et de la valeur de l'année\n",
    "\n",
    "cdf_p['periodes'] = pd.cut(cdf_p['birthYear'], l_25, right=False)\n",
    "\n",
    "### Transformer le code ajouté pour qu'il soit plus lisible\n",
    "# noter qu'on a arrondi les valeurs\n",
    "cdf_p['periodes'] = cdf_p['periodes'].apply(lambda x : str(int(x.left))+'-'+ str(int(x.right)-1))\n",
    "\n",
    "# Inspection\n",
    "cdf_p.head(3)"
   ]
  },
  {
   "cell_type": "code",
   "execution_count": null,
   "id": "40417fc9-a2fc-4beb-a5b1-f36034c0fae1",
   "metadata": {},
   "outputs": [],
   "source": [
    "cdf_p[cdf_p.birthYear == 2000][:3]"
   ]
  },
  {
   "cell_type": "code",
   "execution_count": null,
   "id": "4e943cfe-40d8-49c0-afa1-a55f964f657a",
   "metadata": {},
   "outputs": [],
   "source": [
    "### compter les naissances par périodes de 25 ans\n",
    "cdf_p.groupby(by='periodes').size()"
   ]
  },
  {
   "cell_type": "code",
   "execution_count": null,
   "id": "9a1dd793-210a-42c3-b68b-d0e1756277d1",
   "metadata": {},
   "outputs": [],
   "source": [
    "ax = cdf_p.groupby(by='periodes').size().plot(kind='bar',rot=60, fontsize=8, figsize=(16,8))\n",
    "plt.ylabel('Effectif')\n",
    "plt.xlabel('Périodes')\n",
    "plt.title('Naissances par périodes de ving-cinq ans')\n",
    "plt.show()"
   ]
  },
  {
   "cell_type": "markdown",
   "id": "7d3da8ee-300d-4fb8-be6e-384e1e4186ef",
   "metadata": {},
   "source": [
    "## Ajouter la représentation des genres"
   ]
  },
  {
   "cell_type": "code",
   "execution_count": null,
   "id": "e95d55b5",
   "metadata": {},
   "outputs": [],
   "source": [
    "### Regrouper et compter avec un fitre sur le genre masculin\n",
    "gender_m = pd.DataFrame(cdf_p[cdf_p.genCode == 'M'].groupby('periodes').size())\n",
    "gender_m.columns = ['gen_m']\n",
    "gender_m.tail()\n"
   ]
  },
  {
   "cell_type": "code",
   "execution_count": null,
   "id": "17ae3b32-dc7c-4a5c-a2b8-b2f9c9886a5d",
   "metadata": {},
   "outputs": [],
   "source": [
    "### Regrouper et compter avec un fitre sur le genre féminin\n",
    "gender_f = pd.DataFrame(cdf_p[cdf_p.genCode == 'F'].groupby('periodes').size())\n",
    "gender_f.columns = ['gen_f']\n",
    "gender_f.tail()\n"
   ]
  },
  {
   "cell_type": "code",
   "execution_count": null,
   "id": "fd7cc5e0-471f-469e-ae39-9365de7bfc18",
   "metadata": {},
   "outputs": [],
   "source": [
    "### Fusionner les deux tableaux en utilisant l'index comme clé de jointure\n",
    "merged = pd.merge(gender_m, gender_f, left_index=True, right_index=True)\n",
    "merged.tail()"
   ]
  },
  {
   "cell_type": "code",
   "execution_count": null,
   "id": "60190e17-c1df-4a22-9ec9-be6b77108c46",
   "metadata": {},
   "outputs": [],
   "source": [
    "### Transformer l'index de séquence à chaîne de caractères\n",
    "# ce qui est indispensable pour l'affichage dans un graphique\n",
    "merged.index = merged.index.map(str)\n",
    "merged.tail()"
   ]
  },
  {
   "cell_type": "code",
   "execution_count": null,
   "id": "d188f96f-feca-464b-b338-f87e3c9cb23b",
   "metadata": {},
   "outputs": [],
   "source": [
    "### Documentation\n",
    "# https://pandas.pydata.org/pandas-docs/stable/reference/api/pandas.DataFrame.plot.bar.html\n",
    "ax = merged.plot.bar(stacked=True, rot=70, fontsize=9, figsize=(20,6), color=['LightSteelBlue', 'LightCoral'])\n",
    "plt.show()"
   ]
  },
  {
   "cell_type": "markdown",
   "id": "ba5a7825-df2b-4e94-9f90-2ffb03267ee3",
   "metadata": {},
   "source": [
    "### Codage par période de dix ans\n",
    "\n",
    "Comme on voit bien dans le graphique précédent qu'il y a deux périodes avec des effectifs radicalements différents, \n",
    "on restraint la période analysée à l'époque contemporaine et on affine avec un découpage par périodes de dix ans "
   ]
  },
  {
   "cell_type": "code",
   "execution_count": null,
   "id": "999af2f6-438d-4dbb-91b5-ad4ee449c067",
   "metadata": {
    "tags": []
   },
   "outputs": [],
   "source": [
    "l_10 = list(range(1851, 2002, 10))\n",
    "l_10[:5],l_10[-5:]"
   ]
  },
  {
   "cell_type": "code",
   "execution_count": null,
   "id": "59fbb2a2-39c4-404b-b1c0-10be66742fae",
   "metadata": {},
   "outputs": [],
   "source": [
    "### Découpage par décennies\n",
    "## fonction pd.cut : https://pandas.pydata.org/pandas-docs/stable/reference/api/pandas.cut.html\n",
    "\n",
    "cdf_p['per_10'] = pd.cut(cdf_p['birthYear'], l_10, right=False)\n",
    "\n",
    "### Transformer le code ajouté pour qu'il soit plus lisible\n",
    "# noter qu'on a arrondi les valeurs\n",
    "cdf_p['per_10'] = cdf_p['per_10'].apply(lambda x : str(int(x.left))+'-'+ str(int(x.right)-1))\n",
    "\n",
    "# Inspection\n",
    "cdf_p.head(3)"
   ]
  },
  {
   "cell_type": "code",
   "execution_count": null,
   "id": "1c28f1d0-f1e2-4dfc-9892-2b3204544f45",
   "metadata": {},
   "outputs": [],
   "source": [
    "### On regroupe par genre comme ci-dessus\n",
    "gender_m_10 = pd.DataFrame(cdf_p[(cdf_p.genCode == 'M') & (cdf_p.birthYear > 1850)].groupby('per_10').size())\n",
    "gender_m_10.columns = ['gen_m']\n",
    "gender_m_10.tail()\n"
   ]
  },
  {
   "cell_type": "code",
   "execution_count": null,
   "id": "0e28a9c3-ab14-40db-bf3a-469dbcb93500",
   "metadata": {},
   "outputs": [],
   "source": [
    "### Idem\n",
    "gender_f_10 = pd.DataFrame(cdf_p[(cdf_p.genCode == 'F')& (cdf_p.birthYear > 1850)].groupby('per_10').size())\n",
    "gender_f_10.columns = ['gen_f']\n",
    "gender_f_10.tail()\n"
   ]
  },
  {
   "cell_type": "code",
   "execution_count": null,
   "id": "ebcbeed3-851b-416e-9f30-d1251ac5e579",
   "metadata": {},
   "outputs": [],
   "source": [
    "merged_10 = pd.merge(gender_m_10, gender_f_10, left_index=True, right_index=True)\n",
    "merged_10.tail()"
   ]
  },
  {
   "cell_type": "code",
   "execution_count": null,
   "id": "ae8f6224-9c2b-47ce-ace0-c1d4a05c4869",
   "metadata": {},
   "outputs": [],
   "source": [
    "### On transforme le type de valeur de l'index\n",
    "# et on ajoute une colonne avec le total\n",
    "merged_10.index = merged_10.index.map(str)\n",
    "merged_10['tot']=merged_10['gen_m']+merged_10['gen_f']\n",
    "merged_10.tail()"
   ]
  },
  {
   "cell_type": "code",
   "execution_count": null,
   "id": "5569f274-e09d-4be4-a3bc-352f99d58997",
   "metadata": {},
   "outputs": [],
   "source": [
    "### On prépare les valeurs pour l'affichage des fréquences (proportion par rapport au total)\n",
    "\n",
    "# liste qui contient toutes les valeurs à la suite\n",
    "m_f = merged_10.gen_m.to_list()+merged_10.gen_f.to_list()\n",
    "\n",
    "# liste d'égale longueur que la précédente qui contient \n",
    "# les valeurs de l'index, i.e. les périodes\n",
    "tot = merged_10.tot.to_list()*2\n",
    "\n",
    "# liste qui contient les valeurs des fréquences\n",
    "lp = [round(v/t, 2) for v,t in zip(m_f, tot)]\n",
    "lp[:3]"
   ]
  },
  {
   "cell_type": "code",
   "execution_count": null,
   "id": "928a67b9-19f2-44e7-b4eb-7b20b534f73c",
   "metadata": {},
   "outputs": [],
   "source": [
    "### Graphique avec la distribution par période et genre (M,F)\n",
    "# Noter que les effectifs du genre 'Autres' étant très faibles,\n",
    "# on ne les analyse pas de manière sérielle mais on peut les analyser qualitatiement\n",
    "\n",
    "ax = merged_10.plot.bar(stacked=True, y=['gen_m', 'gen_f'], \\\n",
    "                        rot=70, fontsize=9, figsize=(20,8), color=['LightSteelBlue', 'LightCoral'])\n",
    "\n",
    "\n",
    "### https://www.pythoncharts.com/matplotlib/stacked-bar-charts-labels/\n",
    "\n",
    "\n",
    "## On ajoute une étiquette concernant la valeur de fréquence\n",
    "# à chaque rectangle dans le graphe, en utilisant la list 'lp' préparée précédemment\n",
    "# Il y a autant de triangles que les valeurs d'index x le nombre de variables\n",
    "\n",
    "for bar,v in zip(ax.patches,lp): \n",
    "\n",
    "    ax.text(\n",
    "      # Met les étiquette aux centre des rectangles\n",
    "      bar.get_x() + bar.get_width() / 2,\n",
    "        \n",
    "      # Ajoute les coordonnées verticales\n",
    "      bar.get_height()/2 + bar.get_y(), \n",
    "      \n",
    "      # Ajoute les valeurs\n",
    "      v,\n",
    "\n",
    "      # centre et met du style aux étiquettes\n",
    "      ha='center',\n",
    "      color='black',\n",
    "      weight='bold',\n",
    "      size=10\n",
    "  )\n",
    "\n",
    "plt.ylabel('Effectifs par période avec proportion des genres')\n",
    "plt.xlabel('Périodes')\n",
    "plt.title('Distribution des naissances par périodes de dix ans, proportion des genres par période')\n",
    "\n",
    "## On peut enregistrer l'image dans un fichier (noter le dossier créé préalablement)\n",
    "# qu'on pourra ensuite introduire dans un travail et commenter\n",
    "\n",
    "# Doc.: https://matplotlib.org/stable/api/_as_gen/matplotlib.pyplot.savefig.html\n",
    "plt.savefig('images/naissances_distribution_10ans_genre.jpg', bbox_inches='tight',\n",
    "                       pad_inches=0.2)\n",
    "plt.show()"
   ]
  }
 ],
 "metadata": {
  "kernelspec": {
   "display_name": "py310_data_analysis",
   "language": "python",
   "name": "py310_data_analysis"
  },
  "language_info": {
   "codemirror_mode": {
    "name": "ipython",
    "version": 3
   },
   "file_extension": ".py",
   "mimetype": "text/x-python",
   "name": "python",
   "nbconvert_exporter": "python",
   "pygments_lexer": "ipython3",
   "version": "3.10.9"
  }
 },
 "nbformat": 4,
 "nbformat_minor": 5
}
