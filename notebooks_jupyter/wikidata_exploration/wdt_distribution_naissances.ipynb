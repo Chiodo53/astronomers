{
 "cells": [
  {
   "cell_type": "markdown",
   "id": "9150426b-5190-4539-8204-61253a0f1bd4",
   "metadata": {},
   "source": [
    "# Distribution des naissances dans le temps \n",
    "\n",
    "Dans ce carnet est proposée une analyse de la distribution dans le temps des années de naissance de la population retenue, et la mise en évidence de générations.\n",
    "\n",
    "On met aussi en évidence l'évolution dans le temps des genres"
   ]
  },
  {
   "cell_type": "code",
   "execution_count": 1,
   "id": "231af92f-a7b1-479a-a734-0b8a9c0722e8",
   "metadata": {
    "tags": []
   },
   "outputs": [],
   "source": [
    "### Librairie à installer dans l'environnement conda\n",
    "# qui sera choisi pour exécuter le carnet\n",
    "from SPARQLWrapper import SPARQLWrapper, SPARQLWrapper2, JSON, TURTLE, XML, RDFXML\n",
    "import pandas as pd\n",
    "import matplotlib.pyplot as plt\n",
    "import numpy as np"
   ]
  },
  {
   "cell_type": "code",
   "execution_count": 2,
   "id": "e6ce0f0e-db36-47cd-8015-a5bf33f0f7fa",
   "metadata": {
    "tags": []
   },
   "outputs": [],
   "source": [
    "### Librairies déjà installées avec Python\n",
    "import pprint\n",
    "import csv\n",
    "import sys\n",
    "\n",
    "import sqlite3 as sql\n",
    "\n",
    "import time\n",
    "import datetime\n",
    "from dateutil import parser\n",
    "\n",
    "from importlib import reload\n",
    "from shutil import copyfile\n"
   ]
  },
  {
   "cell_type": "code",
   "execution_count": 3,
   "id": "9b90838d-2160-49e3-8adb-a67ff2cd112e",
   "metadata": {},
   "outputs": [],
   "source": [
    "### Importer un module de fonctions crées ad hoc\n",
    "##  ATTENTION : le fichier 'sparql_functions.py' doit se trouver \n",
    "#   dans un dossier qui se situe dans le chemin ('path') de recherche\n",
    "#   vu par le présent carnet Jupyter afin que\n",
    "#   l'importation fonctionne correctement\n",
    "\n",
    "# Add parent directory to the path\n",
    "sys.path.insert(0, '..')\n",
    "\n",
    "### If you want to add the parent-parent directory,\n",
    "sys.path.insert(0, '../..')\n",
    "\n",
    "\n",
    "import sparql_functions as spqf"
   ]
  },
  {
   "cell_type": "markdown",
   "id": "3fe8665b-f64c-42bb-8786-4aee3673867c",
   "metadata": {},
   "source": [
    "## SPARQL Query qui récupère les données\n",
    "\n",
    "On exécute la requête grâce à une fonction de la librairie locale qui réalise la mise en forme"
   ]
  },
  {
   "cell_type": "code",
   "execution_count": 4,
   "id": "cf08874b-9ba0-4f5c-8eee-aebd9f0d0d26",
   "metadata": {},
   "outputs": [],
   "source": [
    "## define SPARQL enpoint\n",
    "endpoint = \"https://query.wikidata.org/sparql\""
   ]
  },
  {
   "cell_type": "code",
   "execution_count": 5,
   "id": "164e80e8-1834-473a-a605-a3c1a660eff3",
   "metadata": {},
   "outputs": [],
   "source": [
    "query = \"\"\"\n",
    "SELECT DISTINCT ?item  ?itemLabel  ?gender ?year\n",
    "        WHERE {\n",
    "            {\n",
    "            {?item wdt:P106 wd:Q169470}\n",
    "          UNION \n",
    "          {?item wdt:P106 wd:Q11063}\n",
    "            UNION\n",
    "              {?item wdt:P106 wd:Q155647}\n",
    "              }\n",
    "          \n",
    "          ?item wdt:P31 wd:Q5;  # Any instance of a human.\n",
    "              wdt:P569 ?birthDate;\n",
    "                wdt:P21 ?gender.\n",
    "        BIND(REPLACE(str(?birthDate), \"(.*)([0-9]{4})(.*)\", \"$2\") AS ?year)\n",
    "        FILTER(xsd:integer(?year) > 1350 )\n",
    "          \n",
    "          SERVICE wikibase:label { bd:serviceParam wikibase:language \"en\" }\n",
    "        } \n",
    "     ORDER BY ?year\n",
    "\"\"\""
   ]
  },
  {
   "cell_type": "code",
   "execution_count": null,
   "id": "70f2370f-e287-404f-ba7b-aaf79021047e",
   "metadata": {},
   "outputs": [],
   "source": [
    "### Executer la requête avec les fonctions de la librairie locale\n",
    "qr = spqf.get_json_sparql_result(endpoint,query)"
   ]
  },
  {
   "cell_type": "code",
   "execution_count": 1,
   "id": "21bfd9f5-4c63-4b8c-af10-f9ddec203db2",
   "metadata": {},
   "outputs": [
    {
     "ename": "NameError",
     "evalue": "name 'spqf' is not defined",
     "output_type": "error",
     "traceback": [
      "\u001b[0;31m---------------------------------------------------------------------------\u001b[0m",
      "\u001b[0;31mNameError\u001b[0m                                 Traceback (most recent call last)",
      "Cell \u001b[0;32mIn[1], line 1\u001b[0m\n\u001b[0;32m----> 1\u001b[0m r \u001b[38;5;241m=\u001b[39m [l \u001b[38;5;28;01mfor\u001b[39;00m l \u001b[38;5;129;01min\u001b[39;00m \u001b[43mspqf\u001b[49m\u001b[38;5;241m.\u001b[39msparql_result_to_list(qr)]\n\u001b[1;32m      2\u001b[0m \u001b[38;5;28mprint\u001b[39m(\u001b[38;5;28mlen\u001b[39m(r))\n\u001b[1;32m      3\u001b[0m r[:\u001b[38;5;241m3\u001b[39m]\n",
      "\u001b[0;31mNameError\u001b[0m: name 'spqf' is not defined"
     ]
    }
   ],
   "source": [
    "r = [l for l in spqf.sparql_result_to_list(qr)]\n",
    "print(len(r))\n",
    "r[:3]"
   ]
  },
  {
   "cell_type": "code",
   "execution_count": null,
   "id": "236bbba5-a4df-4a7b-b215-44c9bc3f355f",
   "metadata": {},
   "outputs": [
    {
     "data": {
      "text/html": [
       "<div>\n",
       "<style scoped>\n",
       "    .dataframe tbody tr th:only-of-type {\n",
       "        vertical-align: middle;\n",
       "    }\n",
       "\n",
       "    .dataframe tbody tr th {\n",
       "        vertical-align: top;\n",
       "    }\n",
       "\n",
       "    .dataframe thead th {\n",
       "        text-align: right;\n",
       "    }\n",
       "</style>\n",
       "<table border=\"1\" class=\"dataframe\">\n",
       "  <thead>\n",
       "    <tr style=\"text-align: right;\">\n",
       "      <th></th>\n",
       "      <th>personUri</th>\n",
       "      <th>personLabel</th>\n",
       "      <th>genderUri</th>\n",
       "      <th>birthYear</th>\n",
       "    </tr>\n",
       "  </thead>\n",
       "  <tbody>\n",
       "    <tr>\n",
       "      <th>0</th>\n",
       "      <td>http://www.wikidata.org/entity/Q855257</td>\n",
       "      <td>Blasius of Parma</td>\n",
       "      <td>http://www.wikidata.org/entity/Q6581097</td>\n",
       "      <td>1355</td>\n",
       "    </tr>\n",
       "    <tr>\n",
       "      <th>1</th>\n",
       "      <td>http://www.wikidata.org/entity/Q4121967</td>\n",
       "      <td>Ibn al-Majdi</td>\n",
       "      <td>http://www.wikidata.org/entity/Q6581097</td>\n",
       "      <td>1359</td>\n",
       "    </tr>\n",
       "    <tr>\n",
       "      <th>2</th>\n",
       "      <td>http://www.wikidata.org/entity/Q9168741</td>\n",
       "      <td>Benedict Makra</td>\n",
       "      <td>http://www.wikidata.org/entity/Q6581097</td>\n",
       "      <td>1360</td>\n",
       "    </tr>\n",
       "    <tr>\n",
       "      <th>3</th>\n",
       "      <td>http://www.wikidata.org/entity/Q45439746</td>\n",
       "      <td>Hu Guan</td>\n",
       "      <td>http://www.wikidata.org/entity/Q6581097</td>\n",
       "      <td>1361</td>\n",
       "    </tr>\n",
       "    <tr>\n",
       "      <th>4</th>\n",
       "      <td>http://www.wikidata.org/entity/Q1386256</td>\n",
       "      <td>Qāḍī Zāda al-Rūmī</td>\n",
       "      <td>http://www.wikidata.org/entity/Q6581097</td>\n",
       "      <td>1364</td>\n",
       "    </tr>\n",
       "  </tbody>\n",
       "</table>\n",
       "</div>"
      ],
      "text/plain": [
       "                                  personUri        personLabel  \\\n",
       "0    http://www.wikidata.org/entity/Q855257   Blasius of Parma   \n",
       "1   http://www.wikidata.org/entity/Q4121967       Ibn al-Majdi   \n",
       "2   http://www.wikidata.org/entity/Q9168741     Benedict Makra   \n",
       "3  http://www.wikidata.org/entity/Q45439746            Hu Guan   \n",
       "4   http://www.wikidata.org/entity/Q1386256  Qāḍī Zāda al-Rūmī   \n",
       "\n",
       "                                 genderUri birthYear  \n",
       "0  http://www.wikidata.org/entity/Q6581097      1355  \n",
       "1  http://www.wikidata.org/entity/Q6581097      1359  \n",
       "2  http://www.wikidata.org/entity/Q6581097      1360  \n",
       "3  http://www.wikidata.org/entity/Q6581097      1361  \n",
       "4  http://www.wikidata.org/entity/Q6581097      1364  "
      ]
     },
     "execution_count": 37,
     "metadata": {},
     "output_type": "execute_result"
    }
   ],
   "source": [
    "### Créer un DataFrame à partir du résultat\n",
    "df_r = pd.DataFrame(r)\n",
    "df_r.columns = ['personUri', 'personLabel', 'genderUri', 'birthYear']\n",
    "df_r.head()"
   ]
  },
  {
   "cell_type": "code",
   "execution_count": null,
   "id": "eb664e6b-7fd0-4757-8bff-db79a0d52f97",
   "metadata": {
    "tags": []
   },
   "outputs": [
    {
     "name": "stdout",
     "output_type": "stream",
     "text": [
      "<class 'pandas.core.frame.DataFrame'>\n",
      "RangeIndex: 33903 entries, 0 to 33902\n",
      "Data columns (total 4 columns):\n",
      " #   Column       Non-Null Count  Dtype \n",
      "---  ------       --------------  ----- \n",
      " 0   personUri    33903 non-null  object\n",
      " 1   personLabel  33903 non-null  object\n",
      " 2   genderUri    33903 non-null  object\n",
      " 3   birthYear    33903 non-null  object\n",
      "dtypes: object(4)\n",
      "memory usage: 1.0+ MB\n"
     ]
    }
   ],
   "source": [
    "df_r.info()"
   ]
  },
  {
   "cell_type": "markdown",
   "id": "61cf955b-aaca-446c-a957-47b86a4ea610",
   "metadata": {},
   "source": [
    "## Se connecter à la base de données"
   ]
  },
  {
   "cell_type": "code",
   "execution_count": 7,
   "id": "00b2f7ff-7d67-4602-9b1e-38dd37809a75",
   "metadata": {},
   "outputs": [
    {
     "data": {
      "text/plain": [
       "<sqlite3.Connection at 0x7f5636469340>"
      ]
     },
     "execution_count": 7,
     "metadata": {},
     "output_type": "execute_result"
    }
   ],
   "source": [
    "### Se connecter à la base de données dans laquelle on va insérer\n",
    "# le résultat de la requête SPARQL\n",
    "cn = sql.connect('../../data/astronomers_import.db')\n",
    "cn"
   ]
  },
  {
   "cell_type": "code",
   "execution_count": 8,
   "id": "0be09224-1122-4abd-9225-1e4a6f45fcb3",
   "metadata": {},
   "outputs": [],
   "source": [
    "### Tester une requête SQL sur une table existante\n",
    "cur = cn.cursor()\n",
    "l = cur.execute(\"SELECT * FROM person limit 3\").fetchall()"
   ]
  },
  {
   "cell_type": "code",
   "execution_count": 9,
   "id": "c0e67786-c84f-4f94-88f1-bc985f902ef1",
   "metadata": {},
   "outputs": [
    {
     "name": "stdout",
     "output_type": "stream",
     "text": [
      "(1, 'Ibn al-Majdi', 1359, None, None, \"Importé le 15 mars 2024 depuis le résultat d'une requête SPARQL sur DBPedia, cf. astronomers/DBpedia_importer_dans_base_personnelle\", 'http://dbpedia.org/resource/Ibn_al-Majdi', None)\n",
      "(2, 'Ulugh Beg', 1394, None, None, \"Importé le 15 mars 2024 depuis le résultat d'une requête SPARQL sur DBPedia, cf. astronomers/DBpedia_importer_dans_base_personnelle\", 'http://dbpedia.org/resource/Ulugh_Beg', None)\n",
      "(3, 'Luca Pacioli', 1447, None, None, \"Importé le 15 mars 2024 depuis le résultat d'une requête SPARQL sur DBPedia, cf. astronomers/DBpedia_importer_dans_base_personnelle\", 'http://dbpedia.org/resource/Luca_Pacioli', None)\n"
     ]
    },
    {
     "data": {
      "text/plain": [
       "[None, None, None]"
      ]
     },
     "execution_count": 9,
     "metadata": {},
     "output_type": "execute_result"
    }
   ],
   "source": [
    "[print(e) for e in l]"
   ]
  },
  {
   "cell_type": "code",
   "execution_count": null,
   "id": "97540a56-75b7-44b5-93b2-922e22b7bfd4",
   "metadata": {},
   "outputs": [],
   "source": [
    "### Créer une nouvelle table contenant le DataFrame\n",
    "# Si on tente de la recréer, alor qu'elle existe déjà,\n",
    "# un message d'erreur est renvoyé\n",
    "try:\n",
    "    l = df_r.to_sql(name='wdt_personne', con=cn, if_exists='fail')\n",
    "except Exception as e:\n",
    "    print('Erreur: ',  e)"
   ]
  },
  {
   "cell_type": "code",
   "execution_count": 11,
   "id": "34f32038-ae06-47de-8a52-fc50cdfb2da9",
   "metadata": {},
   "outputs": [],
   "source": [
    "### Vérifier que les données ont été importées correctement\n",
    "cur = cn.cursor()\n",
    "l = cur.execute(\"SELECT * FROM wdt_personne limit 3\").fetchall()"
   ]
  },
  {
   "cell_type": "code",
   "execution_count": 12,
   "id": "159b0c9c-4637-4b70-a644-2a286143fd0f",
   "metadata": {},
   "outputs": [
    {
     "name": "stdout",
     "output_type": "stream",
     "text": [
      "(0, 'http://www.wikidata.org/entity/Q855257', 'Blasius of Parma', 'http://www.wikidata.org/entity/Q6581097', '1355')\n",
      "(1, 'http://www.wikidata.org/entity/Q4121967', 'Ibn al-Majdi', 'http://www.wikidata.org/entity/Q6581097', '1359')\n",
      "(2, 'http://www.wikidata.org/entity/Q9168741', 'Benedict Makra', 'http://www.wikidata.org/entity/Q6581097', '1360')\n"
     ]
    }
   ],
   "source": [
    "### On a mis le résultat de la requête SQL \n",
    "# dans une liste 'l' qu'on affiche avec une boucle 'for'\n",
    "# dans le cadre d'une 'list comprehension'\n",
    "a = [print(e) for e in l]"
   ]
  },
  {
   "cell_type": "markdown",
   "id": "90af4f27-bbc4-4ea8-8298-38185f3f6fd0",
   "metadata": {},
   "source": [
    "## Créer un DataFrame contenant la table entière"
   ]
  },
  {
   "cell_type": "code",
   "execution_count": 21,
   "id": "546c29a5-0529-4821-8d27-c132f40a89a1",
   "metadata": {},
   "outputs": [],
   "source": [
    "### On récupère tout la table et on la met dans la list 'l'\n",
    "cur = cn.cursor()\n",
    "l = cur.execute(\"SELECT * FROM wdt_personne\").fetchall()"
   ]
  },
  {
   "cell_type": "code",
   "execution_count": 22,
   "id": "cfef8c56-ea2a-4be8-8472-93e80db907b6",
   "metadata": {},
   "outputs": [
    {
     "data": {
      "text/html": [
       "<div>\n",
       "<style scoped>\n",
       "    .dataframe tbody tr th:only-of-type {\n",
       "        vertical-align: middle;\n",
       "    }\n",
       "\n",
       "    .dataframe tbody tr th {\n",
       "        vertical-align: top;\n",
       "    }\n",
       "\n",
       "    .dataframe thead th {\n",
       "        text-align: right;\n",
       "    }\n",
       "</style>\n",
       "<table border=\"1\" class=\"dataframe\">\n",
       "  <thead>\n",
       "    <tr style=\"text-align: right;\">\n",
       "      <th></th>\n",
       "      <th>person_uri</th>\n",
       "      <th>person_label</th>\n",
       "      <th>genderUri</th>\n",
       "      <th>birthYear</th>\n",
       "    </tr>\n",
       "    <tr>\n",
       "      <th>id</th>\n",
       "      <th></th>\n",
       "      <th></th>\n",
       "      <th></th>\n",
       "      <th></th>\n",
       "    </tr>\n",
       "  </thead>\n",
       "  <tbody>\n",
       "    <tr>\n",
       "      <th>0</th>\n",
       "      <td>http://www.wikidata.org/entity/Q855257</td>\n",
       "      <td>Blasius of Parma</td>\n",
       "      <td>http://www.wikidata.org/entity/Q6581097</td>\n",
       "      <td>1355</td>\n",
       "    </tr>\n",
       "    <tr>\n",
       "      <th>1</th>\n",
       "      <td>http://www.wikidata.org/entity/Q4121967</td>\n",
       "      <td>Ibn al-Majdi</td>\n",
       "      <td>http://www.wikidata.org/entity/Q6581097</td>\n",
       "      <td>1359</td>\n",
       "    </tr>\n",
       "    <tr>\n",
       "      <th>2</th>\n",
       "      <td>http://www.wikidata.org/entity/Q9168741</td>\n",
       "      <td>Benedict Makra</td>\n",
       "      <td>http://www.wikidata.org/entity/Q6581097</td>\n",
       "      <td>1360</td>\n",
       "    </tr>\n",
       "    <tr>\n",
       "      <th>3</th>\n",
       "      <td>http://www.wikidata.org/entity/Q45439746</td>\n",
       "      <td>Hu Guan</td>\n",
       "      <td>http://www.wikidata.org/entity/Q6581097</td>\n",
       "      <td>1361</td>\n",
       "    </tr>\n",
       "    <tr>\n",
       "      <th>4</th>\n",
       "      <td>http://www.wikidata.org/entity/Q1386256</td>\n",
       "      <td>Qāḍī Zāda al-Rūmī</td>\n",
       "      <td>http://www.wikidata.org/entity/Q6581097</td>\n",
       "      <td>1364</td>\n",
       "    </tr>\n",
       "  </tbody>\n",
       "</table>\n",
       "</div>"
      ],
      "text/plain": [
       "                                  person_uri       person_label  \\\n",
       "id                                                                \n",
       "0     http://www.wikidata.org/entity/Q855257   Blasius of Parma   \n",
       "1    http://www.wikidata.org/entity/Q4121967       Ibn al-Majdi   \n",
       "2    http://www.wikidata.org/entity/Q9168741     Benedict Makra   \n",
       "3   http://www.wikidata.org/entity/Q45439746            Hu Guan   \n",
       "4    http://www.wikidata.org/entity/Q1386256  Qāḍī Zāda al-Rūmī   \n",
       "\n",
       "                                  genderUri birthYear  \n",
       "id                                                     \n",
       "0   http://www.wikidata.org/entity/Q6581097      1355  \n",
       "1   http://www.wikidata.org/entity/Q6581097      1359  \n",
       "2   http://www.wikidata.org/entity/Q6581097      1360  \n",
       "3   http://www.wikidata.org/entity/Q6581097      1361  \n",
       "4   http://www.wikidata.org/entity/Q6581097      1364  "
      ]
     },
     "execution_count": 22,
     "metadata": {},
     "output_type": "execute_result"
    }
   ],
   "source": [
    "### On transforme la liste en DataFrame\n",
    "df_p = pd.DataFrame(l, columns=['id', 'person_uri', 'person_label', 'genderUri', 'birthYear'],)\n",
    "df_p = df_p.set_index('id',drop=True)\n",
    "df_p.head()"
   ]
  },
  {
   "cell_type": "markdown",
   "id": "4912fbea-fc0a-443c-a015-034431fbf194",
   "metadata": {},
   "source": [
    "### Vérifier les genres présents directement sur la base de données\n",
    "\n",
    "La requête suivante sera exécutée directement sur la base de données.\n",
    "\n",
    "Le résultat sera affiché dans le carnet Jupyter. On peut préparer les requêtes SQL directement dans un logiciel comme DBeaver, puis les exécuter depuis un carnet Jupyter pour récupérer le résultat"
   ]
  },
  {
   "cell_type": "code",
   "execution_count": 23,
   "id": "a73a1f07-d77a-492d-a1f4-79b9b5ca1715",
   "metadata": {},
   "outputs": [],
   "source": [
    "query = \"\"\"\n",
    "SELECT genderUri, count(*) as eff\n",
    "FROM wdt_personne\n",
    "GROUP BY genderUri\n",
    "ORDER BY eff DESC\"\"\""
   ]
  },
  {
   "cell_type": "code",
   "execution_count": 24,
   "id": "1e4200a4-ea0c-4789-9b97-ed7a7a2a6b0b",
   "metadata": {},
   "outputs": [],
   "source": [
    "cur = cn.cursor()"
   ]
  },
  {
   "cell_type": "code",
   "execution_count": 25,
   "id": "558e538a-1be5-47bd-820d-bce196a97028",
   "metadata": {},
   "outputs": [],
   "source": [
    "res = cur.execute(query)"
   ]
  },
  {
   "cell_type": "code",
   "execution_count": 26,
   "id": "9b650e74-d43a-41db-bff9-755bc6a6a8a3",
   "metadata": {},
   "outputs": [
    {
     "data": {
      "text/plain": [
       "[('http://www.wikidata.org/entity/Q6581097', 30965),\n",
       " ('http://www.wikidata.org/entity/Q6581072', 2901),\n",
       " ('http://www.wikidata.org/entity/Q1052281', 7),\n",
       " ('http://www.wikidata.org/entity/Q48270', 3),\n",
       " ('http://www.wikidata.org/entity/Q505371', 1),\n",
       " ('http://www.wikidata.org/entity/Q27679766', 1),\n",
       " ('http://www.wikidata.org/entity/Q2449503', 1),\n",
       " ('http://www.wikidata.org/.well-known/genid/2bfa7fe6cfda223fdfdd54784aca1f45',\n",
       "  1)]"
      ]
     },
     "execution_count": 26,
     "metadata": {},
     "output_type": "execute_result"
    }
   ],
   "source": [
    "res.fetchall()"
   ]
  },
  {
   "cell_type": "markdown",
   "id": "2de05023-549c-4de3-8dd8-1c78afaf6227",
   "metadata": {},
   "source": [
    "### Ajouter une colonne au DataFrame avec le code du genre "
   ]
  },
  {
   "cell_type": "code",
   "execution_count": 27,
   "id": "0a674d8c-3a47-4c0a-9af4-7b68d6512e7a",
   "metadata": {},
   "outputs": [],
   "source": [
    "### On créé d'abord une fonction qui effectue le travail\n",
    "\n",
    "## l'argument de la fonction 'g_uri' est un nom choisi librement\n",
    "# il est ensuite appelé dans la fonction comme variable\n",
    "# et contient la valeur introduite lors de l'utilisation de la fonction \n",
    "def code_gender(g_uri):\n",
    "    if g_uri == 'http://www.wikidata.org/entity/Q6581097':\n",
    "        # genre masculin\n",
    "        a = 'M'\n",
    "    elif g_uri =='http://www.wikidata.org/entity/Q6581072':\n",
    "        # genre féminin\n",
    "        a = 'F'\n",
    "    else:\n",
    "        # genre autre\n",
    "        a = 'A'\n",
    "    return a    "
   ]
  },
  {
   "cell_type": "code",
   "execution_count": 28,
   "id": "449fc512-efbd-4dcb-9e47-219f80ed8a4e",
   "metadata": {},
   "outputs": [
    {
     "data": {
      "text/plain": [
       "'A'"
      ]
     },
     "execution_count": 28,
     "metadata": {},
     "output_type": "execute_result"
    }
   ],
   "source": [
    "### On teste la fonction\n",
    "code_gender('http://www.wikidata.org/entity/Q48270')"
   ]
  },
  {
   "cell_type": "code",
   "execution_count": 29,
   "id": "199ee5a4-1cdb-4a0f-962a-7675ec3f26f2",
   "metadata": {},
   "outputs": [],
   "source": [
    "### On ajoute une nouvelle colonne et y on met pour chaque ligne le résultat de la fonction\n",
    "df_p['genCode'] = df_p.apply(lambda x: code_gender(x['genderUri']), axis=1)"
   ]
  },
  {
   "cell_type": "code",
   "execution_count": 30,
   "id": "db6fb789-227b-40ef-9c11-78edf1b9d12c",
   "metadata": {},
   "outputs": [
    {
     "data": {
      "text/html": [
       "<div>\n",
       "<style scoped>\n",
       "    .dataframe tbody tr th:only-of-type {\n",
       "        vertical-align: middle;\n",
       "    }\n",
       "\n",
       "    .dataframe tbody tr th {\n",
       "        vertical-align: top;\n",
       "    }\n",
       "\n",
       "    .dataframe thead th {\n",
       "        text-align: right;\n",
       "    }\n",
       "</style>\n",
       "<table border=\"1\" class=\"dataframe\">\n",
       "  <thead>\n",
       "    <tr style=\"text-align: right;\">\n",
       "      <th></th>\n",
       "      <th>person_uri</th>\n",
       "      <th>person_label</th>\n",
       "      <th>genderUri</th>\n",
       "      <th>birthYear</th>\n",
       "      <th>genCode</th>\n",
       "    </tr>\n",
       "    <tr>\n",
       "      <th>id</th>\n",
       "      <th></th>\n",
       "      <th></th>\n",
       "      <th></th>\n",
       "      <th></th>\n",
       "      <th></th>\n",
       "    </tr>\n",
       "  </thead>\n",
       "  <tbody>\n",
       "    <tr>\n",
       "      <th>19289</th>\n",
       "      <td>http://www.wikidata.org/entity/Q62729141</td>\n",
       "      <td>Arnold Schmidt</td>\n",
       "      <td>http://www.wikidata.org/entity/Q2449503</td>\n",
       "      <td>1938</td>\n",
       "      <td>A</td>\n",
       "    </tr>\n",
       "    <tr>\n",
       "      <th>24787</th>\n",
       "      <td>http://www.wikidata.org/entity/Q42207726</td>\n",
       "      <td>A. W. Peet</td>\n",
       "      <td>http://www.wikidata.org/entity/Q48270</td>\n",
       "      <td>1950</td>\n",
       "      <td>A</td>\n",
       "    </tr>\n",
       "    <tr>\n",
       "      <th>24788</th>\n",
       "      <td>http://www.wikidata.org/entity/Q42207726</td>\n",
       "      <td>A. W. Peet</td>\n",
       "      <td>http://www.wikidata.org/entity/Q27679766</td>\n",
       "      <td>1950</td>\n",
       "      <td>A</td>\n",
       "    </tr>\n",
       "    <tr>\n",
       "      <th>25022</th>\n",
       "      <td>http://www.wikidata.org/entity/Q2540350</td>\n",
       "      <td>Jessica Mink</td>\n",
       "      <td>http://www.wikidata.org/entity/Q1052281</td>\n",
       "      <td>1951</td>\n",
       "      <td>A</td>\n",
       "    </tr>\n",
       "    <tr>\n",
       "      <th>26254</th>\n",
       "      <td>http://www.wikidata.org/entity/Q15990211</td>\n",
       "      <td>Rachael Padman</td>\n",
       "      <td>http://www.wikidata.org/entity/Q1052281</td>\n",
       "      <td>1954</td>\n",
       "      <td>A</td>\n",
       "    </tr>\n",
       "  </tbody>\n",
       "</table>\n",
       "</div>"
      ],
      "text/plain": [
       "                                     person_uri    person_label  \\\n",
       "id                                                                \n",
       "19289  http://www.wikidata.org/entity/Q62729141  Arnold Schmidt   \n",
       "24787  http://www.wikidata.org/entity/Q42207726      A. W. Peet   \n",
       "24788  http://www.wikidata.org/entity/Q42207726      A. W. Peet   \n",
       "25022   http://www.wikidata.org/entity/Q2540350    Jessica Mink   \n",
       "26254  http://www.wikidata.org/entity/Q15990211  Rachael Padman   \n",
       "\n",
       "                                      genderUri birthYear genCode  \n",
       "id                                                                 \n",
       "19289   http://www.wikidata.org/entity/Q2449503      1938       A  \n",
       "24787     http://www.wikidata.org/entity/Q48270      1950       A  \n",
       "24788  http://www.wikidata.org/entity/Q27679766      1950       A  \n",
       "25022   http://www.wikidata.org/entity/Q1052281      1951       A  \n",
       "26254   http://www.wikidata.org/entity/Q1052281      1954       A  "
      ]
     },
     "execution_count": 30,
     "metadata": {},
     "output_type": "execute_result"
    }
   ],
   "source": [
    "### On inspecte les cinq premières lignes qui ont la valeur 'A' = autre\n",
    "df_p[df_p['genCode']=='A'][:5]"
   ]
  },
  {
   "cell_type": "markdown",
   "id": "c741c989-50ea-4f3d-a28d-89959d2c739a",
   "metadata": {},
   "source": [
    "## Effectifs par année"
   ]
  },
  {
   "cell_type": "code",
   "execution_count": 32,
   "id": "136263a8-722c-460e-bcc0-1aef61051025",
   "metadata": {},
   "outputs": [
    {
     "name": "stdout",
     "output_type": "stream",
     "text": [
      "<class 'pandas.core.series.Series'>\n",
      "Int64Index: 33880 entries, 0 to 33879\n",
      "Series name: birthYear\n",
      "Non-Null Count  Dtype \n",
      "--------------  ----- \n",
      "33880 non-null  object\n",
      "dtypes: object(1)\n",
      "memory usage: 529.4+ KB\n"
     ]
    }
   ],
   "source": [
    "### On inspecte les valeurs de la colonne 'birthYear' \n",
    "# et on observe que le type de données est 'object', ici texte\n",
    "df_p['birthYear'].info()"
   ]
  },
  {
   "cell_type": "code",
   "execution_count": 33,
   "id": "fc39e9a0-2c3b-4fe5-be24-603b6a61a566",
   "metadata": {},
   "outputs": [],
   "source": [
    "### On transforme le type de valeur de la colonne BirthYear\n",
    "# de objet à entier\n",
    "df_p['birthYear'] = df_p['birthYear'].astype(int)"
   ]
  },
  {
   "cell_type": "code",
   "execution_count": 34,
   "id": "d9f288a0-21e0-45f3-82d6-77e480ad9731",
   "metadata": {},
   "outputs": [
    {
     "data": {
      "text/html": [
       "<div>\n",
       "<style scoped>\n",
       "    .dataframe tbody tr th:only-of-type {\n",
       "        vertical-align: middle;\n",
       "    }\n",
       "\n",
       "    .dataframe tbody tr th {\n",
       "        vertical-align: top;\n",
       "    }\n",
       "\n",
       "    .dataframe thead th {\n",
       "        text-align: right;\n",
       "    }\n",
       "</style>\n",
       "<table border=\"1\" class=\"dataframe\">\n",
       "  <thead>\n",
       "    <tr style=\"text-align: right;\">\n",
       "      <th></th>\n",
       "      <th>year</th>\n",
       "      <th>effectif</th>\n",
       "    </tr>\n",
       "  </thead>\n",
       "  <tbody>\n",
       "    <tr>\n",
       "      <th>0</th>\n",
       "      <td>1355</td>\n",
       "      <td>1</td>\n",
       "    </tr>\n",
       "    <tr>\n",
       "      <th>1</th>\n",
       "      <td>1359</td>\n",
       "      <td>1</td>\n",
       "    </tr>\n",
       "    <tr>\n",
       "      <th>2</th>\n",
       "      <td>1360</td>\n",
       "      <td>1</td>\n",
       "    </tr>\n",
       "    <tr>\n",
       "      <th>3</th>\n",
       "      <td>1361</td>\n",
       "      <td>1</td>\n",
       "    </tr>\n",
       "    <tr>\n",
       "      <th>4</th>\n",
       "      <td>1364</td>\n",
       "      <td>1</td>\n",
       "    </tr>\n",
       "    <tr>\n",
       "      <th>...</th>\n",
       "      <td>...</td>\n",
       "      <td>...</td>\n",
       "    </tr>\n",
       "    <tr>\n",
       "      <th>577</th>\n",
       "      <td>1996</td>\n",
       "      <td>6</td>\n",
       "    </tr>\n",
       "    <tr>\n",
       "      <th>578</th>\n",
       "      <td>1997</td>\n",
       "      <td>3</td>\n",
       "    </tr>\n",
       "    <tr>\n",
       "      <th>579</th>\n",
       "      <td>1998</td>\n",
       "      <td>3</td>\n",
       "    </tr>\n",
       "    <tr>\n",
       "      <th>580</th>\n",
       "      <td>1999</td>\n",
       "      <td>3</td>\n",
       "    </tr>\n",
       "    <tr>\n",
       "      <th>581</th>\n",
       "      <td>2000</td>\n",
       "      <td>367</td>\n",
       "    </tr>\n",
       "  </tbody>\n",
       "</table>\n",
       "<p>582 rows × 2 columns</p>\n",
       "</div>"
      ],
      "text/plain": [
       "     year  effectif\n",
       "0    1355         1\n",
       "1    1359         1\n",
       "2    1360         1\n",
       "3    1361         1\n",
       "4    1364         1\n",
       "..    ...       ...\n",
       "577  1996         6\n",
       "578  1997         3\n",
       "579  1998         3\n",
       "580  1999         3\n",
       "581  2000       367\n",
       "\n",
       "[582 rows x 2 columns]"
      ]
     },
     "execution_count": 34,
     "metadata": {},
     "output_type": "execute_result"
    }
   ],
   "source": [
    "### On transforme en DataFrame le résultat du regroupement par année\n",
    "# noter qu'un ajoute un filtre pour que l'année maximale de naissance soit 200\n",
    "years_count = pd.DataFrame(df_p[df_p['birthYear'] < 2001].groupby('birthYear').size())\\\n",
    "                .reset_index(drop=False)\n",
    "years_count.columns=['year','effectif']\n",
    "years_count"
   ]
  },
  {
   "cell_type": "code",
   "execution_count": 35,
   "id": "7fdc507e-f074-4c4a-bda5-ca2a6c69f387",
   "metadata": {},
   "outputs": [
    {
     "data": {
      "image/png": "[encoded data removed]",
      "text/plain": [
       "<Figure size 1600x800 with 1 Axes>"
      ]
     },
     "metadata": {},
     "output_type": "display_data"
    }
   ],
   "source": [
    "### Représentation graphique des effectifs par année\n",
    "\n",
    "ax = years_count.plot(x='year', y='effectif', kind='bar',rot=60, fontsize=8, figsize=(16,8))\n",
    "\n",
    "\n",
    "max_xticks = 20\n",
    "xloc = plt.MaxNLocator(max_xticks)\n",
    "ax.xaxis.set_major_locator(xloc)\n",
    "\n",
    "plt.ylabel('Effectif')\n",
    "plt.xlabel('Années')\n",
    "plt.title('Nombre de naissances par année')\n",
    "plt.show()"
   ]
  },
  {
   "cell_type": "markdown",
   "id": "ab845937-6017-44df-bec9-d78867a706a2",
   "metadata": {},
   "source": [
    "## Regrouper les effectifs par périodes de 25 ans"
   ]
  },
  {
   "cell_type": "code",
   "execution_count": 36,
   "id": "dcd067cb-f58d-44a1-bdb6-991bbcc3811c",
   "metadata": {},
   "outputs": [],
   "source": [
    "### Créer une copie indépendante du DataFrame (attention aux copies de variables qui sont seulement des alias) \n",
    "cdf_p = df_p[df_p['birthYear'] < 2001].copy(deep=True)"
   ]
  },
  {
   "cell_type": "code",
   "execution_count": 37,
   "id": "f7002b54-5b9a-41ff-b207-3d209bfea3b2",
   "metadata": {},
   "outputs": [
    {
     "data": {
      "text/html": [
       "<div>\n",
       "<style scoped>\n",
       "    .dataframe tbody tr th:only-of-type {\n",
       "        vertical-align: middle;\n",
       "    }\n",
       "\n",
       "    .dataframe tbody tr th {\n",
       "        vertical-align: top;\n",
       "    }\n",
       "\n",
       "    .dataframe thead th {\n",
       "        text-align: right;\n",
       "    }\n",
       "</style>\n",
       "<table border=\"1\" class=\"dataframe\">\n",
       "  <thead>\n",
       "    <tr style=\"text-align: right;\">\n",
       "      <th></th>\n",
       "      <th>person_uri</th>\n",
       "      <th>person_label</th>\n",
       "      <th>genderUri</th>\n",
       "      <th>birthYear</th>\n",
       "      <th>genCode</th>\n",
       "    </tr>\n",
       "    <tr>\n",
       "      <th>id</th>\n",
       "      <th></th>\n",
       "      <th></th>\n",
       "      <th></th>\n",
       "      <th></th>\n",
       "      <th></th>\n",
       "    </tr>\n",
       "  </thead>\n",
       "  <tbody>\n",
       "    <tr>\n",
       "      <th>0</th>\n",
       "      <td>http://www.wikidata.org/entity/Q855257</td>\n",
       "      <td>Blasius of Parma</td>\n",
       "      <td>http://www.wikidata.org/entity/Q6581097</td>\n",
       "      <td>1355</td>\n",
       "      <td>M</td>\n",
       "    </tr>\n",
       "    <tr>\n",
       "      <th>1</th>\n",
       "      <td>http://www.wikidata.org/entity/Q4121967</td>\n",
       "      <td>Ibn al-Majdi</td>\n",
       "      <td>http://www.wikidata.org/entity/Q6581097</td>\n",
       "      <td>1359</td>\n",
       "      <td>M</td>\n",
       "    </tr>\n",
       "    <tr>\n",
       "      <th>2</th>\n",
       "      <td>http://www.wikidata.org/entity/Q9168741</td>\n",
       "      <td>Benedict Makra</td>\n",
       "      <td>http://www.wikidata.org/entity/Q6581097</td>\n",
       "      <td>1360</td>\n",
       "      <td>M</td>\n",
       "    </tr>\n",
       "  </tbody>\n",
       "</table>\n",
       "</div>"
      ],
      "text/plain": [
       "                                 person_uri      person_label  \\\n",
       "id                                                              \n",
       "0    http://www.wikidata.org/entity/Q855257  Blasius of Parma   \n",
       "1   http://www.wikidata.org/entity/Q4121967      Ibn al-Majdi   \n",
       "2   http://www.wikidata.org/entity/Q9168741    Benedict Makra   \n",
       "\n",
       "                                  genderUri  birthYear genCode  \n",
       "id                                                              \n",
       "0   http://www.wikidata.org/entity/Q6581097       1355       M  \n",
       "1   http://www.wikidata.org/entity/Q6581097       1359       M  \n",
       "2   http://www.wikidata.org/entity/Q6581097       1360       M  "
      ]
     },
     "execution_count": 37,
     "metadata": {},
     "output_type": "execute_result"
    }
   ],
   "source": [
    "cdf_p.head(3)"
   ]
  },
  {
   "cell_type": "code",
   "execution_count": 38,
   "id": "15117967-9901-423a-a898-d5b710399439",
   "metadata": {},
   "outputs": [
    {
     "data": {
      "text/plain": [
       "(1355, 2000)"
      ]
     },
     "execution_count": 38,
     "metadata": {},
     "output_type": "execute_result"
    }
   ],
   "source": [
    "### Année minimale et maximale dans la population\n",
    "min(cdf_p['birthYear']), max(cdf_p['birthYear'])"
   ]
  },
  {
   "cell_type": "markdown",
   "id": "c60b84a9-99a7-46b0-8ae9-11bf26128fe7",
   "metadata": {},
   "source": [
    "### Codage par période de vingt-cinq ans"
   ]
  },
  {
   "cell_type": "code",
   "execution_count": 39,
   "id": "7c29f5c0-bf9f-444d-be57-2d39bf882e23",
   "metadata": {
    "tags": []
   },
   "outputs": [
    {
     "data": {
      "text/plain": [
       "([1351, 1376, 1401, 1426, 1451], [1901, 1926, 1951, 1976, 2001])"
      ]
     },
     "execution_count": 39,
     "metadata": {},
     "output_type": "execute_result"
    }
   ],
   "source": [
    "### Créer une liste d'années pour séparer en périodes de 25 ans\n",
    "# noter que la dernière année sera exclue, \n",
    "# elle donc doit être supérieure à la valeur maximale \n",
    "l_25 = list(range(1351, 2002, 25))\n",
    "l_25[:5],l_25[-5:]"
   ]
  },
  {
   "cell_type": "code",
   "execution_count": 40,
   "id": "06ab381e-f317-4767-9790-a9fcbfcb1853",
   "metadata": {},
   "outputs": [
    {
     "data": {
      "text/html": [
       "<div>\n",
       "<style scoped>\n",
       "    .dataframe tbody tr th:only-of-type {\n",
       "        vertical-align: middle;\n",
       "    }\n",
       "\n",
       "    .dataframe tbody tr th {\n",
       "        vertical-align: top;\n",
       "    }\n",
       "\n",
       "    .dataframe thead th {\n",
       "        text-align: right;\n",
       "    }\n",
       "</style>\n",
       "<table border=\"1\" class=\"dataframe\">\n",
       "  <thead>\n",
       "    <tr style=\"text-align: right;\">\n",
       "      <th></th>\n",
       "      <th>person_uri</th>\n",
       "      <th>person_label</th>\n",
       "      <th>genderUri</th>\n",
       "      <th>birthYear</th>\n",
       "      <th>genCode</th>\n",
       "      <th>periodes</th>\n",
       "    </tr>\n",
       "    <tr>\n",
       "      <th>id</th>\n",
       "      <th></th>\n",
       "      <th></th>\n",
       "      <th></th>\n",
       "      <th></th>\n",
       "      <th></th>\n",
       "      <th></th>\n",
       "    </tr>\n",
       "  </thead>\n",
       "  <tbody>\n",
       "    <tr>\n",
       "      <th>0</th>\n",
       "      <td>http://www.wikidata.org/entity/Q855257</td>\n",
       "      <td>Blasius of Parma</td>\n",
       "      <td>http://www.wikidata.org/entity/Q6581097</td>\n",
       "      <td>1355</td>\n",
       "      <td>M</td>\n",
       "      <td>1351-1375</td>\n",
       "    </tr>\n",
       "    <tr>\n",
       "      <th>1</th>\n",
       "      <td>http://www.wikidata.org/entity/Q4121967</td>\n",
       "      <td>Ibn al-Majdi</td>\n",
       "      <td>http://www.wikidata.org/entity/Q6581097</td>\n",
       "      <td>1359</td>\n",
       "      <td>M</td>\n",
       "      <td>1351-1375</td>\n",
       "    </tr>\n",
       "    <tr>\n",
       "      <th>2</th>\n",
       "      <td>http://www.wikidata.org/entity/Q9168741</td>\n",
       "      <td>Benedict Makra</td>\n",
       "      <td>http://www.wikidata.org/entity/Q6581097</td>\n",
       "      <td>1360</td>\n",
       "      <td>M</td>\n",
       "      <td>1351-1375</td>\n",
       "    </tr>\n",
       "  </tbody>\n",
       "</table>\n",
       "</div>"
      ],
      "text/plain": [
       "                                 person_uri      person_label  \\\n",
       "id                                                              \n",
       "0    http://www.wikidata.org/entity/Q855257  Blasius of Parma   \n",
       "1   http://www.wikidata.org/entity/Q4121967      Ibn al-Majdi   \n",
       "2   http://www.wikidata.org/entity/Q9168741    Benedict Makra   \n",
       "\n",
       "                                  genderUri  birthYear genCode   periodes  \n",
       "id                                                                         \n",
       "0   http://www.wikidata.org/entity/Q6581097       1355       M  1351-1375  \n",
       "1   http://www.wikidata.org/entity/Q6581097       1359       M  1351-1375  \n",
       "2   http://www.wikidata.org/entity/Q6581097       1360       M  1351-1375  "
      ]
     },
     "execution_count": 40,
     "metadata": {},
     "output_type": "execute_result"
    }
   ],
   "source": [
    "### fonction pd.cut : https://pandas.pydata.org/pandas-docs/stable/reference/api/pandas.cut.html\n",
    "# On ajoute une nouvelle colonne qui contient la période sur la base de la liste précédente\n",
    "# et de la valeur de l'année\n",
    "\n",
    "cdf_p['periodes'] = pd.cut(cdf_p['birthYear'], l_25, right=False)\n",
    "\n",
    "### Transformer le code ajouté pour qu'il soit plus lisible\n",
    "# noter qu'on a arrondi les valeurs\n",
    "cdf_p['periodes'] = cdf_p['periodes'].apply(lambda x : str(int(x.left))+'-'+ str(int(x.right)-1))\n",
    "\n",
    "# Inspection\n",
    "cdf_p.head(3)"
   ]
  },
  {
   "cell_type": "code",
   "execution_count": 41,
   "id": "40417fc9-a2fc-4beb-a5b1-f36034c0fae1",
   "metadata": {},
   "outputs": [
    {
     "data": {
      "text/html": [
       "<div>\n",
       "<style scoped>\n",
       "    .dataframe tbody tr th:only-of-type {\n",
       "        vertical-align: middle;\n",
       "    }\n",
       "\n",
       "    .dataframe tbody tr th {\n",
       "        vertical-align: top;\n",
       "    }\n",
       "\n",
       "    .dataframe thead th {\n",
       "        text-align: right;\n",
       "    }\n",
       "</style>\n",
       "<table border=\"1\" class=\"dataframe\">\n",
       "  <thead>\n",
       "    <tr style=\"text-align: right;\">\n",
       "      <th></th>\n",
       "      <th>person_uri</th>\n",
       "      <th>person_label</th>\n",
       "      <th>genderUri</th>\n",
       "      <th>birthYear</th>\n",
       "      <th>genCode</th>\n",
       "      <th>periodes</th>\n",
       "    </tr>\n",
       "    <tr>\n",
       "      <th>id</th>\n",
       "      <th></th>\n",
       "      <th></th>\n",
       "      <th></th>\n",
       "      <th></th>\n",
       "      <th></th>\n",
       "      <th></th>\n",
       "    </tr>\n",
       "  </thead>\n",
       "  <tbody>\n",
       "    <tr>\n",
       "      <th>33424</th>\n",
       "      <td>http://www.wikidata.org/entity/Q96986</td>\n",
       "      <td>Klaus Fesser</td>\n",
       "      <td>http://www.wikidata.org/entity/Q6581097</td>\n",
       "      <td>2000</td>\n",
       "      <td>M</td>\n",
       "      <td>1976-2000</td>\n",
       "    </tr>\n",
       "    <tr>\n",
       "      <th>33425</th>\n",
       "      <td>http://www.wikidata.org/entity/Q166181</td>\n",
       "      <td>R. Scott Dunbar</td>\n",
       "      <td>http://www.wikidata.org/entity/Q6581097</td>\n",
       "      <td>2000</td>\n",
       "      <td>M</td>\n",
       "      <td>1976-2000</td>\n",
       "    </tr>\n",
       "    <tr>\n",
       "      <th>33426</th>\n",
       "      <td>http://www.wikidata.org/entity/Q1947401</td>\n",
       "      <td>Mordechai Segev</td>\n",
       "      <td>http://www.wikidata.org/entity/Q6581097</td>\n",
       "      <td>2000</td>\n",
       "      <td>M</td>\n",
       "      <td>1976-2000</td>\n",
       "    </tr>\n",
       "  </tbody>\n",
       "</table>\n",
       "</div>"
      ],
      "text/plain": [
       "                                    person_uri     person_label  \\\n",
       "id                                                                \n",
       "33424    http://www.wikidata.org/entity/Q96986     Klaus Fesser   \n",
       "33425   http://www.wikidata.org/entity/Q166181  R. Scott Dunbar   \n",
       "33426  http://www.wikidata.org/entity/Q1947401  Mordechai Segev   \n",
       "\n",
       "                                     genderUri  birthYear genCode   periodes  \n",
       "id                                                                            \n",
       "33424  http://www.wikidata.org/entity/Q6581097       2000       M  1976-2000  \n",
       "33425  http://www.wikidata.org/entity/Q6581097       2000       M  1976-2000  \n",
       "33426  http://www.wikidata.org/entity/Q6581097       2000       M  1976-2000  "
      ]
     },
     "execution_count": 41,
     "metadata": {},
     "output_type": "execute_result"
    }
   ],
   "source": [
    "cdf_p[cdf_p.birthYear == 2000][:3]"
   ]
  },
  {
   "cell_type": "code",
   "execution_count": 42,
   "id": "4e943cfe-40d8-49c0-afa1-a55f964f657a",
   "metadata": {},
   "outputs": [
    {
     "data": {
      "text/plain": [
       "periodes\n",
       "1351-1375       15\n",
       "1376-1400       22\n",
       "1401-1425       25\n",
       "1426-1450       41\n",
       "1451-1475       45\n",
       "1476-1500       82\n",
       "1501-1525       84\n",
       "1526-1550      116\n",
       "1551-1575      127\n",
       "1576-1600      164\n",
       "1601-1625      149\n",
       "1626-1650      151\n",
       "1651-1675      151\n",
       "1676-1700      173\n",
       "1701-1725      282\n",
       "1726-1750      357\n",
       "1751-1775      357\n",
       "1776-1800      433\n",
       "1801-1825      679\n",
       "1826-1850     1009\n",
       "1851-1875     1700\n",
       "1876-1900     2499\n",
       "1901-1925     5352\n",
       "1926-1950    10922\n",
       "1951-1975     7042\n",
       "1976-2000     1814\n",
       "dtype: int64"
      ]
     },
     "execution_count": 42,
     "metadata": {},
     "output_type": "execute_result"
    }
   ],
   "source": [
    "### compter les naissances par périodes de 25 ans\n",
    "cdf_p.groupby(by='periodes').size()"
   ]
  },
  {
   "cell_type": "code",
   "execution_count": 43,
   "id": "9a1dd793-210a-42c3-b68b-d0e1756277d1",
   "metadata": {},
   "outputs": [
    {
     "data": {
      "image/png": "[encoded data removed]",
      "text/plain": [
       "<Figure size 1600x800 with 1 Axes>"
      ]
     },
     "metadata": {},
     "output_type": "display_data"
    }
   ],
   "source": [
    "ax = cdf_p.groupby(by='periodes').size().plot(kind='bar',rot=60, fontsize=8, figsize=(16,8))\n",
    "plt.ylabel('Effectif')\n",
    "plt.xlabel('Périodes')\n",
    "plt.title('Naissances par périodes de ving-cinq ans')\n",
    "plt.show()"
   ]
  },
  {
   "cell_type": "markdown",
   "id": "7d3da8ee-300d-4fb8-be6e-384e1e4186ef",
   "metadata": {},
   "source": [
    "## Ajouter la représentation des genres"
   ]
  },
  {
   "cell_type": "code",
   "execution_count": 46,
   "id": "e95d55b5",
   "metadata": {},
   "outputs": [
    {
     "data": {
      "text/html": [
       "<div>\n",
       "<style scoped>\n",
       "    .dataframe tbody tr th:only-of-type {\n",
       "        vertical-align: middle;\n",
       "    }\n",
       "\n",
       "    .dataframe tbody tr th {\n",
       "        vertical-align: top;\n",
       "    }\n",
       "\n",
       "    .dataframe thead th {\n",
       "        text-align: right;\n",
       "    }\n",
       "</style>\n",
       "<table border=\"1\" class=\"dataframe\">\n",
       "  <thead>\n",
       "    <tr style=\"text-align: right;\">\n",
       "      <th></th>\n",
       "      <th>gen_m</th>\n",
       "    </tr>\n",
       "    <tr>\n",
       "      <th>periodes</th>\n",
       "      <th></th>\n",
       "    </tr>\n",
       "  </thead>\n",
       "  <tbody>\n",
       "    <tr>\n",
       "      <th>1876-1900</th>\n",
       "      <td>2318</td>\n",
       "    </tr>\n",
       "    <tr>\n",
       "      <th>1901-1925</th>\n",
       "      <td>4980</td>\n",
       "    </tr>\n",
       "    <tr>\n",
       "      <th>1926-1950</th>\n",
       "      <td>10173</td>\n",
       "    </tr>\n",
       "    <tr>\n",
       "      <th>1951-1975</th>\n",
       "      <td>6019</td>\n",
       "    </tr>\n",
       "    <tr>\n",
       "      <th>1976-2000</th>\n",
       "      <td>1377</td>\n",
       "    </tr>\n",
       "  </tbody>\n",
       "</table>\n",
       "</div>"
      ],
      "text/plain": [
       "           gen_m\n",
       "periodes        \n",
       "1876-1900   2318\n",
       "1901-1925   4980\n",
       "1926-1950  10173\n",
       "1951-1975   6019\n",
       "1976-2000   1377"
      ]
     },
     "execution_count": 46,
     "metadata": {},
     "output_type": "execute_result"
    }
   ],
   "source": [
    "### Regrouper et compter avec un fitre sur le genre masculin\n",
    "gender_m = pd.DataFrame(cdf_p[cdf_p.genCode == 'M'].groupby('periodes').size())\n",
    "gender_m.columns = ['gen_m']\n",
    "gender_m.tail()\n"
   ]
  },
  {
   "cell_type": "code",
   "execution_count": 47,
   "id": "17ae3b32-dc7c-4a5c-a2b8-b2f9c9886a5d",
   "metadata": {},
   "outputs": [
    {
     "data": {
      "text/html": [
       "<div>\n",
       "<style scoped>\n",
       "    .dataframe tbody tr th:only-of-type {\n",
       "        vertical-align: middle;\n",
       "    }\n",
       "\n",
       "    .dataframe tbody tr th {\n",
       "        vertical-align: top;\n",
       "    }\n",
       "\n",
       "    .dataframe thead th {\n",
       "        text-align: right;\n",
       "    }\n",
       "</style>\n",
       "<table border=\"1\" class=\"dataframe\">\n",
       "  <thead>\n",
       "    <tr style=\"text-align: right;\">\n",
       "      <th></th>\n",
       "      <th>gen_f</th>\n",
       "    </tr>\n",
       "    <tr>\n",
       "      <th>periodes</th>\n",
       "      <th></th>\n",
       "    </tr>\n",
       "  </thead>\n",
       "  <tbody>\n",
       "    <tr>\n",
       "      <th>1876-1900</th>\n",
       "      <td>181</td>\n",
       "    </tr>\n",
       "    <tr>\n",
       "      <th>1901-1925</th>\n",
       "      <td>372</td>\n",
       "    </tr>\n",
       "    <tr>\n",
       "      <th>1926-1950</th>\n",
       "      <td>746</td>\n",
       "    </tr>\n",
       "    <tr>\n",
       "      <th>1951-1975</th>\n",
       "      <td>1018</td>\n",
       "    </tr>\n",
       "    <tr>\n",
       "      <th>1976-2000</th>\n",
       "      <td>431</td>\n",
       "    </tr>\n",
       "  </tbody>\n",
       "</table>\n",
       "</div>"
      ],
      "text/plain": [
       "           gen_f\n",
       "periodes        \n",
       "1876-1900    181\n",
       "1901-1925    372\n",
       "1926-1950    746\n",
       "1951-1975   1018\n",
       "1976-2000    431"
      ]
     },
     "execution_count": 47,
     "metadata": {},
     "output_type": "execute_result"
    }
   ],
   "source": [
    "### Regrouper et compter avec un fitre sur le genre féminin\n",
    "gender_f = pd.DataFrame(cdf_p[cdf_p.genCode == 'F'].groupby('periodes').size())\n",
    "gender_f.columns = ['gen_f']\n",
    "gender_f.tail()\n"
   ]
  },
  {
   "cell_type": "code",
   "execution_count": 48,
   "id": "fd7cc5e0-471f-469e-ae39-9365de7bfc18",
   "metadata": {},
   "outputs": [
    {
     "data": {
      "text/html": [
       "<div>\n",
       "<style scoped>\n",
       "    .dataframe tbody tr th:only-of-type {\n",
       "        vertical-align: middle;\n",
       "    }\n",
       "\n",
       "    .dataframe tbody tr th {\n",
       "        vertical-align: top;\n",
       "    }\n",
       "\n",
       "    .dataframe thead th {\n",
       "        text-align: right;\n",
       "    }\n",
       "</style>\n",
       "<table border=\"1\" class=\"dataframe\">\n",
       "  <thead>\n",
       "    <tr style=\"text-align: right;\">\n",
       "      <th></th>\n",
       "      <th>gen_m</th>\n",
       "      <th>gen_f</th>\n",
       "    </tr>\n",
       "    <tr>\n",
       "      <th>periodes</th>\n",
       "      <th></th>\n",
       "      <th></th>\n",
       "    </tr>\n",
       "  </thead>\n",
       "  <tbody>\n",
       "    <tr>\n",
       "      <th>1876-1900</th>\n",
       "      <td>2318</td>\n",
       "      <td>181</td>\n",
       "    </tr>\n",
       "    <tr>\n",
       "      <th>1901-1925</th>\n",
       "      <td>4980</td>\n",
       "      <td>372</td>\n",
       "    </tr>\n",
       "    <tr>\n",
       "      <th>1926-1950</th>\n",
       "      <td>10173</td>\n",
       "      <td>746</td>\n",
       "    </tr>\n",
       "    <tr>\n",
       "      <th>1951-1975</th>\n",
       "      <td>6019</td>\n",
       "      <td>1018</td>\n",
       "    </tr>\n",
       "    <tr>\n",
       "      <th>1976-2000</th>\n",
       "      <td>1377</td>\n",
       "      <td>431</td>\n",
       "    </tr>\n",
       "  </tbody>\n",
       "</table>\n",
       "</div>"
      ],
      "text/plain": [
       "           gen_m  gen_f\n",
       "periodes               \n",
       "1876-1900   2318    181\n",
       "1901-1925   4980    372\n",
       "1926-1950  10173    746\n",
       "1951-1975   6019   1018\n",
       "1976-2000   1377    431"
      ]
     },
     "execution_count": 48,
     "metadata": {},
     "output_type": "execute_result"
    }
   ],
   "source": [
    "### Fusionner les deux tableaux en utilisant l'index comme clé de jointure\n",
    "merged = pd.merge(gender_m, gender_f, left_index=True, right_index=True)\n",
    "merged.tail()"
   ]
  },
  {
   "cell_type": "code",
   "execution_count": 49,
   "id": "60190e17-c1df-4a22-9ec9-be6b77108c46",
   "metadata": {},
   "outputs": [
    {
     "data": {
      "text/html": [
       "<div>\n",
       "<style scoped>\n",
       "    .dataframe tbody tr th:only-of-type {\n",
       "        vertical-align: middle;\n",
       "    }\n",
       "\n",
       "    .dataframe tbody tr th {\n",
       "        vertical-align: top;\n",
       "    }\n",
       "\n",
       "    .dataframe thead th {\n",
       "        text-align: right;\n",
       "    }\n",
       "</style>\n",
       "<table border=\"1\" class=\"dataframe\">\n",
       "  <thead>\n",
       "    <tr style=\"text-align: right;\">\n",
       "      <th></th>\n",
       "      <th>gen_m</th>\n",
       "      <th>gen_f</th>\n",
       "    </tr>\n",
       "    <tr>\n",
       "      <th>periodes</th>\n",
       "      <th></th>\n",
       "      <th></th>\n",
       "    </tr>\n",
       "  </thead>\n",
       "  <tbody>\n",
       "    <tr>\n",
       "      <th>1876-1900</th>\n",
       "      <td>2318</td>\n",
       "      <td>181</td>\n",
       "    </tr>\n",
       "    <tr>\n",
       "      <th>1901-1925</th>\n",
       "      <td>4980</td>\n",
       "      <td>372</td>\n",
       "    </tr>\n",
       "    <tr>\n",
       "      <th>1926-1950</th>\n",
       "      <td>10173</td>\n",
       "      <td>746</td>\n",
       "    </tr>\n",
       "    <tr>\n",
       "      <th>1951-1975</th>\n",
       "      <td>6019</td>\n",
       "      <td>1018</td>\n",
       "    </tr>\n",
       "    <tr>\n",
       "      <th>1976-2000</th>\n",
       "      <td>1377</td>\n",
       "      <td>431</td>\n",
       "    </tr>\n",
       "  </tbody>\n",
       "</table>\n",
       "</div>"
      ],
      "text/plain": [
       "           gen_m  gen_f\n",
       "periodes               \n",
       "1876-1900   2318    181\n",
       "1901-1925   4980    372\n",
       "1926-1950  10173    746\n",
       "1951-1975   6019   1018\n",
       "1976-2000   1377    431"
      ]
     },
     "execution_count": 49,
     "metadata": {},
     "output_type": "execute_result"
    }
   ],
   "source": [
    "### Transformer l'index de séquence à chaîne de caractères\n",
    "# ce qui est indispensable pour l'affichage dans un graphique\n",
    "merged.index = merged.index.map(str)\n",
    "merged.tail()"
   ]
  },
  {
   "cell_type": "code",
   "execution_count": 50,
   "id": "d188f96f-feca-464b-b338-f87e3c9cb23b",
   "metadata": {},
   "outputs": [
    {
     "data": {
      "image/png": "[encoded data removed]",
      "text/plain": [
       "<Figure size 2000x600 with 1 Axes>"
      ]
     },
     "metadata": {},
     "output_type": "display_data"
    }
   ],
   "source": [
    "### Documentation\n",
    "# https://pandas.pydata.org/pandas-docs/stable/reference/api/pandas.DataFrame.plot.bar.html\n",
    "ax = merged.plot.bar(stacked=True, rot=70, fontsize=9, figsize=(20,6), color=['LightSteelBlue', 'LightCoral'])\n",
    "plt.show()"
   ]
  },
  {
   "cell_type": "markdown",
   "id": "ba5a7825-df2b-4e94-9f90-2ffb03267ee3",
   "metadata": {},
   "source": [
    "### Codage par période de dix ans\n",
    "\n",
    "Comme on voit bien dans le graphique précédent qu'il y a deux périodes avec des effectifs radicalements différents, \n",
    "on restraint la période analysée à l'époque contemporaine et on affine avec un découpage par périodes de dix ans "
   ]
  },
  {
   "cell_type": "code",
   "execution_count": 51,
   "id": "999af2f6-438d-4dbb-91b5-ad4ee449c067",
   "metadata": {
    "tags": []
   },
   "outputs": [
    {
     "data": {
      "text/plain": [
       "([1851, 1861, 1871, 1881, 1891], [1961, 1971, 1981, 1991, 2001])"
      ]
     },
     "execution_count": 51,
     "metadata": {},
     "output_type": "execute_result"
    }
   ],
   "source": [
    "l_10 = list(range(1851, 2002, 10))\n",
    "l_10[:5],l_10[-5:]"
   ]
  },
  {
   "cell_type": "code",
   "execution_count": 52,
   "id": "59fbb2a2-39c4-404b-b1c0-10be66742fae",
   "metadata": {},
   "outputs": [
    {
     "data": {
      "text/html": [
       "<div>\n",
       "<style scoped>\n",
       "    .dataframe tbody tr th:only-of-type {\n",
       "        vertical-align: middle;\n",
       "    }\n",
       "\n",
       "    .dataframe tbody tr th {\n",
       "        vertical-align: top;\n",
       "    }\n",
       "\n",
       "    .dataframe thead th {\n",
       "        text-align: right;\n",
       "    }\n",
       "</style>\n",
       "<table border=\"1\" class=\"dataframe\">\n",
       "  <thead>\n",
       "    <tr style=\"text-align: right;\">\n",
       "      <th></th>\n",
       "      <th>person_uri</th>\n",
       "      <th>person_label</th>\n",
       "      <th>genderUri</th>\n",
       "      <th>birthYear</th>\n",
       "      <th>genCode</th>\n",
       "      <th>periodes</th>\n",
       "      <th>per_10</th>\n",
       "    </tr>\n",
       "    <tr>\n",
       "      <th>id</th>\n",
       "      <th></th>\n",
       "      <th></th>\n",
       "      <th></th>\n",
       "      <th></th>\n",
       "      <th></th>\n",
       "      <th></th>\n",
       "      <th></th>\n",
       "    </tr>\n",
       "  </thead>\n",
       "  <tbody>\n",
       "    <tr>\n",
       "      <th>0</th>\n",
       "      <td>http://www.wikidata.org/entity/Q855257</td>\n",
       "      <td>Blasius of Parma</td>\n",
       "      <td>http://www.wikidata.org/entity/Q6581097</td>\n",
       "      <td>1355</td>\n",
       "      <td>M</td>\n",
       "      <td>1351-1375</td>\n",
       "      <td>NaN</td>\n",
       "    </tr>\n",
       "    <tr>\n",
       "      <th>1</th>\n",
       "      <td>http://www.wikidata.org/entity/Q4121967</td>\n",
       "      <td>Ibn al-Majdi</td>\n",
       "      <td>http://www.wikidata.org/entity/Q6581097</td>\n",
       "      <td>1359</td>\n",
       "      <td>M</td>\n",
       "      <td>1351-1375</td>\n",
       "      <td>NaN</td>\n",
       "    </tr>\n",
       "    <tr>\n",
       "      <th>2</th>\n",
       "      <td>http://www.wikidata.org/entity/Q9168741</td>\n",
       "      <td>Benedict Makra</td>\n",
       "      <td>http://www.wikidata.org/entity/Q6581097</td>\n",
       "      <td>1360</td>\n",
       "      <td>M</td>\n",
       "      <td>1351-1375</td>\n",
       "      <td>NaN</td>\n",
       "    </tr>\n",
       "  </tbody>\n",
       "</table>\n",
       "</div>"
      ],
      "text/plain": [
       "                                 person_uri      person_label  \\\n",
       "id                                                              \n",
       "0    http://www.wikidata.org/entity/Q855257  Blasius of Parma   \n",
       "1   http://www.wikidata.org/entity/Q4121967      Ibn al-Majdi   \n",
       "2   http://www.wikidata.org/entity/Q9168741    Benedict Makra   \n",
       "\n",
       "                                  genderUri  birthYear genCode   periodes  \\\n",
       "id                                                                          \n",
       "0   http://www.wikidata.org/entity/Q6581097       1355       M  1351-1375   \n",
       "1   http://www.wikidata.org/entity/Q6581097       1359       M  1351-1375   \n",
       "2   http://www.wikidata.org/entity/Q6581097       1360       M  1351-1375   \n",
       "\n",
       "   per_10  \n",
       "id         \n",
       "0     NaN  \n",
       "1     NaN  \n",
       "2     NaN  "
      ]
     },
     "execution_count": 52,
     "metadata": {},
     "output_type": "execute_result"
    }
   ],
   "source": [
    "### Découpage par décennies\n",
    "## fonction pd.cut : https://pandas.pydata.org/pandas-docs/stable/reference/api/pandas.cut.html\n",
    "\n",
    "cdf_p['per_10'] = pd.cut(cdf_p['birthYear'], l_10, right=False)\n",
    "\n",
    "### Transformer le code ajouté pour qu'il soit plus lisible\n",
    "# noter qu'on a arrondi les valeurs\n",
    "cdf_p['per_10'] = cdf_p['per_10'].apply(lambda x : str(int(x.left))+'-'+ str(int(x.right)-1))\n",
    "\n",
    "# Inspection\n",
    "cdf_p.head(3)"
   ]
  },
  {
   "cell_type": "code",
   "execution_count": 53,
   "id": "1c28f1d0-f1e2-4dfc-9892-2b3204544f45",
   "metadata": {},
   "outputs": [
    {
     "data": {
      "text/html": [
       "<div>\n",
       "<style scoped>\n",
       "    .dataframe tbody tr th:only-of-type {\n",
       "        vertical-align: middle;\n",
       "    }\n",
       "\n",
       "    .dataframe tbody tr th {\n",
       "        vertical-align: top;\n",
       "    }\n",
       "\n",
       "    .dataframe thead th {\n",
       "        text-align: right;\n",
       "    }\n",
       "</style>\n",
       "<table border=\"1\" class=\"dataframe\">\n",
       "  <thead>\n",
       "    <tr style=\"text-align: right;\">\n",
       "      <th></th>\n",
       "      <th>gen_m</th>\n",
       "    </tr>\n",
       "    <tr>\n",
       "      <th>per_10</th>\n",
       "      <th></th>\n",
       "    </tr>\n",
       "  </thead>\n",
       "  <tbody>\n",
       "    <tr>\n",
       "      <th>1951-1960</th>\n",
       "      <td>3110</td>\n",
       "    </tr>\n",
       "    <tr>\n",
       "      <th>1961-1970</th>\n",
       "      <td>2162</td>\n",
       "    </tr>\n",
       "    <tr>\n",
       "      <th>1971-1980</th>\n",
       "      <td>1279</td>\n",
       "    </tr>\n",
       "    <tr>\n",
       "      <th>1981-1990</th>\n",
       "      <td>487</td>\n",
       "    </tr>\n",
       "    <tr>\n",
       "      <th>1991-2000</th>\n",
       "      <td>358</td>\n",
       "    </tr>\n",
       "  </tbody>\n",
       "</table>\n",
       "</div>"
      ],
      "text/plain": [
       "           gen_m\n",
       "per_10          \n",
       "1951-1960   3110\n",
       "1961-1970   2162\n",
       "1971-1980   1279\n",
       "1981-1990    487\n",
       "1991-2000    358"
      ]
     },
     "execution_count": 53,
     "metadata": {},
     "output_type": "execute_result"
    }
   ],
   "source": [
    "### On regroupe par genre comme ci-dessus\n",
    "gender_m_10 = pd.DataFrame(cdf_p[(cdf_p.genCode == 'M') & (cdf_p.birthYear > 1850)].groupby('per_10').size())\n",
    "gender_m_10.columns = ['gen_m']\n",
    "gender_m_10.tail()\n"
   ]
  },
  {
   "cell_type": "code",
   "execution_count": 54,
   "id": "0e28a9c3-ab14-40db-bf3a-469dbcb93500",
   "metadata": {},
   "outputs": [
    {
     "data": {
      "text/html": [
       "<div>\n",
       "<style scoped>\n",
       "    .dataframe tbody tr th:only-of-type {\n",
       "        vertical-align: middle;\n",
       "    }\n",
       "\n",
       "    .dataframe tbody tr th {\n",
       "        vertical-align: top;\n",
       "    }\n",
       "\n",
       "    .dataframe thead th {\n",
       "        text-align: right;\n",
       "    }\n",
       "</style>\n",
       "<table border=\"1\" class=\"dataframe\">\n",
       "  <thead>\n",
       "    <tr style=\"text-align: right;\">\n",
       "      <th></th>\n",
       "      <th>gen_f</th>\n",
       "    </tr>\n",
       "    <tr>\n",
       "      <th>per_10</th>\n",
       "      <th></th>\n",
       "    </tr>\n",
       "  </thead>\n",
       "  <tbody>\n",
       "    <tr>\n",
       "      <th>1951-1960</th>\n",
       "      <td>412</td>\n",
       "    </tr>\n",
       "    <tr>\n",
       "      <th>1961-1970</th>\n",
       "      <td>416</td>\n",
       "    </tr>\n",
       "    <tr>\n",
       "      <th>1971-1980</th>\n",
       "      <td>346</td>\n",
       "    </tr>\n",
       "    <tr>\n",
       "      <th>1981-1990</th>\n",
       "      <td>198</td>\n",
       "    </tr>\n",
       "    <tr>\n",
       "      <th>1991-2000</th>\n",
       "      <td>77</td>\n",
       "    </tr>\n",
       "  </tbody>\n",
       "</table>\n",
       "</div>"
      ],
      "text/plain": [
       "           gen_f\n",
       "per_10          \n",
       "1951-1960    412\n",
       "1961-1970    416\n",
       "1971-1980    346\n",
       "1981-1990    198\n",
       "1991-2000     77"
      ]
     },
     "execution_count": 54,
     "metadata": {},
     "output_type": "execute_result"
    }
   ],
   "source": [
    "### Idem\n",
    "gender_f_10 = pd.DataFrame(cdf_p[(cdf_p.genCode == 'F')& (cdf_p.birthYear > 1850)].groupby('per_10').size())\n",
    "gender_f_10.columns = ['gen_f']\n",
    "gender_f_10.tail()\n"
   ]
  },
  {
   "cell_type": "code",
   "execution_count": 55,
   "id": "ebcbeed3-851b-416e-9f30-d1251ac5e579",
   "metadata": {},
   "outputs": [
    {
     "data": {
      "text/html": [
       "<div>\n",
       "<style scoped>\n",
       "    .dataframe tbody tr th:only-of-type {\n",
       "        vertical-align: middle;\n",
       "    }\n",
       "\n",
       "    .dataframe tbody tr th {\n",
       "        vertical-align: top;\n",
       "    }\n",
       "\n",
       "    .dataframe thead th {\n",
       "        text-align: right;\n",
       "    }\n",
       "</style>\n",
       "<table border=\"1\" class=\"dataframe\">\n",
       "  <thead>\n",
       "    <tr style=\"text-align: right;\">\n",
       "      <th></th>\n",
       "      <th>gen_m</th>\n",
       "      <th>gen_f</th>\n",
       "    </tr>\n",
       "    <tr>\n",
       "      <th>per_10</th>\n",
       "      <th></th>\n",
       "      <th></th>\n",
       "    </tr>\n",
       "  </thead>\n",
       "  <tbody>\n",
       "    <tr>\n",
       "      <th>1951-1960</th>\n",
       "      <td>3110</td>\n",
       "      <td>412</td>\n",
       "    </tr>\n",
       "    <tr>\n",
       "      <th>1961-1970</th>\n",
       "      <td>2162</td>\n",
       "      <td>416</td>\n",
       "    </tr>\n",
       "    <tr>\n",
       "      <th>1971-1980</th>\n",
       "      <td>1279</td>\n",
       "      <td>346</td>\n",
       "    </tr>\n",
       "    <tr>\n",
       "      <th>1981-1990</th>\n",
       "      <td>487</td>\n",
       "      <td>198</td>\n",
       "    </tr>\n",
       "    <tr>\n",
       "      <th>1991-2000</th>\n",
       "      <td>358</td>\n",
       "      <td>77</td>\n",
       "    </tr>\n",
       "  </tbody>\n",
       "</table>\n",
       "</div>"
      ],
      "text/plain": [
       "           gen_m  gen_f\n",
       "per_10                 \n",
       "1951-1960   3110    412\n",
       "1961-1970   2162    416\n",
       "1971-1980   1279    346\n",
       "1981-1990    487    198\n",
       "1991-2000    358     77"
      ]
     },
     "execution_count": 55,
     "metadata": {},
     "output_type": "execute_result"
    }
   ],
   "source": [
    "merged_10 = pd.merge(gender_m_10, gender_f_10, left_index=True, right_index=True)\n",
    "merged_10.tail()"
   ]
  },
  {
   "cell_type": "code",
   "execution_count": 56,
   "id": "ae8f6224-9c2b-47ce-ace0-c1d4a05c4869",
   "metadata": {},
   "outputs": [
    {
     "data": {
      "text/html": [
       "<div>\n",
       "<style scoped>\n",
       "    .dataframe tbody tr th:only-of-type {\n",
       "        vertical-align: middle;\n",
       "    }\n",
       "\n",
       "    .dataframe tbody tr th {\n",
       "        vertical-align: top;\n",
       "    }\n",
       "\n",
       "    .dataframe thead th {\n",
       "        text-align: right;\n",
       "    }\n",
       "</style>\n",
       "<table border=\"1\" class=\"dataframe\">\n",
       "  <thead>\n",
       "    <tr style=\"text-align: right;\">\n",
       "      <th></th>\n",
       "      <th>gen_m</th>\n",
       "      <th>gen_f</th>\n",
       "      <th>tot</th>\n",
       "    </tr>\n",
       "    <tr>\n",
       "      <th>per_10</th>\n",
       "      <th></th>\n",
       "      <th></th>\n",
       "      <th></th>\n",
       "    </tr>\n",
       "  </thead>\n",
       "  <tbody>\n",
       "    <tr>\n",
       "      <th>1951-1960</th>\n",
       "      <td>3110</td>\n",
       "      <td>412</td>\n",
       "      <td>3522</td>\n",
       "    </tr>\n",
       "    <tr>\n",
       "      <th>1961-1970</th>\n",
       "      <td>2162</td>\n",
       "      <td>416</td>\n",
       "      <td>2578</td>\n",
       "    </tr>\n",
       "    <tr>\n",
       "      <th>1971-1980</th>\n",
       "      <td>1279</td>\n",
       "      <td>346</td>\n",
       "      <td>1625</td>\n",
       "    </tr>\n",
       "    <tr>\n",
       "      <th>1981-1990</th>\n",
       "      <td>487</td>\n",
       "      <td>198</td>\n",
       "      <td>685</td>\n",
       "    </tr>\n",
       "    <tr>\n",
       "      <th>1991-2000</th>\n",
       "      <td>358</td>\n",
       "      <td>77</td>\n",
       "      <td>435</td>\n",
       "    </tr>\n",
       "  </tbody>\n",
       "</table>\n",
       "</div>"
      ],
      "text/plain": [
       "           gen_m  gen_f   tot\n",
       "per_10                       \n",
       "1951-1960   3110    412  3522\n",
       "1961-1970   2162    416  2578\n",
       "1971-1980   1279    346  1625\n",
       "1981-1990    487    198   685\n",
       "1991-2000    358     77   435"
      ]
     },
     "execution_count": 56,
     "metadata": {},
     "output_type": "execute_result"
    }
   ],
   "source": [
    "### On transforme le type de valeur de l'index\n",
    "# et on ajoute une colonne avec le total\n",
    "merged_10.index = merged_10.index.map(str)\n",
    "merged_10['tot']=merged_10['gen_m']+merged_10['gen_f']\n",
    "merged_10.tail()"
   ]
  },
  {
   "cell_type": "code",
   "execution_count": 57,
   "id": "5569f274-e09d-4be4-a3bc-352f99d58997",
   "metadata": {},
   "outputs": [
    {
     "data": {
      "text/plain": [
       "[0.98, 0.95, 0.96]"
      ]
     },
     "execution_count": 57,
     "metadata": {},
     "output_type": "execute_result"
    }
   ],
   "source": [
    "### On prépare les valeurs pour l'affichage des fréquences (proportion par rapport au total)\n",
    "\n",
    "# liste qui contient toutes les valeurs à la suite\n",
    "m_f = merged_10.gen_m.to_list()+merged_10.gen_f.to_list()\n",
    "\n",
    "# liste d'égale longueur que la précédente qui contient \n",
    "# les valeurs de l'index, i.e. les périodes\n",
    "tot = merged_10.tot.to_list()*2\n",
    "\n",
    "# liste qui contient les valeurs des fréquences\n",
    "lp = [round(v/t, 2) for v,t in zip(m_f, tot)]\n",
    "lp[:3]"
   ]
  },
  {
   "cell_type": "code",
   "execution_count": 58,
   "id": "928a67b9-19f2-44e7-b4eb-7b20b534f73c",
   "metadata": {},
   "outputs": [
    {
     "data": {
      "image/png": "[encoded data removed]",
      "text/plain": [
       "<Figure size 2000x800 with 1 Axes>"
      ]
     },
     "metadata": {},
     "output_type": "display_data"
    }
   ],
   "source": [
    "### Graphique avec la distribution par période et genre (M,F)\n",
    "# Noter que les effectifs du genre 'Autres' étant très faibles,\n",
    "# on ne les analyse pas de manière sérielle mais on peut les analyser qualitatiement\n",
    "\n",
    "ax = merged_10.plot.bar(stacked=True, y=['gen_m', 'gen_f'], \\\n",
    "                        rot=70, fontsize=9, figsize=(20,8), color=['LightSteelBlue', 'LightCoral'])\n",
    "\n",
    "\n",
    "### https://www.pythoncharts.com/matplotlib/stacked-bar-charts-labels/\n",
    "\n",
    "\n",
    "## On ajoute une étiquette concernant la valeur de fréquence\n",
    "# à chaque rectangle dans le graphe, en utilisant la list 'lp' préparée précédemment\n",
    "# Il y a autant de triangles que les valeurs d'index x le nombre de variables\n",
    "\n",
    "for bar,v in zip(ax.patches,lp): \n",
    "\n",
    "    ax.text(\n",
    "      # Met les étiquette aux centre des rectangles\n",
    "      bar.get_x() + bar.get_width() / 2,\n",
    "        \n",
    "      # Ajoute les coordonnées verticales\n",
    "      bar.get_height()/2 + bar.get_y(), \n",
    "      \n",
    "      # Ajoute les valeurs\n",
    "      v,\n",
    "\n",
    "      # centre et met du style aux étiquettes\n",
    "      ha='center',\n",
    "      color='black',\n",
    "      weight='bold',\n",
    "      size=10\n",
    "  )\n",
    "\n",
    "plt.ylabel('Effectifs par période avec proportion des genres')\n",
    "plt.xlabel('Périodes')\n",
    "plt.title('Distribution des naissances par périodes de dix ans, proportion des genres par période')\n",
    "\n",
    "## On peut enregistrer l'image dans un fichier (noter le dossier créé préalablement)\n",
    "# qu'on pourra ensuite introduire dans un travail et commenter\n",
    "\n",
    "# Doc.: https://matplotlib.org/stable/api/_as_gen/matplotlib.pyplot.savefig.html\n",
    "plt.savefig('images/naissances_distribution_10ans_genre.jpg', bbox_inches='tight',\n",
    "                       pad_inches=0.2)\n",
    "plt.show()"
   ]
  }
 ],
 "metadata": {
  "kernelspec": {
   "display_name": "py310_data_analysis",
   "language": "python",
   "name": "py310_data_analysis"
  },
  "language_info": {
   "codemirror_mode": {
    "name": "ipython",
    "version": 3
   },
   "file_extension": ".py",
   "mimetype": "text/x-python",
   "name": "python",
   "nbconvert_exporter": "python",
   "pygments_lexer": "ipython3",
   "version": "3.10.9"
  }
 },
 "nbformat": 4,
 "nbformat_minor": 5
}
