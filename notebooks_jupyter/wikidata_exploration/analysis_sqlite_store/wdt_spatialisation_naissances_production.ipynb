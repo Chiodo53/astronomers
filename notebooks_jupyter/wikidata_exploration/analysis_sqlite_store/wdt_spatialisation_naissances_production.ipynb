{
 "cells": [
  {
   "cell_type": "markdown",
   "id": "968f0e36-1667-48db-8fc5-cd38657c388d",
   "metadata": {},
   "source": [
    "# Spatialisation des naissances: production des données"
   ]
  },
  {
   "cell_type": "code",
   "execution_count": 1,
   "id": "262111d8-0efe-4698-9478-996484410989",
   "metadata": {},
   "outputs": [],
   "source": [
    "### Noter qu'il faudra avoir installé toutes les librairies nécessaires\n",
    "# dans l'environnement conda utilisé pour exécuter ce carnet\n",
    "import pandas as pd\n",
    "import geopandas as gpd\n",
    "#from shapely.geometry import LineString\n",
    "from geopandas.tools import sjoin\n",
    "from geodatasets import get_path\n",
    "#import networkx as nx\n",
    "import matplotlib.pyplot as plt\n",
    "import plotly.express as px\n",
    "from itables import init_notebook_mode, show\n",
    "import numpy as np\n",
    "#import seaborn as sns\n",
    "import json\n",
    "import IPython"
   ]
  },
  {
   "cell_type": "code",
   "execution_count": 2,
   "id": "3b245bf8",
   "metadata": {},
   "outputs": [],
   "source": [
    "### Librairies déjà installées avec Python\n",
    "import pprint\n",
    "import sqlite3 as sql\n",
    "import sys\n",
    "from importlib import reload\n"
   ]
  },
  {
   "cell_type": "code",
   "execution_count": 3,
   "id": "368af29e",
   "metadata": {},
   "outputs": [],
   "source": [
    "### Importer un module de fonctions crées ad hoc\n",
    "##  ATTENTION : le fichier 'sparql_functions.py' doit se trouver \n",
    "#   dans un dossier qui se situe dans le chemin ('path') de recherche\n",
    "#   vu par le présent carnet Jupyter afin que\n",
    "#   l'importation fonctionne correctement\n",
    "\n",
    "# Add parent directory to the path\n",
    "sys.path.insert(0, '..')\n",
    "\n",
    "### If you want to add the parent-parent directory,\n",
    "sys.path.insert(0, '../..')\n",
    "\n",
    "\n",
    "import sparql_functions as spqf"
   ]
  },
  {
   "cell_type": "markdown",
   "id": "1bd1f3ba-fc34-43de-9da8-c051edfa394b",
   "metadata": {},
   "source": [
    "## Production des données\n",
    "\n"
   ]
  },
  {
   "cell_type": "code",
   "execution_count": 5,
   "id": "7a4b6787",
   "metadata": {},
   "outputs": [],
   "source": [
    "## define SPARQL enpoint\n",
    "endpoint = \"https://query.wikidata.org/sparql\""
   ]
  },
  {
   "cell_type": "code",
   "execution_count": 6,
   "id": "3dd37a7a",
   "metadata": {},
   "outputs": [],
   "source": [
    "query = \"\"\"\n",
    "SELECT DISTINCT ?item ?year ?birthPlace ?birthPlaceLabel  ?coordinates # ?type ?typeLabel\n",
    "        WHERE {\n",
    "            {\n",
    "            {?item wdt:P106 wd:Q169470}\n",
    "          UNION \n",
    "          {?item wdt:P106 wd:Q11063}\n",
    "            UNION\n",
    "              {?item wdt:P106 wd:Q155647}\n",
    "              }\n",
    "          \n",
    "          ?item wdt:P31 wd:Q5;  # Any instance of a human.\n",
    "              wdt:P569 ?birthDate;\n",
    "                wdt:P19 ?birthPlace.\n",
    "          OPTIONAL {\n",
    "            ?birthPlace wdt:P625 ?coordinates.\n",
    "              # ?birthPlace  wdt:P31 ?type\n",
    "          }\n",
    "        BIND(REPLACE(str(?birthDate), \"(.*)([0-9]{4})(.*)\", \"$2\") AS ?year)\n",
    "        FILTER(xsd:integer(?year) > 1350 && xsd:integer(?year) < 1976 )\n",
    "          \n",
    "          SERVICE wikibase:label { bd:serviceParam wikibase:language \"en\" }\n",
    "        } \n",
    "     ORDER BY ?year ?item\n",
    "\"\"\""
   ]
  },
  {
   "cell_type": "code",
   "execution_count": null,
   "id": "7a6d4acb",
   "metadata": {},
   "outputs": [],
   "source": [
    "### Executer la requête avec les fonctions de la librairie locale\n",
    "qr = spqf.get_json_sparql_result(endpoint,query)"
   ]
  },
  {
   "cell_type": "code",
   "execution_count": 12,
   "id": "06474369",
   "metadata": {},
   "outputs": [
    {
     "name": "stdout",
     "output_type": "stream",
     "text": [
      "22307\n"
     ]
    },
    {
     "data": {
      "text/plain": [
       "[['http://www.wikidata.org/entity/Q855257',\n",
       "  '1355',\n",
       "  'http://www.wikidata.org/entity/Q2683',\n",
       "  'Parma',\n",
       "  'Point(10.328 44.801472222)'],\n",
       " ['http://www.wikidata.org/entity/Q4121967',\n",
       "  '1359',\n",
       "  'http://www.wikidata.org/entity/Q85',\n",
       "  'Cairo',\n",
       "  'Point(31.235833333 30.044444444)'],\n",
       " ['http://www.wikidata.org/entity/Q9168741',\n",
       "  '1360',\n",
       "  'http://www.wikidata.org/entity/Q266623',\n",
       "  'Szatmár County',\n",
       "  'Point(22.4667 47.6833)']]"
      ]
     },
     "execution_count": 12,
     "metadata": {},
     "output_type": "execute_result"
    }
   ],
   "source": [
    "r = [l for l in spqf.sparql_result_to_list(qr)]\n",
    "print(len(r))\n",
    "r[:3]"
   ]
  },
  {
   "cell_type": "code",
   "execution_count": 13,
   "id": "de56e9e6",
   "metadata": {},
   "outputs": [
    {
     "data": {
      "text/html": [
       "<div>\n",
       "<style scoped>\n",
       "    .dataframe tbody tr th:only-of-type {\n",
       "        vertical-align: middle;\n",
       "    }\n",
       "\n",
       "    .dataframe tbody tr th {\n",
       "        vertical-align: top;\n",
       "    }\n",
       "\n",
       "    .dataframe thead th {\n",
       "        text-align: right;\n",
       "    }\n",
       "</style>\n",
       "<table border=\"1\" class=\"dataframe\">\n",
       "  <thead>\n",
       "    <tr style=\"text-align: right;\">\n",
       "      <th></th>\n",
       "      <th>personUri</th>\n",
       "      <th>birthYear</th>\n",
       "      <th>placeUri</th>\n",
       "      <th>placeLabel</th>\n",
       "      <th>placeCoord</th>\n",
       "    </tr>\n",
       "  </thead>\n",
       "  <tbody>\n",
       "    <tr>\n",
       "      <th>0</th>\n",
       "      <td>http://www.wikidata.org/entity/Q855257</td>\n",
       "      <td>1355</td>\n",
       "      <td>http://www.wikidata.org/entity/Q2683</td>\n",
       "      <td>Parma</td>\n",
       "      <td>Point(10.328 44.801472222)</td>\n",
       "    </tr>\n",
       "    <tr>\n",
       "      <th>1</th>\n",
       "      <td>http://www.wikidata.org/entity/Q4121967</td>\n",
       "      <td>1359</td>\n",
       "      <td>http://www.wikidata.org/entity/Q85</td>\n",
       "      <td>Cairo</td>\n",
       "      <td>Point(31.235833333 30.044444444)</td>\n",
       "    </tr>\n",
       "    <tr>\n",
       "      <th>2</th>\n",
       "      <td>http://www.wikidata.org/entity/Q9168741</td>\n",
       "      <td>1360</td>\n",
       "      <td>http://www.wikidata.org/entity/Q266623</td>\n",
       "      <td>Szatmár County</td>\n",
       "      <td>Point(22.4667 47.6833)</td>\n",
       "    </tr>\n",
       "    <tr>\n",
       "      <th>3</th>\n",
       "      <td>http://www.wikidata.org/entity/Q1386256</td>\n",
       "      <td>1364</td>\n",
       "      <td>http://www.wikidata.org/entity/Q40738</td>\n",
       "      <td>Bursa</td>\n",
       "      <td>Point(29.080538888 40.191330555)</td>\n",
       "    </tr>\n",
       "    <tr>\n",
       "      <th>4</th>\n",
       "      <td>http://www.wikidata.org/entity/Q326797</td>\n",
       "      <td>1368</td>\n",
       "      <td>http://www.wikidata.org/entity/Q327764</td>\n",
       "      <td>Prachatice</td>\n",
       "      <td>Point(13.997533003 49.013013368)</td>\n",
       "    </tr>\n",
       "  </tbody>\n",
       "</table>\n",
       "</div>"
      ],
      "text/plain": [
       "                                 personUri birthYear  \\\n",
       "0   http://www.wikidata.org/entity/Q855257      1355   \n",
       "1  http://www.wikidata.org/entity/Q4121967      1359   \n",
       "2  http://www.wikidata.org/entity/Q9168741      1360   \n",
       "3  http://www.wikidata.org/entity/Q1386256      1364   \n",
       "4   http://www.wikidata.org/entity/Q326797      1368   \n",
       "\n",
       "                                 placeUri      placeLabel  \\\n",
       "0    http://www.wikidata.org/entity/Q2683           Parma   \n",
       "1      http://www.wikidata.org/entity/Q85           Cairo   \n",
       "2  http://www.wikidata.org/entity/Q266623  Szatmár County   \n",
       "3   http://www.wikidata.org/entity/Q40738           Bursa   \n",
       "4  http://www.wikidata.org/entity/Q327764      Prachatice   \n",
       "\n",
       "                         placeCoord  \n",
       "0        Point(10.328 44.801472222)  \n",
       "1  Point(31.235833333 30.044444444)  \n",
       "2            Point(22.4667 47.6833)  \n",
       "3  Point(29.080538888 40.191330555)  \n",
       "4  Point(13.997533003 49.013013368)  "
      ]
     },
     "execution_count": 13,
     "metadata": {},
     "output_type": "execute_result"
    }
   ],
   "source": [
    "### Créer un DataFrame à partir du résultat\n",
    "df_r = pd.DataFrame(r)\n",
    "df_r.columns = ['personUri', 'birthYear', 'placeUri', 'placeLabel', 'placeCoord']\n",
    "df_r.head()"
   ]
  },
  {
   "cell_type": "code",
   "execution_count": 14,
   "id": "1768f268",
   "metadata": {},
   "outputs": [
    {
     "name": "stdout",
     "output_type": "stream",
     "text": [
      "<class 'pandas.core.frame.DataFrame'>\n",
      "RangeIndex: 22307 entries, 0 to 22306\n",
      "Data columns (total 5 columns):\n",
      " #   Column      Non-Null Count  Dtype \n",
      "---  ------      --------------  ----- \n",
      " 0   personUri   22307 non-null  object\n",
      " 1   birthYear   22307 non-null  object\n",
      " 2   placeUri    22307 non-null  object\n",
      " 3   placeLabel  22307 non-null  object\n",
      " 4   placeCoord  22307 non-null  object\n",
      "dtypes: object(5)\n",
      "memory usage: 871.5+ KB\n"
     ]
    }
   ],
   "source": [
    "df_r.info()"
   ]
  },
  {
   "cell_type": "markdown",
   "id": "ae1b5c07-3f42-4dba-8bd5-fc0ef37c8c48",
   "metadata": {},
   "source": [
    "## Insérer les données dans la base de données"
   ]
  },
  {
   "cell_type": "code",
   "execution_count": 4,
   "id": "8122f0ff",
   "metadata": {},
   "outputs": [
    {
     "data": {
      "text/plain": [
       "<sqlite3.Connection at 0x7f3dac79e340>"
      ]
     },
     "execution_count": 4,
     "metadata": {},
     "output_type": "execute_result"
    }
   ],
   "source": [
    "### Se connecter à la base de données dans laquelle on va insérer\n",
    "# le résultat de la requête SPARQL\n",
    "cn = sql.connect('../../data/astronomers_import.db')\n",
    "cn"
   ]
  },
  {
   "cell_type": "code",
   "execution_count": 16,
   "id": "f59829d1",
   "metadata": {},
   "outputs": [],
   "source": [
    "### Créer une nouvelle table contenant le DataFrame\n",
    "# Si on tente de la recréer, alor qu'elle existe déjà,\n",
    "# un message d'erreur est renvoyé\n",
    "try:\n",
    "    l = df_r.to_sql(name='wdt_person_birth_place', con=cn, if_exists='fail')\n",
    "except Exception as e:\n",
    "    print('Erreur: ',  e)"
   ]
  }
 ],
 "metadata": {
  "kernelspec": {
   "display_name": "py310_data_analysis",
   "language": "python",
   "name": "py310_data_analysis"
  },
  "language_info": {
   "codemirror_mode": {
    "name": "ipython",
    "version": 3
   },
   "file_extension": ".py",
   "mimetype": "text/x-python",
   "name": "python",
   "nbconvert_exporter": "python",
   "pygments_lexer": "ipython3",
   "version": "3.10.9"
  }
 },
 "nbformat": 4,
 "nbformat_minor": 5
}
